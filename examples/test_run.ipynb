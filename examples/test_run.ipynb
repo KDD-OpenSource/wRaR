{
 "cells": [
  {
   "cell_type": "code",
   "execution_count": null,
   "metadata": {
    "collapsed": true
   },
   "outputs": [],
   "source": [
    "%load_ext autoreload\n",
    "%autoreload 2"
   ]
  },
  {
   "cell_type": "code",
   "execution_count": 62,
   "metadata": {
    "collapsed": false
   },
   "outputs": [],
   "source": [
    "import pandas as pd\n",
    "import numpy as np\n",
    "from hics.incremental_correlation import IncrementalCorrelation\n",
    "from hics.result_storage import DefaultResultStorage\n",
    "from hics.scored_slices import ScoredSlices\n",
    "import csrar\n",
    "import collections"
   ]
  },
  {
   "cell_type": "code",
   "execution_count": 2,
   "metadata": {
    "collapsed": false
   },
   "outputs": [],
   "source": [
    "data = pd.read_csv('../data/Injector_Median100k.csv')"
   ]
  },
  {
   "cell_type": "code",
   "execution_count": 3,
   "metadata": {
    "collapsed": false
   },
   "outputs": [
    {
     "name": "stderr",
     "output_type": "stream",
     "text": [
      "/Users/danthe/.pyenv/versions/3.5.0/lib/python3.5/site-packages/ipykernel_launcher.py:3: DeprecationWarning: \n",
      "Panel is deprecated and will be removed in a future version.\n",
      "The recommended way to represent these types of 3-dimensional data are with a MultiIndex on a DataFrame, via the Panel.to_frame() method\n",
      "Alternatively, you can use the xarray package http://xarray.pydata.org/en/stable/.\n",
      "Pandas provides a `.to_xarray()` method to help automate this conversion.\n",
      "\n",
      "  This is separate from the ipykernel package so we can avoid doing imports until\n"
     ]
    }
   ],
   "source": [
    "target = 'Col174'\n",
    "input_features = [ft for ft in data.columns.values if ft != target]\n",
    "storage = DefaultResultStorage(input_features)\n",
    "correlation = IncrementalCorrelation(data, target, storage, iterations = 10, alpha = 0.1, drop_discrete = False)"
   ]
  },
  {
   "cell_type": "code",
   "execution_count": null,
   "metadata": {
    "collapsed": false
   },
   "outputs": [],
   "source": [
    "correlation.update_bivariate_relevancies(runs=1)"
   ]
  },
  {
   "cell_type": "code",
   "execution_count": 8,
   "metadata": {
    "collapsed": false
   },
   "outputs": [
    {
     "name": "stdout",
     "output_type": "stream",
     "text": [
      "19.1 s ± 3.54 s per loop (mean ± std. dev. of 7 runs, 1 loop each)\n"
     ]
    }
   ],
   "source": [
    "%timeit correlation.update_redundancies(k=5, runs=10)"
   ]
  },
  {
   "cell_type": "code",
   "execution_count": 9,
   "metadata": {
    "collapsed": false
   },
   "outputs": [
    {
     "name": "stdout",
     "output_type": "stream",
     "text": [
      "34.4 s ± 6.95 s per loop (mean ± std. dev. of 7 runs, 1 loop each)\n"
     ]
    }
   ],
   "source": [
    "%timeit correlation.update_redundancies(k=10, runs=10)"
   ]
  },
  {
   "cell_type": "code",
   "execution_count": null,
   "metadata": {
    "collapsed": false,
    "scrolled": true
   },
   "outputs": [],
   "source": [
    "correlation.update_multivariate_relevancies(k = 7, runs = 50)"
   ]
  },
  {
   "cell_type": "code",
   "execution_count": null,
   "metadata": {
    "collapsed": false
   },
   "outputs": [],
   "source": [
    "correlation.update_multivariate_relevancies(k = 3, runs = 50, fixed_features = ['1'])"
   ]
  },
  {
   "cell_type": "code",
   "execution_count": null,
   "metadata": {
    "collapsed": true
   },
   "outputs": [],
   "source": [
    "sorted(storage.redundancies.redundancy['Col4'].items(), key=lambda r: r[1])"
   ]
  },
  {
   "cell_type": "code",
   "execution_count": 11,
   "metadata": {
    "collapsed": false
   },
   "outputs": [
    {
     "name": "stdout",
     "output_type": "stream",
     "text": [
      "        Col0      Col1  Col2  Col3  Col4  Col5  Col6  Col7  Col8      Col9  \\\n",
      "Col0     0.0  0.000000   0.0   0.0   0.0   0.0   0.0   0.0   0.0  0.000000   \n",
      "Col1     0.0  0.000000   0.0   0.0   0.0   0.0   0.0   0.0   0.0  0.000000   \n",
      "Col2     0.0  0.000000   0.0   0.0   0.0   0.0   0.0   0.0   0.0  0.000000   \n",
      "Col3     0.0  0.000000   0.0   0.0   0.0   0.0   0.0   0.0   0.0  0.000000   \n",
      "Col4     0.0  0.000000   0.0   0.0   0.0   0.0   0.0   0.0   0.0  0.000000   \n",
      "Col5     0.0  0.000000   0.0   0.0   0.0   0.0   0.0   0.0   0.0  0.000000   \n",
      "Col6     0.0  0.000000   0.0   0.0   0.0   0.0   0.0   0.0   0.0  0.000000   \n",
      "Col7     0.0  0.000000   0.0   0.0   0.0   0.0   0.0   0.0   0.0  0.000000   \n",
      "Col8     0.0  0.000000   0.0   0.0   0.0   0.0   0.0   0.0   0.0  0.000000   \n",
      "Col9     0.0  0.000000   0.0   0.0   0.0   0.0   0.0   0.0   0.0  0.000000   \n",
      "Col10    0.0  0.000000   0.0   0.0   0.0   0.0   0.0   0.0   0.0  0.000000   \n",
      "Col11    0.0  0.000000   0.0   0.0   0.0   0.0   0.0   0.0   0.0  0.000000   \n",
      "Col12    0.0  0.000000   0.0   0.0   0.0   0.0   0.0   0.0   0.0  0.000000   \n",
      "Col13    0.0  0.000000   0.0   0.0   0.0   0.0   0.0   0.0   0.0  0.000000   \n",
      "Col14    0.0  0.000000   0.0   0.0   0.0   0.0   0.0   0.0   0.0  0.000000   \n",
      "Col15    0.0  0.000000   0.0   0.0   0.0   0.0   0.0   0.0   0.0  0.000000   \n",
      "Col16    0.0  0.000000   0.0   0.0   0.0   0.0   0.0   0.0   0.0  0.000000   \n",
      "Col17    0.0  0.000000   0.0   0.0   0.0   0.0   0.0   0.0   0.0  0.000000   \n",
      "Col18    0.0  0.000000   0.0   0.0   0.0   0.0   0.0   0.0   0.0  0.000000   \n",
      "Col19    0.0  0.000000   0.0   0.0   0.0   0.0   0.0   0.0   0.0  0.000000   \n",
      "Col20    0.0  0.000000   0.0   0.0   0.0   0.0   0.0   0.0   0.0  0.000000   \n",
      "Col21    0.0  0.000000   0.0   0.0   0.0   0.0   0.0   0.0   0.0  0.000000   \n",
      "Col22    0.0  0.000000   0.0   0.0   0.0   0.0   0.0   0.0   0.0  0.000000   \n",
      "Col23    0.0  0.000000   0.0   0.0   0.0   0.0   0.0   0.0   0.0  0.000000   \n",
      "Col24    0.0  0.000000   0.0   0.0   0.0   0.0   0.0   0.0   0.0  0.000000   \n",
      "Col25    0.0  0.000000   0.0   0.0   0.0   0.0   0.0   0.0   0.0  0.000000   \n",
      "Col26    0.0  0.000000   0.0   0.0   0.0   0.0   0.0   0.0   0.0  0.000000   \n",
      "Col27    0.0  0.000000   0.0   0.0   0.0   0.0   0.0   0.0   0.0  0.000000   \n",
      "Col28    0.0  0.000000   0.0   0.0   0.0   0.0   0.0   0.0   0.0  0.000000   \n",
      "Col29    0.0  0.000000   0.0   0.0   0.0   0.0   0.0   0.0   0.0  0.000000   \n",
      "...      ...       ...   ...   ...   ...   ...   ...   ...   ...       ...   \n",
      "Col144   0.0  0.000000   0.0   0.0   0.0   0.0   0.0   0.0   0.0  0.000000   \n",
      "Col145   0.0  0.000000   0.0   0.0   0.0   0.0   0.0   0.0   0.0  0.000000   \n",
      "Col146   0.0  0.000000   0.0   0.0   0.0   0.0   0.0   0.0   0.0  0.000000   \n",
      "Col147   0.0  0.000000   0.0   0.0   0.0   0.0   0.0   0.0   0.0  0.000000   \n",
      "Col148   0.0  0.000000   0.0   0.0   0.0   0.0   0.0   0.0   0.0  0.000000   \n",
      "Col149   0.0  0.000000   0.0   0.0   0.0   0.0   0.0   0.0   0.0  0.000000   \n",
      "Col150   0.0  0.000000   0.0   0.0   0.0   0.0   0.0   0.0   0.0  0.000000   \n",
      "Col151   0.0  0.000000   0.0   0.0   0.0   0.0   0.0   0.0   0.0  0.000000   \n",
      "Col152   0.0  0.000000   0.0   0.0   0.0   0.0   0.0   0.0   0.0  0.000000   \n",
      "Col153   0.0  0.001718   0.0   0.0   0.0   0.0   0.0   0.0   0.0  0.001718   \n",
      "Col154   0.0  0.000000   0.0   0.0   0.0   0.0   0.0   0.0   0.0  0.000000   \n",
      "Col155   0.0  0.000000   0.0   0.0   0.0   0.0   0.0   0.0   0.0  0.000000   \n",
      "Col156   0.0  0.000000   0.0   0.0   0.0   0.0   0.0   0.0   0.0  0.000000   \n",
      "Col157   0.0  0.000000   0.0   0.0   0.0   0.0   0.0   0.0   0.0  0.000000   \n",
      "Col158   0.0  0.000000   0.0   0.0   0.0   0.0   0.0   0.0   0.0  0.000000   \n",
      "Col159   0.0  0.000000   0.0   0.0   0.0   0.0   0.0   0.0   0.0  0.000000   \n",
      "Col160   0.0  0.000000   0.0   0.0   0.0   0.0   0.0   0.0   0.0  0.000000   \n",
      "Col161   0.0  0.000000   0.0   0.0   0.0   0.0   0.0   0.0   0.0  0.000000   \n",
      "Col162   0.0  0.000000   0.0   0.0   0.0   0.0   0.0   0.0   0.0  0.000000   \n",
      "Col163   0.0  0.000000   0.0   0.0   0.0   0.0   0.0   0.0   0.0  0.000000   \n",
      "Col164   0.0  0.000000   0.0   0.0   0.0   0.0   0.0   0.0   0.0  0.000000   \n",
      "Col165   0.0  0.000000   0.0   0.0   0.0   0.0   0.0   0.0   0.0  0.000000   \n",
      "Col166   0.0  0.000000   0.0   0.0   0.0   0.0   0.0   0.0   0.0  0.000000   \n",
      "Col167   0.0  0.000000   0.0   0.0   0.0   0.0   0.0   0.0   0.0  0.000000   \n",
      "Col168   0.0  0.000000   0.0   0.0   0.0   0.0   0.0   0.0   0.0  0.000000   \n",
      "Col169   0.0  0.000000   0.0   0.0   0.0   0.0   0.0   0.0   0.0  0.000000   \n",
      "Col170   0.0  0.000000   0.0   0.0   0.0   0.0   0.0   0.0   0.0  0.000000   \n",
      "Col171   0.0  0.000000   0.0   0.0   0.0   0.0   0.0   0.0   0.0  0.000000   \n",
      "Col172   0.0  0.000000   0.0   0.0   0.0   0.0   0.0   0.0   0.0  0.000000   \n",
      "Col173   0.0  0.000000   0.0   0.0   0.0   0.0   0.0   0.0   0.0  0.000000   \n",
      "\n",
      "         ...    Col164  Col165  Col166  Col167  Col168  Col169    Col170  \\\n",
      "Col0     ...       0.0     0.0     0.0     0.0     0.0     0.0  0.000000   \n",
      "Col1     ...       0.0     0.0     0.0     0.0     0.0     0.0  0.000000   \n",
      "Col2     ...       0.0     0.0     0.0     0.0     0.0     0.0  0.000000   \n",
      "Col3     ...       0.0     0.0     0.0     0.0     0.0     0.0  0.000000   \n",
      "Col4     ...       0.0     0.0     0.0     0.0     0.0     0.0  0.000000   \n",
      "Col5     ...       0.0     0.0     0.0     0.0     0.0     0.0  0.000000   \n",
      "Col6     ...       0.0     0.0     0.0     0.0     0.0     0.0  0.000000   \n",
      "Col7     ...       0.0     0.0     0.0     0.0     0.0     0.0  0.000000   \n",
      "Col8     ...       0.0     0.0     0.0     0.0     0.0     0.0  0.000000   \n",
      "Col9     ...       0.0     0.0     0.0     0.0     0.0     0.0  0.000000   \n",
      "Col10    ...       0.0     0.0     0.0     0.0     0.0     0.0  0.000000   \n",
      "Col11    ...       0.0     0.0     0.0     0.0     0.0     0.0  0.000000   \n",
      "Col12    ...       0.0     0.0     0.0     0.0     0.0     0.0  0.000000   \n",
      "Col13    ...       0.0     0.0     0.0     0.0     0.0     0.0  0.000000   \n",
      "Col14    ...       0.0     0.0     0.0     0.0     0.0     0.0  0.000000   \n",
      "Col15    ...       0.0     0.0     0.0     0.0     0.0     0.0  0.000000   \n",
      "Col16    ...       0.0     0.0     0.0     0.0     0.0     0.0  0.000000   \n",
      "Col17    ...       0.0     0.0     0.0     0.0     0.0     0.0  0.000000   \n",
      "Col18    ...       0.0     0.0     0.0     0.0     0.0     0.0  0.000000   \n",
      "Col19    ...       0.0     0.0     0.0     0.0     0.0     0.0  0.000000   \n",
      "Col20    ...       0.0     0.0     0.0     0.0     0.0     0.0  0.000000   \n",
      "Col21    ...       0.0     0.0     0.0     0.0     0.0     0.0  0.000000   \n",
      "Col22    ...       0.0     0.0     0.0     0.0     0.0     0.0  0.000000   \n",
      "Col23    ...       0.0     0.0     0.0     0.0     0.0     0.0  0.000000   \n",
      "Col24    ...       0.0     0.0     0.0     0.0     0.0     0.0  0.000000   \n",
      "Col25    ...       0.0     0.0     0.0     0.0     0.0     0.0  0.000000   \n",
      "Col26    ...       0.0     0.0     0.0     0.0     0.0     0.0  0.000000   \n",
      "Col27    ...       0.0     0.0     0.0     0.0     0.0     0.0  0.000000   \n",
      "Col28    ...       0.0     0.0     0.0     0.0     0.0     0.0  0.000000   \n",
      "Col29    ...       0.0     0.0     0.0     0.0     0.0     0.0  0.000000   \n",
      "...      ...       ...     ...     ...     ...     ...     ...       ...   \n",
      "Col144   ...       0.0     0.0     0.0     0.0     0.0     0.0  0.000000   \n",
      "Col145   ...       0.0     0.0     0.0     0.0     0.0     0.0  0.000000   \n",
      "Col146   ...       0.0     0.0     0.0     0.0     0.0     0.0  0.000000   \n",
      "Col147   ...       0.0     0.0     0.0     0.0     0.0     0.0  0.055715   \n",
      "Col148   ...       0.0     0.0     0.0     0.0     0.0     0.0  0.000000   \n",
      "Col149   ...       0.0     0.0     0.0     0.0     0.0     0.0  0.000000   \n",
      "Col150   ...       0.0     0.0     0.0     0.0     0.0     0.0  0.000000   \n",
      "Col151   ...       0.0     0.0     0.0     0.0     0.0     0.0  0.000000   \n",
      "Col152   ...       0.0     0.0     0.0     0.0     0.0     0.0  0.000000   \n",
      "Col153   ...       0.0     0.0     0.0     0.0     0.0     0.0  0.000000   \n",
      "Col154   ...       0.0     0.0     0.0     0.0     0.0     0.0  0.000000   \n",
      "Col155   ...       0.0     0.0     0.0     0.0     0.0     0.0  0.000000   \n",
      "Col156   ...       0.0     0.0     0.0     0.0     0.0     0.0  0.000000   \n",
      "Col157   ...       0.0     0.0     0.0     0.0     0.0     0.0  0.000000   \n",
      "Col158   ...       0.0     0.0     0.0     0.0     0.0     0.0  0.000000   \n",
      "Col159   ...       0.0     0.0     0.0     0.0     0.0     0.0  0.000000   \n",
      "Col160   ...       0.0     0.0     0.0     0.0     0.0     0.0  0.000000   \n",
      "Col161   ...       0.0     0.0     0.0     0.0     0.0     0.0  0.000000   \n",
      "Col162   ...       0.0     0.0     0.0     0.0     0.0     0.0  0.000000   \n",
      "Col163   ...       0.0     0.0     0.0     0.0     0.0     0.0  0.000000   \n",
      "Col164   ...       0.0     0.0     0.0     0.0     0.0     0.0  0.000000   \n",
      "Col165   ...       0.0     0.0     0.0     0.0     0.0     0.0  0.000000   \n",
      "Col166   ...       0.0     0.0     0.0     0.0     0.0     0.0  0.000000   \n",
      "Col167   ...       0.0     0.0     0.0     0.0     0.0     0.0  0.000000   \n",
      "Col168   ...       0.0     0.0     0.0     0.0     0.0     0.0  0.000000   \n",
      "Col169   ...       0.0     0.0     0.0     0.0     0.0     0.0  0.000000   \n",
      "Col170   ...       0.0     0.0     0.0     0.0     0.0     0.0  0.000000   \n",
      "Col171   ...       0.0     0.0     0.0     0.0     0.0     0.0  0.000000   \n",
      "Col172   ...       0.0     0.0     0.0     0.0     0.0     0.0  0.000000   \n",
      "Col173   ...       0.0     0.0     0.0     0.0     0.0     0.0  0.000000   \n",
      "\n",
      "        Col171    Col172  Col173  \n",
      "Col0       0.0  0.000000     0.0  \n",
      "Col1       0.0  0.000000     0.0  \n",
      "Col2       0.0  0.000000     0.0  \n",
      "Col3       0.0  0.000000     0.0  \n",
      "Col4       0.0  0.000000     0.0  \n",
      "Col5       0.0  0.000000     0.0  \n",
      "Col6       0.0  0.000000     0.0  \n",
      "Col7       0.0  0.000000     0.0  \n",
      "Col8       0.0  0.000000     0.0  \n",
      "Col9       0.0  0.000000     0.0  \n",
      "Col10      0.0  0.000000     0.0  \n",
      "Col11      0.0  0.000000     0.0  \n",
      "Col12      0.0  0.000000     0.0  \n",
      "Col13      0.0  0.000000     0.0  \n",
      "Col14      0.0  0.000000     0.0  \n",
      "Col15      0.0  0.000000     0.0  \n",
      "Col16      0.0  0.000000     0.0  \n",
      "Col17      0.0  0.000000     0.0  \n",
      "Col18      0.0  0.000000     0.0  \n",
      "Col19      0.0  0.000000     0.0  \n",
      "Col20      0.0  0.000000     0.0  \n",
      "Col21      0.0  0.000000     0.0  \n",
      "Col22      0.0  0.000000     0.0  \n",
      "Col23      0.0  0.002709     0.0  \n",
      "Col24      0.0  0.000000     0.0  \n",
      "Col25      0.0  0.000000     0.0  \n",
      "Col26      0.0  0.000000     0.0  \n",
      "Col27      0.0  0.000000     0.0  \n",
      "Col28      0.0  0.000000     0.0  \n",
      "Col29      0.0  0.000000     0.0  \n",
      "...        ...       ...     ...  \n",
      "Col144     0.0  0.000000     0.0  \n",
      "Col145     0.0  0.000000     0.0  \n",
      "Col146     0.0  0.000000     0.0  \n",
      "Col147     0.0  0.000000     0.0  \n",
      "Col148     0.0  0.000000     0.0  \n",
      "Col149     0.0  0.000000     0.0  \n",
      "Col150     0.0  0.000000     0.0  \n",
      "Col151     0.0  0.000000     0.0  \n",
      "Col152     0.0  0.000000     0.0  \n",
      "Col153     0.0  0.000000     0.0  \n",
      "Col154     0.0  0.000000     0.0  \n",
      "Col155     0.0  0.000000     0.0  \n",
      "Col156     0.0  0.000000     0.0  \n",
      "Col157     0.0  0.000000     0.0  \n",
      "Col158     0.0  0.000000     0.0  \n",
      "Col159     0.0  0.000000     0.0  \n",
      "Col160     0.0  0.002709     0.0  \n",
      "Col161     0.0  0.000000     0.0  \n",
      "Col162     0.0  0.000000     0.0  \n",
      "Col163     0.0  0.000000     0.0  \n",
      "Col164     0.0  0.000000     0.0  \n",
      "Col165     0.0  0.000000     0.0  \n",
      "Col166     0.0  0.000000     0.0  \n",
      "Col167     0.0  0.000000     0.0  \n",
      "Col168     0.0  0.000000     0.0  \n",
      "Col169     0.0  0.000000     0.0  \n",
      "Col170     0.0  0.000000     0.0  \n",
      "Col171     0.0  0.000000     0.0  \n",
      "Col172     0.0  0.000000     0.0  \n",
      "Col173     0.0  0.000000     0.0  \n",
      "\n",
      "[174 rows x 174 columns]\n"
     ]
    }
   ],
   "source": [
    "print(storage.bivariate_redundancies.redundancy)"
   ]
  },
  {
   "cell_type": "code",
   "execution_count": 12,
   "metadata": {
    "collapsed": false
   },
   "outputs": [
    {
     "name": "stdout",
     "output_type": "stream",
     "text": [
      "((Col155,), Col27)                                                                         0.123552\n",
      "((Col118, Col173), Col56)                                                                 0.0554752\n",
      "((Col35, Col85, Col93, Col94), Col87)                                                    0.00944389\n",
      "((Col100, Col42, Col54, Col91), Col15)                                                    0.0270158\n",
      "((Col112, Col118, Col171), Col132)                                                       0.00527797\n",
      "((Col155, Col35, Col52, Col65, Col98), Col16)                                             0.0274186\n",
      "((Col105, Col31, Col96), Col21)                                                           0.0880045\n",
      "((Col167, Col172, Col24, Col8), Col139)                                                   0.0212602\n",
      "((Col8,), Col156)                                                                         0.0371767\n",
      "((Col169,), Col119)                                                                       0.0188212\n",
      "((Col0, Col123, Col49, Col69), Col137)                                                   0.00201364\n",
      "((Col113, Col152, Col96), Col43)                                                          0.0019917\n",
      "((Col151, Col159), Col21)                                                                  0.021613\n",
      "((Col130, Col149, Col27, Col5), Col75)                                                    0.0102375\n",
      "((Col118, Col34), Col154)                                                                 0.0537106\n",
      "((Col118, Col37, Col43, Col46, Col85), Col89)                                            0.00998694\n",
      "((Col118, Col15, Col17, Col23), Col22)                                                    0.0420849\n",
      "((Col126, Col57, Col77, Col97), Col58)                                                    0.0278918\n",
      "((Col160,), Col173)                                                                     0.000610132\n",
      "((Col108, Col120, Col159, Col169), Col23)                                                 0.0325329\n",
      "((Col17, Col37, Col47, Col49, Col93), Col98)                                             0.00760871\n",
      "((Col80,), Col43)                                                                        0.00187357\n",
      "((Col126, Col144, Col157, Col81), Col128)                                                0.00128407\n",
      "((Col48,), Col148)                                                                         0.372137\n",
      "((Col10, Col120, Col150, Col43), Col89)                                                   0.0110069\n",
      "((Col101, Col122, Col28, Col51, Col84), Col149)                                            0.336564\n",
      "((Col150, Col27, Col41, Col62), Col5)                                                      0.203883\n",
      "((Col121, Col133, Col69), Col12)                                                         0.00416588\n",
      "((Col121, Col124, Col128, Col136), Col92)                                                0.00473122\n",
      "((Col136, Col137, Col59), Col65)                                                           0.106354\n",
      "                                                                                           ...     \n",
      "((Col101, Col33, Col4, Col43, Col90, Col96), Col39)                                      0.00148037\n",
      "((Col101, Col23), Col123)                                                                0.00882189\n",
      "((Col11,), Col161)                                                                                0\n",
      "((Col106, Col131, Col137, Col94), Col75)                                                 0.00454307\n",
      "((Col134, Col25, Col34, Col83, Col9, Col98), Col154)                                      0.0404835\n",
      "((Col17, Col70, Col87), Col43)                                                           0.00221668\n",
      "((Col124, Col44, Col56), Col12)                                                          0.00858885\n",
      "((Col127, Col139, Col156, Col40, Col62, Col76, Col8), Col48)                              0.0181431\n",
      "((Col122, Col150, Col81, Col9), Col76)                                                    0.0096494\n",
      "((Col129, Col132, Col139, Col144, Col38, Col46, Col53, Col58, Col65), Col23)              0.0406976\n",
      "((Col29, Col52), Col173)                                                                   0.163034\n",
      "((Col1, Col120, Col144, Col15, Col154, Col156, Col19, Col60, Col69), Col103)               0.012966\n",
      "((Col102, Col114, Col135, Col72, Col94), Col148)                                           0.290555\n",
      "((Col121, Col156, Col30), Col31)                                                         0.00169524\n",
      "((Col103, Col130, Col169, Col4, Col53, Col55), Col172)                                   0.00402934\n",
      "((Col143, Col66, Col94), Col153)                                                         0.00256676\n",
      "((Col101, Col43, Col58, Col96), Col21)                                                    0.0711902\n",
      "((Col24, Col29, Col75, Col96), Col143)                                                      0.45913\n",
      "((Col119, Col144, Col148, Col172, Col34, Col35), Col16)                                    0.020751\n",
      "((Col103, Col123, Col136, Col167, Col169, Col21, Col31, Col48, Col59, Col78), Col20)      0.0336674\n",
      "((Col106, Col27), Col138)                                                                 0.0387104\n",
      "((Col113, Col26), Col119)                                                                 0.0216996\n",
      "((Col10, Col119, Col140, Col20, Col52, Col74, Col93), Col37)                             0.00228025\n",
      "((Col104, Col65, Col87), Col118)                                                          0.0164385\n",
      "((Col112, Col12, Col120, Col151, Col29, Col49), Col16)                                    0.0276636\n",
      "((Col147,), Col170)                                                                       0.0557152\n",
      "((Col160, Col23, Col31), Col172)                                                          0.0027085\n",
      "((Col1, Col124, Col126, Col154, Col21, Col35, Col50, Col61, Col84, Col9), Col153)        0.00171838\n",
      "((Col159, Col167, Col169, Col172, Col43, Col47, Col80, Col81, Col95, Col99), Col87)      0.00482097\n",
      "((Col112, Col135, Col153, Col3, Col73, Col74), Col138)                                    0.0194895\n",
      "Name: redundancy, Length: 170, dtype: object\n"
     ]
    }
   ],
   "source": [
    "print(storage.redundancies.redundancy)"
   ]
  },
  {
   "cell_type": "code",
   "execution_count": 67,
   "metadata": {
    "collapsed": false
   },
   "outputs": [],
   "source": [
    "redundancy = storage.redundancies.redundancy\n",
    "subset = ('Col43',)\n",
    "feature = 'Col89'"
   ]
  },
  {
   "cell_type": "code",
   "execution_count": 68,
   "metadata": {
    "collapsed": false
   },
   "outputs": [],
   "source": [
    "subsets = [i for i in redundancy.index if i[1] == feature]"
   ]
  },
  {
   "cell_type": "code",
   "execution_count": 69,
   "metadata": {
    "collapsed": false
   },
   "outputs": [],
   "source": [
    "intersections = collections.defaultdict(list)\n",
    "for s in subsets:\n",
    "    intersections[len(set(subset).intersection(set(s[0])))].append(s)\n",
    "max_subsets = max(intersections.items())"
   ]
  },
  {
   "cell_type": "code",
   "execution_count": 72,
   "metadata": {
    "collapsed": false
   },
   "outputs": [
    {
     "data": {
      "text/plain": [
       "0.011829839969367439"
      ]
     },
     "execution_count": 72,
     "metadata": {},
     "output_type": "execute_result"
    }
   ],
   "source": [
    "max(redundancy[max_subsets[1]])"
   ]
  },
  {
   "cell_type": "code",
   "execution_count": null,
   "metadata": {
    "collapsed": true
   },
   "outputs": [],
   "source": []
  },
  {
   "cell_type": "code",
   "execution_count": null,
   "metadata": {
    "collapsed": true
   },
   "outputs": [],
   "source": []
  },
  {
   "cell_type": "code",
   "execution_count": null,
   "metadata": {
    "collapsed": true
   },
   "outputs": [],
   "source": []
  },
  {
   "cell_type": "code",
   "execution_count": null,
   "metadata": {
    "collapsed": true
   },
   "outputs": [],
   "source": []
  },
  {
   "cell_type": "code",
   "execution_count": null,
   "metadata": {
    "collapsed": true
   },
   "outputs": [],
   "source": []
  },
  {
   "cell_type": "code",
   "execution_count": null,
   "metadata": {
    "collapsed": false
   },
   "outputs": [],
   "source": [
    "print(storage.redundancies.weight)\n",
    "# print(storage.redundancies.weight)"
   ]
  },
  {
   "cell_type": "code",
   "execution_count": null,
   "metadata": {
    "collapsed": false
   },
   "outputs": [],
   "source": [
    "for feature_set, slices in storage.get_slices().items():\n",
    "    dict_version = slices.to_dict()\n",
    "    print(dict_version, '\\n')"
   ]
  },
  {
   "cell_type": "code",
   "execution_count": null,
   "metadata": {
    "collapsed": false
   },
   "outputs": [],
   "source": [
    "for feature_set, slices in storage.get_slices().items():\n",
    "    output = slices.to_output()\n",
    "    print(output, '\\n')"
   ]
  },
  {
   "cell_type": "code",
   "execution_count": null,
   "metadata": {
    "collapsed": true
   },
   "outputs": [],
   "source": []
  }
 ],
 "metadata": {
  "kernelspec": {
   "display_name": "Python35",
   "language": "python",
   "name": "python35"
  },
  "language_info": {
   "codemirror_mode": {
    "name": "ipython",
    "version": 3
   },
   "file_extension": ".py",
   "mimetype": "text/x-python",
   "name": "python",
   "nbconvert_exporter": "python",
   "pygments_lexer": "ipython3",
   "version": "3.5.0"
  }
 },
 "nbformat": 4,
 "nbformat_minor": 1
}
