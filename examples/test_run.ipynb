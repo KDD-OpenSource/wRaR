{
 "cells": [
  {
   "cell_type": "code",
   "execution_count": null,
   "metadata": {
    "collapsed": true
   },
   "outputs": [],
   "source": [
    "%load_ext autoreload\n",
    "%autoreload 2"
   ]
  },
  {
   "cell_type": "code",
   "execution_count": 1,
   "metadata": {
    "collapsed": false
   },
   "outputs": [],
   "source": [
    "import pandas as pd\n",
    "import numpy as np\n",
    "from hics.incremental_correlation import IncrementalCorrelation\n",
    "from hics.result_storage import DefaultResultStorage\n",
    "from hics.scored_slices import ScoredSlices\n",
    "import wrar\n",
    "import collections"
   ]
  },
  {
   "cell_type": "code",
   "execution_count": 2,
   "metadata": {
    "collapsed": false
   },
   "outputs": [],
   "source": [
    "data = pd.read_csv('../data/Injector_Median100k.csv')"
   ]
  },
  {
   "cell_type": "code",
   "execution_count": 3,
   "metadata": {
    "collapsed": false
   },
   "outputs": [
    {
     "name": "stderr",
     "output_type": "stream",
     "text": [
      "/Users/danthe/.pyenv/versions/3.5.0/lib/python3.5/site-packages/ipykernel_launcher.py:3: DeprecationWarning: \n",
      "Panel is deprecated and will be removed in a future version.\n",
      "The recommended way to represent these types of 3-dimensional data are with a MultiIndex on a DataFrame, via the Panel.to_frame() method\n",
      "Alternatively, you can use the xarray package http://xarray.pydata.org/en/stable/.\n",
      "Pandas provides a `.to_xarray()` method to help automate this conversion.\n",
      "\n",
      "  This is separate from the ipykernel package so we can avoid doing imports until\n"
     ]
    }
   ],
   "source": [
    "target = 'Col174'\n",
    "input_features = [ft for ft in data.columns.values if ft != target]\n",
    "storage = DefaultResultStorage(input_features)\n",
    "correlation = IncrementalCorrelation(data, target, storage, iterations = 10, alpha = 0.1, drop_discrete = False)"
   ]
  },
  {
   "cell_type": "code",
   "execution_count": 4,
   "metadata": {
    "collapsed": false
   },
   "outputs": [],
   "source": [
    "correlation.update_bivariate_relevancies(runs=5)"
   ]
  },
  {
   "cell_type": "code",
   "execution_count": null,
   "metadata": {
    "collapsed": false
   },
   "outputs": [],
   "source": [
    "%timeit correlation.update_redundancies(k=5, runs=10)"
   ]
  },
  {
   "cell_type": "code",
   "execution_count": null,
   "metadata": {
    "collapsed": false
   },
   "outputs": [],
   "source": [
    "%timeit correlation.update_redundancies(k=10, runs=10)"
   ]
  },
  {
   "cell_type": "code",
   "execution_count": 5,
   "metadata": {
    "collapsed": false,
    "scrolled": true
   },
   "outputs": [],
   "source": [
    "correlation.update_multivariate_relevancies(k = 5, runs = 50)"
   ]
  },
  {
   "cell_type": "code",
   "execution_count": null,
   "metadata": {
    "collapsed": false
   },
   "outputs": [],
   "source": [
    "correlation.update_multivariate_relevancies(k = 3, runs = 50, fixed_features = ['1'])"
   ]
  },
  {
   "cell_type": "code",
   "execution_count": 12,
   "metadata": {
    "collapsed": false
   },
   "outputs": [],
   "source": [
    "bivar = sorted(filter(lambda r: len(r[0]) == 1, storage.relevancies.relevancy.iteritems()), \n",
    "               key=lambda r: r[1], reverse=True)"
   ]
  },
  {
   "cell_type": "code",
   "execution_count": 16,
   "metadata": {
    "collapsed": false
   },
   "outputs": [
    {
     "name": "stdout",
     "output_type": "stream",
     "text": [
      "1. Col132 with a score of 1.1836184984432365\n",
      "2. Col124 with a score of 1.1262325241877602\n",
      "3. Col36 with a score of 1.113011991481464\n",
      "4. Col128 with a score of 1.0960936736888782\n",
      "5. Col129 with a score of 1.0905137460646335\n",
      "6. Col127 with a score of 1.0712250928232563\n",
      "7. Col115 with a score of 0.9967092016809002\n",
      "8. Col91 with a score of 0.9813471129351242\n",
      "9. Col40 with a score of 0.9553978496144377\n",
      "10. Col123 with a score of 0.9412416827396207\n",
      "11. Col32 with a score of 0.9408766974782854\n",
      "12. Col81 with a score of 0.931229800694392\n",
      "13. Col122 with a score of 0.9127456468967627\n",
      "14. Col98 with a score of 0.9014363437531829\n",
      "15. Col44 with a score of 0.9001889544965331\n",
      "16. Col130 with a score of 0.8856947874388487\n",
      "17. Col116 with a score of 0.8648627700263789\n",
      "18. Col43 with a score of 0.8591348499180882\n",
      "19. Col92 with a score of 0.8513536146629873\n",
      "20. Col106 with a score of 0.8397595107903403\n",
      "21. Col118 with a score of 0.8122835728381481\n",
      "22. Col75 with a score of 0.7794743556804721\n",
      "23. Col131 with a score of 0.7732120525816797\n",
      "24. Col80 with a score of 0.7693029721756244\n",
      "25. Col107 with a score of 0.7651066092088581\n",
      "26. Col90 with a score of 0.7627698477126221\n",
      "27. Col120 with a score of 0.7319002549398267\n",
      "28. Col105 with a score of 0.731661553443432\n",
      "29. Col29 with a score of 0.7237395940308564\n",
      "30. Col97 with a score of 0.6988570895801105\n",
      "31. Col125 with a score of 0.6927290161482017\n",
      "32. Col89 with a score of 0.6905949120845284\n",
      "33. Col68 with a score of 0.6885213130704216\n",
      "34. Col113 with a score of 0.6622710981579056\n",
      "35. Col108 with a score of 0.6310461277899592\n",
      "36. Col82 with a score of 0.6280684113813352\n",
      "37. Col119 with a score of 0.6239257105856366\n",
      "38. Col126 with a score of 0.6150318423541382\n",
      "39. Col66 with a score of 0.6128423966371723\n",
      "40. Col117 with a score of 0.6082776804011083\n",
      "41. Col48 with a score of 0.6039254445271756\n",
      "42. Col42 with a score of 0.5971948379345452\n",
      "43. Col76 with a score of 0.5914691410146474\n",
      "44. Col112 with a score of 0.5779272692671539\n",
      "45. Col96 with a score of 0.5776582224025069\n",
      "46. Col78 with a score of 0.5768729188399319\n",
      "47. Col83 with a score of 0.5720655802663679\n",
      "48. Col41 with a score of 0.5661815036246663\n",
      "49. Col114 with a score of 0.5598196424601382\n",
      "50. Col31 with a score of 0.5585902345890039\n",
      "51. Col93 with a score of 0.5582665827225758\n",
      "52. Col35 with a score of 0.5541154616911085\n",
      "53. Col142 with a score of 0.5446160288381628\n",
      "54. Col121 with a score of 0.5426023209097359\n",
      "55. Col30 with a score of 0.5263900326457708\n",
      "56. Col33 with a score of 0.5219926173545474\n",
      "57. Col85 with a score of 0.5189785027505185\n",
      "58. Col104 with a score of 0.5130228967361309\n",
      "59. Col111 with a score of 0.5104460808981754\n",
      "60. Col34 with a score of 0.5072958801234024\n",
      "61. Col37 with a score of 0.5049129017848462\n",
      "62. Col110 with a score of 0.496303363599348\n",
      "63. Col67 with a score of 0.4884494284441419\n",
      "64. Col109 with a score of 0.47834490066906116\n",
      "65. Col39 with a score of 0.473776079491516\n",
      "66. Col84 with a score of 0.44250847258985837\n",
      "67. Col17 with a score of 0.44151810254316154\n",
      "68. Col169 with a score of 0.44093384452582074\n",
      "69. Col103 with a score of 0.4308493900814921\n",
      "70. Col38 with a score of 0.40044522179219344\n",
      "71. Col101 with a score of 0.3925745284827262\n",
      "72. Col65 with a score of 0.38425607409912876\n",
      "73. Col87 with a score of 0.37990220810050085\n",
      "74. Col15 with a score of 0.3750603214743053\n",
      "75. Col100 with a score of 0.3672710862364288\n",
      "76. Col88 with a score of 0.3619228282983699\n",
      "77. Col77 with a score of 0.36143149120455575\n",
      "78. Col62 with a score of 0.337507683037758\n",
      "79. Col1 with a score of 0.2943287391653055\n",
      "80. Col138 with a score of 0.2609087084310988\n",
      "81. Col64 with a score of 0.23866291578994536\n",
      "82. Col16 with a score of 0.234089335762721\n",
      "83. Col95 with a score of 0.22607893425362963\n",
      "84. Col79 with a score of 0.19203817562726186\n",
      "85. Col102 with a score of 0.16713186657393425\n",
      "86. Col86 with a score of 0.15490372616974887\n",
      "87. Col63 with a score of 0.1537251580148943\n",
      "88. Col94 with a score of 0.15126813101856046\n",
      "89. Col61 with a score of 0.14608961385475835\n",
      "90. Col25 with a score of 0.12740760438448007\n",
      "91. Col135 with a score of 0.1261538423368259\n",
      "92. Col152 with a score of 0.12235095654042485\n",
      "93. Col141 with a score of 0.0957485104721702\n",
      "94. Col12 with a score of 0.08202566861644486\n",
      "95. Col47 with a score of 0.07820114950880294\n",
      "96. Col9 with a score of 0.061706430498384125\n",
      "97. Col27 with a score of 0.05869719983381535\n",
      "98. Col28 with a score of 0.05404168803914252\n",
      "99. Col74 with a score of 0.04343103890559005\n",
      "100. Col151 with a score of 0.042653032358985064\n",
      "101. Col8 with a score of 0.04089894348655949\n",
      "102. Col70 with a score of 0.04084166536468793\n",
      "103. Col155 with a score of 0.04007675233265073\n",
      "104. Col54 with a score of 0.04007358617478936\n",
      "105. Col53 with a score of 0.036290069151613515\n",
      "106. Col24 with a score of 0.03528396402886998\n",
      "107. Col20 with a score of 0.034297798845610114\n",
      "108. Col58 with a score of 0.033703232757703115\n",
      "109. Col3 with a score of 0.0331998353177866\n",
      "110. Col55 with a score of 0.03204177286148965\n",
      "111. Col26 with a score of 0.03159468242367616\n",
      "112. Col21 with a score of 0.03155879277387228\n",
      "113. Col56 with a score of 0.031552544917779056\n",
      "114. Col23 with a score of 0.0307862657375431\n",
      "115. Col173 with a score of 0.030417051419272582\n",
      "116. Col154 with a score of 0.03040368383924023\n",
      "117. Col18 with a score of 0.02938051271651021\n",
      "118. Col171 with a score of 0.02785346779622569\n",
      "119. Col6 with a score of 0.027811229481785136\n",
      "120. Col57 with a score of 0.027411899937499908\n",
      "121. Col143 with a score of 0.02700936021683714\n",
      "122. Col144 with a score of 0.026879220388383113\n",
      "123. Col170 with a score of 0.026859595941342337\n",
      "124. Col49 with a score of 0.026560482416292847\n",
      "125. Col4 with a score of 0.02609989884134565\n",
      "126. Col46 with a score of 0.025426083712108777\n",
      "127. Col163 with a score of 0.022051896753370687\n",
      "128. Col146 with a score of 0.020919617672638478\n",
      "129. Col167 with a score of 0.02044207624007575\n",
      "130. Col50 with a score of 0.020370131673232757\n",
      "131. Col147 with a score of 0.01993552476425229\n",
      "132. Col7 with a score of 0.019814211908396336\n",
      "133. Col2 with a score of 0.01937518555531504\n",
      "134. Col52 with a score of 0.01901711123004986\n",
      "135. Col136 with a score of 0.01810198844896795\n",
      "136. Col5 with a score of 0.018043001687084777\n",
      "137. Col157 with a score of 0.01770974231265372\n",
      "138. Col158 with a score of 0.017686089382720878\n",
      "139. Col0 with a score of 0.017603848847060444\n",
      "140. Col145 with a score of 0.017105633280349274\n",
      "141. Col14 with a score of 0.01665085077677422\n",
      "142. Col139 with a score of 0.016484562054166294\n",
      "143. Col69 with a score of 0.015921242062104057\n",
      "144. Col13 with a score of 0.015817414602737185\n",
      "145. Col51 with a score of 0.015284122508052889\n",
      "146. Col71 with a score of 0.015238748335406832\n",
      "147. Col166 with a score of 0.0148429599695926\n",
      "148. Col164 with a score of 0.01437824086064673\n",
      "149. Col10 with a score of 0.014300937776073283\n",
      "150. Col137 with a score of 0.013989828605793508\n",
      "151. Col59 with a score of 0.013701825153776798\n",
      "152. Col134 with a score of 0.01364127042377502\n",
      "153. Col22 with a score of 0.012432946882516806\n",
      "154. Col140 with a score of 0.012284887263424011\n",
      "155. Col172 with a score of 0.01208437416684033\n",
      "156. Col149 with a score of 0.011526445450297925\n",
      "157. Col11 with a score of 0.011425678866475553\n",
      "158. Col148 with a score of 0.011136730923430791\n",
      "159. Col150 with a score of 0.010246572561766277\n",
      "160. Col168 with a score of 0.009552426469029514\n",
      "161. Col45 with a score of 0.00899136807261023\n",
      "162. Col153 with a score of 0.007109970408858815\n",
      "163. Col72 with a score of 0.006577182551019124\n",
      "164. Col73 with a score of 0.0031242953168740305\n",
      "165. Col99 with a score of 0.0028228079581878044\n",
      "166. Col60 with a score of 0.002066290551798939\n",
      "167. Col159 with a score of 0.0018475672721481938\n",
      "168. Col156 with a score of 0.0013775729019166942\n",
      "169. Col160 with a score of 0.000519074041439033\n",
      "170. Col165 with a score of 0.0002549627784649206\n",
      "171. Col19 with a score of 0.00014215781885804367\n",
      "172. Col162 with a score of 1.9851055960441806e-06\n",
      "173. Col133 with a score of 0.0\n",
      "174. Col161 with a score of 0.0\n"
     ]
    }
   ],
   "source": [
    "for index, r in enumerate(bivar):\n",
    "    print('{}. {} with a score of {}'.format(index + 1, r[0][0], r[1]))"
   ]
  },
  {
   "cell_type": "code",
   "execution_count": null,
   "metadata": {
    "collapsed": true
   },
   "outputs": [],
   "source": [
    "sorted(storage.redundancies.redundancy['Col4'].items(), key=lambda r: r[1])"
   ]
  },
  {
   "cell_type": "code",
   "execution_count": null,
   "metadata": {
    "collapsed": false
   },
   "outputs": [],
   "source": [
    "print(storage.bivariate_redundancies.redundancy)"
   ]
  },
  {
   "cell_type": "code",
   "execution_count": null,
   "metadata": {
    "collapsed": false
   },
   "outputs": [],
   "source": [
    "print(storage.redundancies.redundancy)"
   ]
  },
  {
   "cell_type": "code",
   "execution_count": null,
   "metadata": {
    "collapsed": false
   },
   "outputs": [],
   "source": [
    "redundancy = storage.redundancies.redundancy\n",
    "subset = ('Col43',)\n",
    "feature = 'Col89'"
   ]
  },
  {
   "cell_type": "code",
   "execution_count": null,
   "metadata": {
    "collapsed": false
   },
   "outputs": [],
   "source": [
    "subsets = [i for i in redundancy.index if i[1] == feature]"
   ]
  },
  {
   "cell_type": "code",
   "execution_count": null,
   "metadata": {
    "collapsed": false
   },
   "outputs": [],
   "source": [
    "intersections = collections.defaultdict(list)\n",
    "for s in subsets:\n",
    "    intersections[len(set(subset).intersection(set(s[0])))].append(s)\n",
    "max_subsets = max(intersections.items())"
   ]
  },
  {
   "cell_type": "code",
   "execution_count": null,
   "metadata": {
    "collapsed": false
   },
   "outputs": [],
   "source": [
    "max(redundancy[max_subsets[1]])"
   ]
  },
  {
   "cell_type": "code",
   "execution_count": null,
   "metadata": {
    "collapsed": true
   },
   "outputs": [],
   "source": []
  },
  {
   "cell_type": "code",
   "execution_count": null,
   "metadata": {
    "collapsed": true
   },
   "outputs": [],
   "source": []
  },
  {
   "cell_type": "code",
   "execution_count": null,
   "metadata": {
    "collapsed": true
   },
   "outputs": [],
   "source": []
  },
  {
   "cell_type": "code",
   "execution_count": null,
   "metadata": {
    "collapsed": true
   },
   "outputs": [],
   "source": []
  },
  {
   "cell_type": "code",
   "execution_count": null,
   "metadata": {
    "collapsed": true
   },
   "outputs": [],
   "source": []
  },
  {
   "cell_type": "code",
   "execution_count": null,
   "metadata": {
    "collapsed": false
   },
   "outputs": [],
   "source": [
    "print(storage.redundancies.weight)\n",
    "# print(storage.redundancies.weight)"
   ]
  },
  {
   "cell_type": "code",
   "execution_count": null,
   "metadata": {
    "collapsed": false
   },
   "outputs": [],
   "source": [
    "for feature_set, slices in storage.get_slices().items():\n",
    "    dict_version = slices.to_dict()\n",
    "    print(dict_version, '\\n')"
   ]
  },
  {
   "cell_type": "code",
   "execution_count": null,
   "metadata": {
    "collapsed": false
   },
   "outputs": [],
   "source": [
    "for feature_set, slices in storage.get_slices().items():\n",
    "    output = slices.to_output()\n",
    "    print(output, '\\n')"
   ]
  },
  {
   "cell_type": "code",
   "execution_count": null,
   "metadata": {
    "collapsed": true
   },
   "outputs": [],
   "source": []
  }
 ],
 "metadata": {
  "kernelspec": {
   "display_name": "Python35",
   "language": "python",
   "name": "python35"
  },
  "language_info": {
   "codemirror_mode": {
    "name": "ipython",
    "version": 3
   },
   "file_extension": ".py",
   "mimetype": "text/x-python",
   "name": "python",
   "nbconvert_exporter": "python",
   "pygments_lexer": "ipython3",
   "version": "3.5.0"
  }
 },
 "nbformat": 4,
 "nbformat_minor": 1
}
