{
 "cells": [
  {
   "cell_type": "code",
   "execution_count": null,
   "metadata": {
    "ExecuteTime": {
     "end_time": "2017-07-05T15:33:55.261587Z",
     "start_time": "2017-07-05T15:33:55.227880Z"
    }
   },
   "outputs": [],
   "source": [
    "%load_ext autoreload\n",
    "%autoreload 2\n",
    "%pdb 0"
   ]
  },
  {
   "cell_type": "code",
   "execution_count": 1,
   "metadata": {
    "ExecuteTime": {
     "end_time": "2017-07-05T15:45:07.759004Z",
     "start_time": "2017-07-05T15:45:07.388996Z"
    },
    "collapsed": true
   },
   "outputs": [],
   "source": [
    "import pandas as pd\n",
    "import numpy as np\n",
    "import csrar\n",
    "from sklearn.model_selection import train_test_split\n",
    "from sklearn.tree import DecisionTreeClassifier\n",
    "from sklearn.ensemble import RandomForestClassifier, ExtraTreesClassifier\n",
    "from sklearn import svm"
   ]
  },
  {
   "cell_type": "code",
   "execution_count": 2,
   "metadata": {
    "ExecuteTime": {
     "end_time": "2017-07-05T15:45:08.404715Z",
     "start_time": "2017-07-05T15:45:08.379374Z"
    },
    "collapsed": true
   },
   "outputs": [],
   "source": [
    "data = pd.read_csv('../data/page-blocks0.csv')"
   ]
  },
  {
   "cell_type": "code",
   "execution_count": null,
   "metadata": {
    "ExecuteTime": {
     "end_time": "2017-07-05T15:39:13.456629Z",
     "start_time": "2017-07-05T15:39:13.319665Z"
    }
   },
   "outputs": [],
   "source": [
    "# For rootkit_imap...\n",
    "for cat_col in ['Atr-1', 'Atr-2', 'Atr-3']:\n",
    "    data[cat_col] = pd.Categorical(data[cat_col])\n",
    "    data[cat_col] = data[cat_col].cat.codes"
   ]
  },
  {
   "cell_type": "code",
   "execution_count": 3,
   "metadata": {
    "ExecuteTime": {
     "end_time": "2017-07-05T15:45:09.569415Z",
     "start_time": "2017-07-05T15:45:09.564034Z"
    },
    "collapsed": true
   },
   "outputs": [],
   "source": [
    "# For page-block0.csv, convert 'positive'/'negative' to 0 and 1\n",
    "data['Class'] = pd.Categorical(data['Class'])\n",
    "data['Class'] = data['Class'].cat.codes"
   ]
  },
  {
   "cell_type": "code",
   "execution_count": null,
   "metadata": {
    "ExecuteTime": {
     "end_time": "2017-07-05T15:15:16.123116Z",
     "start_time": "2017-07-05T15:15:16.112576Z"
    }
   },
   "outputs": [],
   "source": [
    "data.dtypes"
   ]
  },
  {
   "cell_type": "code",
   "execution_count": null,
   "metadata": {
    "ExecuteTime": {
     "end_time": "2017-07-05T14:51:13.096189Z",
     "start_time": "2017-07-05T14:51:13.083790Z"
    }
   },
   "outputs": [],
   "source": [
    "uniques = np.unique(data['Class'], return_counts=True)\n",
    "perc = list(map(lambda c: c/len(data), uniques[1]))\n",
    "perc"
   ]
  },
  {
   "cell_type": "code",
   "execution_count": null,
   "metadata": {
    "ExecuteTime": {
     "end_time": "2017-07-05T13:40:42.891637Z",
     "start_time": "2017-07-05T13:40:04.970076Z"
    },
    "collapsed": true
   },
   "outputs": [],
   "source": [
    "import arff\n",
    "file = open('../data/test5.arff', 'r')\n",
    "dataset = arff.load(file)\n",
    "data = pd.DataFrame(dataset['data'])"
   ]
  },
  {
   "cell_type": "code",
   "execution_count": null,
   "metadata": {
    "ExecuteTime": {
     "end_time": "2017-07-05T13:40:42.915698Z",
     "start_time": "2017-07-05T13:40:42.892772Z"
    },
    "collapsed": true
   },
   "outputs": [],
   "source": [
    "data[150] = data[150].astype(np.float32)"
   ]
  },
  {
   "cell_type": "code",
   "execution_count": null,
   "metadata": {
    "ExecuteTime": {
     "end_time": "2017-06-30T12:09:37.180775Z",
     "start_time": "2017-06-30T12:09:37.174835Z"
    },
    "collapsed": true
   },
   "outputs": [],
   "source": []
  },
  {
   "cell_type": "code",
   "execution_count": null,
   "metadata": {
    "collapsed": true
   },
   "outputs": [],
   "source": []
  },
  {
   "cell_type": "code",
   "execution_count": null,
   "metadata": {
    "collapsed": true
   },
   "outputs": [],
   "source": []
  },
  {
   "cell_type": "code",
   "execution_count": null,
   "metadata": {
    "collapsed": true
   },
   "outputs": [],
   "source": []
  },
  {
   "cell_type": "code",
   "execution_count": null,
   "metadata": {
    "collapsed": true
   },
   "outputs": [],
   "source": []
  },
  {
   "cell_type": "code",
   "execution_count": null,
   "metadata": {
    "collapsed": true
   },
   "outputs": [],
   "source": []
  },
  {
   "cell_type": "markdown",
   "metadata": {},
   "source": [
    "#### About test2.arff:\n",
    "useful=Vector(0, 1)  \n",
    "dependent=Vector(5, 6, 7, 8, 9)  \n",
    "duplicated=Vector((0,12), (4,10), (6,11))  \n",
    "nominal=List()  \n",
    "clusters=[(0, 1, 2), (3, 4)]  \n",
    "distribution=List(24860, 25140)  \n",
    "seed=0\n",
    "#### About test3.arff\n",
    "useful=Vector(0, 1)  \n",
    "dependent=Vector(5, 6, 7, 8, 9)  \n",
    "duplicated=Vector((0,12), (4,10), (6,11))  \n",
    "nominal=List()  \n",
    "clusters=[(0, 1, 2), (3, 4)]  \n",
    "distribution=List(249786, 250214)  \n",
    "#### About test4.arff\n",
    "useful=Vector(0, 1, 2, 3, 4, 5, 6, 7, 8, 9, 10, 11, 12, 13, 14, 15, 16, 17, 18, 19, 20, 21, 22, 23, 24, 25, 26, 27, 28, 29)  \n",
    "dependent=Vector(100, 101, 102, 103, 104, 105, 106, 107, 108, 109, 110, 111, 112, 113, 114, 115, 116, 117, 118, 119, 120, 121, 122, 123, 124, 125, 126, 127, 128, 129, 130, 131, 132, 133, 134, 135, 136, 137, 138, 139, 140, 141, 142, 143, 144, 145, 146, 147, 148, 149)  \n",
    "duplicated=Vector((7,168), (10,157), (24,159), (28,162), (30,166), (50,169), (61,154), (82,158), (99,167), (104,156), (107,151), (113,164), (117,155), (117,165), (124,150), (135,160), (139,152), (145,161), (146,153), (147,163))  \n",
    "nominal=List()  \n",
    "clusters=[(0, 1, 2, 3, 4, 5, 6, 7, 8, 9), (10, 11, 12, 13, 14), (15, 16, 17)]  \n",
    "distribution=List(250085, 249915)  \n",
    "#### About test5.arff\n",
    "useful=Vector(0, 1, 2, 3, 4, 5, 6, 7, 8, 9)  \n",
    "dependent=Vector(80, 81, 82, 83, 84, 85, 86, 87, 88, 89, 90, 91, 92, 93, 94, 95, 96, 97, 98, 99, 100, 101, 102, 103, 104, 105, 106, 107, 108, 109)  \n",
    "duplicated=Vector((4,118), (8,114), (8,146), (9,137), (9,144), (10,131), (17,123), (22,116), (24,120), (24,142), (25,125), (35,127), (42,119), (43,122), (45,111), (48,134), (50,132), (52,110), (54,138), (57,112), (57,115), (57,149), (62,141), (64,136), (70,117), (70,148), (73,126), (76,133), (77,140), (78,143), (83,113), (84,139), (91,145), (92,121), (93,128), (93,135), (95,124), (103,129), (104,130), (105,147))  \n",
    "nominal=List()  \n",
    "clusters=[(0, 1, 2), (3, 4), (5, 6, 7, 8, 9, 10, 11, 12, 13, 14)]  \n",
    "distribution=List(99718, 100282)  \n"
   ]
  },
  {
   "cell_type": "markdown",
   "metadata": {},
   "source": [
    "### Train/Test Split"
   ]
  },
  {
   "cell_type": "code",
   "execution_count": null,
   "metadata": {
    "ExecuteTime": {
     "end_time": "2017-07-05T14:02:32.963075Z",
     "start_time": "2017-07-05T14:02:32.839851Z"
    },
    "collapsed": true
   },
   "outputs": [],
   "source": [
    "# Artificially imbalance dataset\n",
    "class0 = data.loc[data[150] == 0]\n",
    "class1 = data.loc[data[150] == 1]\n",
    "imb_data = pd.concat([class1.sample(frac=0.1), class0]).reset_index(drop=True)\n",
    "# For perfectly balanced dataset, this will result in a 97.56:2.44 ratio"
   ]
  },
  {
   "cell_type": "code",
   "execution_count": 4,
   "metadata": {
    "ExecuteTime": {
     "end_time": "2017-07-05T15:45:13.786325Z",
     "start_time": "2017-07-05T15:45:13.772891Z"
    }
   },
   "outputs": [],
   "source": [
    "target = 'Class'\n",
    "X = data.drop(target, axis=1)\n",
    "y = data[target]\n",
    "X_train, X_test, y_train, y_test = train_test_split(X, y, test_size=0.5)"
   ]
  },
  {
   "cell_type": "markdown",
   "metadata": {},
   "source": [
    "## RaR"
   ]
  },
  {
   "cell_type": "code",
   "execution_count": 6,
   "metadata": {
    "ExecuteTime": {
     "end_time": "2017-07-05T15:45:46.562750Z",
     "start_time": "2017-07-05T15:45:19.149522Z"
    }
   },
   "outputs": [
    {
     "name": "stdout",
     "output_type": "stream",
     "text": [
      "Relevance: 100.00%    \n",
      "Running optimizer...\n",
      "Optimizer done.\n",
      "Redundancy: 100.00%    \n",
      "1. Eccen with a score of 0.9373611522695435\n",
      "2. Length with a score of 0.9205387684187883\n",
      "3. Wb_trans with a score of 0.6143590121737748\n",
      "4. Area with a score of 0.5721437435821402\n",
      "5. Mean_tr with a score of 0.05025733980710339\n",
      "6. P_black with a score of 0.04998634229554917\n",
      "7. P_and with a score of 0.049868803111766176\n",
      "8. Height with a score of 1.019311986217028e-10\n",
      "9. Blackand with a score of 7.270001604804462e-11\n",
      "10. Blackpix with a score of 7.2585525626728e-11\n",
      "Relevance: 100.00%    \n",
      "Running optimizer...\n",
      "Optimizer done.\n",
      "Redundancy: 100.00%    \n",
      "1. Area with a score of 0.876368528977576\n",
      "2. Wb_trans with a score of 0.8674467104661115\n",
      "3. Eccen with a score of 0.55277148553094\n",
      "4. Blackand with a score of 0.1613355875124877\n",
      "5. Blackpix with a score of 0.07945906912766815\n",
      "6. Height with a score of 0.05004617932983416\n",
      "7. P_and with a score of 1.4301035026122795e-09\n",
      "8. Mean_tr with a score of 3.0095393178174183e-10\n",
      "9. Length with a score of 3.009338018309244e-10\n",
      "10. P_black with a score of 3.0093380179026275e-10\n",
      "Relevance: 100.00%    \n",
      "Running optimizer...\n",
      "Optimizer done.\n",
      "Redundancy: 100.00%    \n",
      "1. Height with a score of 0.9323856097590545\n",
      "2. Wb_trans with a score of 0.8707951555644131\n",
      "3. Blackand with a score of 0.6335562546369846\n",
      "4. Length with a score of 0.5087557284642885\n",
      "5. Eccen with a score of 0.4129191445562703\n",
      "6. Mean_tr with a score of 0.3390617448081393\n",
      "7. Blackpix with a score of 0.2202497845006202\n",
      "8. Area with a score of 0.1776855664387778\n",
      "9. P_and with a score of 8.847514006295889e-11\n",
      "10. P_black with a score of 1.6221137884856027e-11\n",
      "Relevance: 100.00%    \n",
      "Running optimizer...\n",
      "Optimizer done.\n",
      "Redundancy: 100.00%    \n",
      "1. Length with a score of 0.9071536942400813\n",
      "2. Height with a score of 0.45533066895720253\n",
      "3. Wb_trans with a score of 0.41624964481114\n",
      "4. Area with a score of 0.3001654224573602\n",
      "5. Eccen with a score of 0.08652096320330935\n",
      "6. Mean_tr with a score of 0.0864294269737596\n",
      "7. P_black with a score of 1.432474684830134e-10\n",
      "8. Blackpix with a score of 4.5665968360386994e-11\n",
      "9. P_and with a score of 3.074507075082369e-11\n",
      "10. Blackand with a score of 2.750087418055667e-11\n",
      "Relevance: 100.00%    \n",
      "Running optimizer...\n",
      "Optimizer done.\n",
      "Redundancy: 100.00%    \n",
      "1. Length with a score of 0.9338167741298642\n",
      "2. Eccen with a score of 0.8935299647627886\n",
      "3. Height with a score of 0.5866713663608178\n",
      "4. Wb_trans with a score of 0.5521483812627872\n",
      "5. Blackand with a score of 0.39223833398815255\n",
      "6. P_black with a score of 0.37408615161491954\n",
      "7. Mean_tr with a score of 0.2223033820811324\n",
      "8. Blackpix with a score of 0.21954160475082884\n",
      "9. P_and with a score of 0.2144390333277642\n",
      "10. Area with a score of 1.092417836472191e-11\n"
     ]
    },
    {
     "data": {
      "image/png": "[encoded data removed]",
      "text/plain": [
       "<matplotlib.figure.Figure at 0x7ff487fa5828>"
      ]
     },
     "metadata": {},
     "output_type": "display_data"
    }
   ],
   "source": [
    "scores = 0\n",
    "max_k = len(X.columns)\n",
    "for i in range(5):\n",
    "    rar_data = pd.concat([X_train, y_train], axis=1)\n",
    "    # RaR uses columns with string label only\n",
    "    rar_data.rename(columns=lambda c: str(c), inplace=True)\n",
    "    target = str(target)\n",
    "    rar = csrar.rar.RaR(rar_data)\n",
    "    rar.run(target, k=5, runs=100, split_iterations=10, compensate_imbalance=False)\n",
    "    \n",
    "    # Evaluate, average relative error rates\n",
    "    score = pd.DataFrame(columns=['Class 0', 'Class 1'], index=np.arange(max_k)).fillna(0)\n",
    "    for i in range(1, max_k):\n",
    "        errors = eval_rar_ranking(rar.feature_ranking, target, k=i)\n",
    "        score.loc[i, 'Class 0'] = errors[0][0]\n",
    "        score.loc[i, 'Class 1'] = errors[1][0]\n",
    "        \n",
    "    scores += score\n",
    "scores /= 5\n",
    "scores\n",
    "\n",
    "import matplotlib.pyplot as plt\n",
    "plt.plot(scores['Class 0'], label='Class 0')\n",
    "plt.plot(scores['Class 1'], label='Class 1')\n",
    "plt.legend(bbox_to_anchor=(0., 1.02, 1., .102), loc=3,\n",
    "           ncol=2, mode=\"expand\", borderaxespad=0.)\n",
    "plt.savefig('RaR_page-blocks0_imb_avg_nocomp')\n",
    "plt.show()"
   ]
  },
  {
   "cell_type": "code",
   "execution_count": 7,
   "metadata": {
    "ExecuteTime": {
     "end_time": "2017-07-05T15:46:46.115927Z",
     "start_time": "2017-07-05T15:45:46.563600Z"
    }
   },
   "outputs": [
    {
     "name": "stdout",
     "output_type": "stream",
     "text": [
      "Generated cost matrix:\n",
      "          0         1\n",
      "0  1.119476  9.369863\n",
      "Overall cost matrix:\n",
      "          0         1\n",
      "0  1.119476  9.369863\n",
      "Relevance: 100.00%    \n",
      "Running optimizer...\n",
      "Optimizer done.\n",
      "Redundancy: 100.00%    \n",
      "1. Mean_tr with a score of 0.874527268461016\n",
      "2. Eccen with a score of 0.748114542329372\n",
      "3. Area with a score of 0.6590161987860815\n",
      "4. P_and with a score of 0.5950336245722369\n",
      "5. P_black with a score of 0.5941081836458472\n",
      "6. Wb_trans with a score of 0.32134114342219944\n",
      "7. Blackand with a score of 0.14865942522407696\n",
      "8. Blackpix with a score of 1.51062669889574e-10\n",
      "9. Length with a score of 8.523096973181533e-11\n",
      "10. Height with a score of 2.7203882794414346e-11\n",
      "Generated cost matrix:\n",
      "          0         1\n",
      "0  1.119476  9.369863\n",
      "Overall cost matrix:\n",
      "          0         1\n",
      "0  1.119476  9.369863\n",
      "Relevance: 100.00%    \n",
      "Running optimizer...\n",
      "Optimizer done.\n",
      "Redundancy: 100.00%    \n",
      "1. Length with a score of 0.9405019493244662\n",
      "2. Wb_trans with a score of 0.8786354186807891\n",
      "3. Blackpix with a score of 0.5452438657751029\n",
      "4. Blackand with a score of 0.5388391727745284\n",
      "5. Height with a score of 0.5165440318283328\n",
      "6. Eccen with a score of 0.49091801775929295\n",
      "7. Area with a score of 0.48846323523298035\n",
      "8. Mean_tr with a score of 0.4762142025163404\n",
      "9. P_black with a score of 0.45843287029301977\n",
      "10. P_and with a score of 0.45147310770637195\n",
      "Generated cost matrix:\n",
      "          0         1\n",
      "0  1.119476  9.369863\n",
      "Overall cost matrix:\n",
      "          0         1\n",
      "0  1.119476  9.369863\n",
      "Relevance: 100.00%    \n",
      "Running optimizer...\n",
      "Optimizer done.\n",
      "Redundancy: 100.00%    \n",
      "1. Length with a score of 0.9334999927853671\n",
      "2. Wb_trans with a score of 0.834582373647878\n",
      "3. Blackpix with a score of 0.8083032588710087\n",
      "4. Blackand with a score of 0.694660182994642\n",
      "5. Mean_tr with a score of 0.60813186241585\n",
      "6. Eccen with a score of 0.5521650086284963\n",
      "7. Area with a score of 0.5437221708682525\n",
      "8. P_black with a score of 0.42560288951389497\n",
      "9. Height with a score of 0.35634752644270895\n",
      "10. P_and with a score of 0.331727513048829\n",
      "Generated cost matrix:\n",
      "          0         1\n",
      "0  1.119476  9.369863\n",
      "Overall cost matrix:\n",
      "          0         1\n",
      "0  1.119476  9.369863\n",
      "Relevance: 100.00%    \n",
      "Running optimizer...\n",
      "Optimizer done.\n",
      "Redundancy: 100.00%    \n",
      "1. Length with a score of 0.9006470080138717\n",
      "2. Area with a score of 0.8958287534016567\n",
      "3. Wb_trans with a score of 0.8256962674751863\n",
      "4. Blackpix with a score of 0.7887295533384457\n",
      "5. Blackand with a score of 0.7460478987380835\n",
      "6. P_black with a score of 0.6072716785188336\n",
      "7. Height with a score of 0.5957720478529223\n",
      "8. Mean_tr with a score of 0.5642179406460525\n",
      "9. Eccen with a score of 0.5574385879886733\n",
      "10. P_and with a score of 0.520548373917981\n",
      "Generated cost matrix:\n",
      "          0         1\n",
      "0  1.119476  9.369863\n",
      "Overall cost matrix:\n",
      "          0         1\n",
      "0  1.119476  9.369863\n",
      "Relevance: 100.00%    \n",
      "Running optimizer...\n",
      "Optimizer done.\n",
      "Redundancy: 100.00%    \n",
      "1. Area with a score of 0.8622483283773267\n",
      "2. Wb_trans with a score of 0.8131017859674187\n",
      "3. Blackand with a score of 0.7289536216561681\n",
      "4. Mean_tr with a score of 0.718275523158753\n",
      "5. Eccen with a score of 0.62503873397965\n",
      "6. Length with a score of 0.24739684847721644\n",
      "7. P_and with a score of 0.0807659108643073\n",
      "8. Height with a score of 0.05243418064426427\n",
      "9. Blackpix with a score of 0.05179199631573594\n",
      "10. P_black with a score of 2.2592571576430254e-09\n"
     ]
    },
    {
     "data": {
      "image/png": "[encoded data removed]",
      "text/plain": [
       "<matplotlib.figure.Figure at 0x7ff48436fda0>"
      ]
     },
     "metadata": {},
     "output_type": "display_data"
    }
   ],
   "source": [
    "scores_comp = 0\n",
    "max_k = len(X.columns)\n",
    "\n",
    "for i in range(5):\n",
    "    rar_data = pd.concat([X_train, y_train], axis=1)\n",
    "    # RaR uses columns with string label only\n",
    "    rar_data.rename(columns=lambda c: str(c), inplace=True)\n",
    "    target = str(target)\n",
    "    rar_compensate = csrar.rar.RaR(rar_data)\n",
    "    rar_compensate.run(target, k=5, runs=100, split_iterations=10, compensate_imbalance=True)\n",
    "\n",
    "    # Evaluate, average relative error rates\n",
    "    score = pd.DataFrame(columns=['Class 0', 'Class 1'], index=np.arange(max_k)).fillna(0)\n",
    "    for i in range(1, max_k):\n",
    "        errors = eval_rar_ranking(rar_compensate.feature_ranking, target, k=i)\n",
    "        score.loc[i, 'Class 0'] = errors[0][0]\n",
    "        score.loc[i, 'Class 1'] = errors[1][0]\n",
    "        \n",
    "    scores_comp += score\n",
    "scores_comp /= 5\n",
    "scores_comp\n",
    "\n",
    "import matplotlib.pyplot as plt\n",
    "plt.plot(scores_comp['Class 0'], label='Class 0')\n",
    "plt.plot(scores_comp['Class 1'], label='Class 1')\n",
    "plt.legend(bbox_to_anchor=(0., 1.02, 1., .102), loc=3,\n",
    "           ncol=2, mode=\"expand\", borderaxespad=0.)\n",
    "plt.savefig('RaR_page-block0_imb_avg')\n",
    "plt.show()"
   ]
  },
  {
   "cell_type": "code",
   "execution_count": null,
   "metadata": {
    "ExecuteTime": {
     "start_time": "2017-07-04T14:59:20.577Z"
    },
    "collapsed": true
   },
   "outputs": [],
   "source": []
  },
  {
   "cell_type": "code",
   "execution_count": null,
   "metadata": {
    "ExecuteTime": {
     "end_time": "2017-07-04T14:55:15.998436Z",
     "start_time": "2017-07-04T14:55:15.989149Z"
    },
    "collapsed": true
   },
   "outputs": [],
   "source": [
    "scores"
   ]
  },
  {
   "cell_type": "code",
   "execution_count": null,
   "metadata": {
    "ExecuteTime": {
     "start_time": "2017-07-04T14:59:25.096Z"
    },
    "collapsed": true
   },
   "outputs": [],
   "source": [
    "import matplotlib.pyplot as plt\n",
    "plt.plot(scores['Class 0'], label='Class 0')\n",
    "plt.plot(scores['Class 1'], label='Class 1')\n",
    "plt.legend(bbox_to_anchor=(0., 1.02, 1., .102), loc=3,\n",
    "           ncol=2, mode=\"expand\", borderaxespad=0.)\n",
    "plt.savefig('RaR_test5_imb_nocomp')\n",
    "plt.show()"
   ]
  },
  {
   "cell_type": "code",
   "execution_count": null,
   "metadata": {
    "ExecuteTime": {
     "end_time": "2017-06-27T21:47:30.116483Z",
     "start_time": "2017-06-27T21:47:29.888089Z"
    },
    "collapsed": true
   },
   "outputs": [],
   "source": [
    "error_frame2 = eval_rar_ranking(rar_compensate.feature_ranking, k=4)\n",
    "error_frame2"
   ]
  },
  {
   "cell_type": "markdown",
   "metadata": {},
   "source": [
    "## Cost Analysis"
   ]
  },
  {
   "cell_type": "markdown",
   "metadata": {
    "ExecuteTime": {
     "end_time": "2017-06-27T16:07:47.409552Z",
     "start_time": "2017-06-27T16:07:47.407584Z"
    }
   },
   "source": [
    "### With selection"
   ]
  },
  {
   "cell_type": "code",
   "execution_count": 5,
   "metadata": {
    "ExecuteTime": {
     "end_time": "2017-07-05T15:45:16.224728Z",
     "start_time": "2017-07-05T15:45:16.159179Z"
    },
    "collapsed": true
   },
   "outputs": [],
   "source": [
    "def eval_rar_ranking(ranking, target, k=3):\n",
    "    from imblearn.over_sampling import SMOTE\n",
    "    \n",
    "    clf_selected = ExtraTreesClassifier(n_jobs=-1)\n",
    "    selected_features = list(map(lambda f: f[0], ranking[:k]))\n",
    "    X_train_s = X_train[selected_features]\n",
    "    X_test_s = X_test[selected_features]\n",
    "    \n",
    "    # Rebalance\n",
    "    sm = SMOTE(random_state=42)\n",
    "    X_res, y_res = sm.fit_sample(X_train_s, y_train)\n",
    "    \n",
    "    clf_selected.fit(X_res, y_res)\n",
    "    y_predict = clf_selected.predict(X_test_s)\n",
    "    error_rates = dict([(value, {'sum': 0, 'errors': 0}) for value in np.unique(data[target])])\n",
    "    for real, predicted in zip(y_test, y_predict):\n",
    "        if real != predicted:\n",
    "            error_rates[real]['errors'] += 1\n",
    "        error_rates[real]['sum'] += 1\n",
    "\n",
    "    error_frame = pd.DataFrame(index=[0], columns=np.unique(data[target]))\n",
    "    for value, rates in error_rates.items():\n",
    "        error_frame[value] = [rates['errors'] / (rates['sum'])]\n",
    "    return error_frame"
   ]
  },
  {
   "cell_type": "markdown",
   "metadata": {
    "ExecuteTime": {
     "end_time": "2017-06-27T16:06:29.802362Z",
     "start_time": "2017-06-27T16:06:29.798890Z"
    }
   },
   "source": [
    "### Without selection"
   ]
  },
  {
   "cell_type": "code",
   "execution_count": null,
   "metadata": {
    "ExecuteTime": {
     "end_time": "2017-07-04T14:12:39.228396Z",
     "start_time": "2017-07-04T14:12:33.466558Z"
    },
    "collapsed": true
   },
   "outputs": [],
   "source": [
    "# Resampling for imbalanced learn\n",
    "from imblearn.over_sampling import SMOTE \n",
    "\n",
    "sm = SMOTE(random_state=42)\n",
    "X_res, y_res = sm.fit_sample(X_train, y_train)"
   ]
  },
  {
   "cell_type": "code",
   "execution_count": null,
   "metadata": {
    "ExecuteTime": {
     "end_time": "2017-07-04T14:12:40.407229Z",
     "start_time": "2017-07-04T14:12:39.229327Z"
    }
   },
   "outputs": [],
   "source": [
    "clf = ExtraTreesClassifier(n_jobs=-1)\n",
    "clf.fit(X_res, y_res)\n",
    "\n",
    "y_predict = clf.predict(X_test)\n",
    "error_rates = dict([(value, {'sum': 0, 'errors': 0}) for value in np.unique(data[150])])\n",
    "for real, predicted in zip(y_test, y_predict):\n",
    "    if real != predicted:\n",
    "        error_rates[real]['errors'] += 1\n",
    "    error_rates[real]['sum'] += 1\n",
    "error_frame = pd.DataFrame(index=[0], columns=np.unique(data[150]))\n",
    "for value, rates in error_rates.items():\n",
    "    error_frame[value] = [rates['errors'] / (rates['sum'])]\n",
    "error_frame"
   ]
  },
  {
   "cell_type": "code",
   "execution_count": null,
   "metadata": {
    "ExecuteTime": {
     "end_time": "2017-06-30T14:09:02.712088Z",
     "start_time": "2017-06-30T14:09:02.601069Z"
    }
   },
   "outputs": [],
   "source": [
    "len(list(filter(lambda p: p == 1.0, y_predict)))"
   ]
  },
  {
   "cell_type": "code",
   "execution_count": null,
   "metadata": {
    "ExecuteTime": {
     "end_time": "2017-06-30T14:09:11.391744Z",
     "start_time": "2017-06-30T14:09:11.388894Z"
    }
   },
   "outputs": [],
   "source": [
    "error_rates"
   ]
  },
  {
   "cell_type": "code",
   "execution_count": null,
   "metadata": {
    "ExecuteTime": {
     "end_time": "2017-06-27T16:41:19.951462Z",
     "start_time": "2017-06-27T16:41:19.842950Z"
    },
    "collapsed": true
   },
   "outputs": [],
   "source": [
    "clf.score(X_test, y_test)"
   ]
  },
  {
   "cell_type": "markdown",
   "metadata": {},
   "source": [
    "## DecisionTreeClassifier for Feature Ranking"
   ]
  },
  {
   "cell_type": "code",
   "execution_count": null,
   "metadata": {
    "ExecuteTime": {
     "end_time": "2017-06-30T14:07:28.720313Z",
     "start_time": "2017-06-30T14:07:11.342466Z"
    }
   },
   "outputs": [],
   "source": [
    "clf = DecisionTreeClassifier()\n",
    "clf.fit(X_train, y_train)\n",
    "clf.score(X_test, y_test)"
   ]
  },
  {
   "cell_type": "code",
   "execution_count": null,
   "metadata": {
    "ExecuteTime": {
     "end_time": "2017-06-30T14:07:28.770962Z",
     "start_time": "2017-06-30T14:07:28.721222Z"
    }
   },
   "outputs": [],
   "source": [
    "%pdb 1\n",
    "y_predict = clf.predict(X_test)\n",
    "error_rates = dict([(value, {'sum': 0, 'errors': 0}) for value in np.unique(data[150])])\n",
    "for real, predicted in zip(y_test, y_predict):\n",
    "    if real != predicted:\n",
    "        error_rates[real]['errors'] += 1\n",
    "    error_rates[real]['sum'] += 1\n",
    "error_frame = pd.DataFrame(index=[0], columns=np.unique(data[150]))\n",
    "for value, rates in error_rates.items():\n",
    "    error_frame[value] = [rates['errors'] / (rates['sum'])]\n",
    "error_frame"
   ]
  },
  {
   "cell_type": "code",
   "execution_count": null,
   "metadata": {
    "ExecuteTime": {
     "start_time": "2017-06-08T12:19:21.148Z"
    },
    "collapsed": true
   },
   "outputs": [],
   "source": [
    "ranking = []\n",
    "for index, importance in enumerate(clf.feature_importances_):\n",
    "    ranking.append((data.columns[index], importance))\n",
    "ranking.sort(key=lambda r: r[1], reverse=True)\n",
    "for (index, rank) in enumerate(ranking):\n",
    "        print('{}. {} with a score of {}'.format(index + 1, rank[0], rank[1]))"
   ]
  },
  {
   "cell_type": "markdown",
   "metadata": {},
   "source": [
    "## Benchmarking with top k features"
   ]
  },
  {
   "cell_type": "code",
   "execution_count": null,
   "metadata": {
    "ExecuteTime": {
     "start_time": "2017-06-08T12:19:24.460Z"
    },
    "collapsed": true
   },
   "outputs": [],
   "source": [
    "import sys\n",
    "\n",
    "scores = pd.DataFrame(columns=['RaR', 'DecisionTree'], index=np.arange(40))\n",
    "scores = scores.fillna(0)\n",
    "max_k = 40\n",
    "\n",
    "# RaR\n",
    "for i in range(1,max_k):\n",
    "    clf_selected = ExtraTreesClassifier(max_features=i, n_jobs=-1)\n",
    "    selected_features = list(map(lambda f: int(f[0]), rar.feature_ranking[:i]))\n",
    "    X_train_s = X_train[selected_features]\n",
    "    X_test_s = X_test[selected_features]\n",
    "    clf_selected.fit(X_train_s, y_train)\n",
    "    scores.loc[i, 'RaR'] = clf_selected.score(X_test_s, y_test)\n",
    "    sys.stdout.write('\\rBenchmark: {}%     '.format(100 * i / (2*max_k)))\n",
    "    sys.stdout.flush()\n",
    "    \n",
    "# DecisionTree\n",
    "for i in range(1,max_k):\n",
    "    clf_selected = ExtraTreesClassifier(max_features=i, n_jobs=-1)\n",
    "    selected_features = [r[0] for r in ranking[:i]]\n",
    "    X_train_s = X_train[selected_features]\n",
    "    X_test_s = X_test[selected_features]\n",
    "    clf_selected.fit(X_train_s, y_train)\n",
    "    scores.loc[i, 'DecisionTree'] = clf_selected.score(X_test_s, y_test)\n",
    "    sys.stdout.write('\\rBenchmark: {}%     '.format(50 + 100 * i / (2*max_k)))\n",
    "    sys.stdout.flush()\n",
    "print('Benchmark: 100.0%')"
   ]
  },
  {
   "cell_type": "code",
   "execution_count": null,
   "metadata": {
    "ExecuteTime": {
     "start_time": "2017-06-08T12:19:27.588Z"
    },
    "collapsed": true
   },
   "outputs": [],
   "source": [
    "import matplotlib.pyplot as plt\n",
    "plt.plot(scores['DecisionTree'], label='DecisionTree')\n",
    "plt.plot(scores['RaR'], label='RaR')\n",
    "plt.legend(bbox_to_anchor=(0., 1.02, 1., .102), loc=3,\n",
    "           ncol=2, mode=\"expand\", borderaxespad=0.)\n",
    "plt.savefig('test4_FS_ExtraTrees_Score')\n",
    "plt.show()"
   ]
  },
  {
   "cell_type": "markdown",
   "metadata": {},
   "source": [
    "## Other"
   ]
  },
  {
   "cell_type": "code",
   "execution_count": null,
   "metadata": {
    "collapsed": true
   },
   "outputs": [],
   "source": [
    "# In case we need to look at the tree\n",
    "from sklearn import tree\n",
    "import pydot\n",
    "from sklearn.externals.six import StringIO\n",
    "dot_data = StringIO()\n",
    "tree.export_graphviz(clf, out_file='tree.dot')"
   ]
  }
 ],
 "metadata": {
  "kernelspec": {
   "display_name": "Python 3",
   "language": "python",
   "name": "python3"
  },
  "language_info": {
   "codemirror_mode": {
    "name": "ipython",
    "version": 3
   },
   "file_extension": ".py",
   "mimetype": "text/x-python",
   "name": "python",
   "nbconvert_exporter": "python",
   "pygments_lexer": "ipython3",
   "version": "3.5.2"
  },
  "notify_time": "30"
 },
 "nbformat": 4,
 "nbformat_minor": 1
}
