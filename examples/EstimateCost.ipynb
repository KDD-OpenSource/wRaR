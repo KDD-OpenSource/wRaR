{
 "cells": [
  {
   "cell_type": "code",
   "execution_count": null,
   "metadata": {
    "ExecuteTime": {
     "end_time": "2017-07-05T15:33:55.261587Z",
     "start_time": "2017-07-05T15:33:55.227880Z"
    },
    "collapsed": true
   },
   "outputs": [],
   "source": [
    "%load_ext autoreload\n",
    "%autoreload 2\n",
    "%pdb 0"
   ]
  },
  {
   "cell_type": "code",
   "execution_count": 1,
   "metadata": {
    "ExecuteTime": {
     "end_time": "2017-07-11T12:13:44.335978Z",
     "start_time": "2017-07-11T12:13:43.893997Z"
    },
    "collapsed": true
   },
   "outputs": [],
   "source": [
    "import pandas as pd\n",
    "import numpy as np\n",
    "import csrar\n",
    "from sklearn.model_selection import train_test_split\n",
    "from sklearn.tree import DecisionTreeClassifier\n",
    "from sklearn.ensemble import RandomForestClassifier, ExtraTreesClassifier\n",
    "from sklearn import svm"
   ]
  },
  {
   "cell_type": "code",
   "execution_count": null,
   "metadata": {
    "ExecuteTime": {
     "end_time": "2017-07-05T20:03:21.459316Z",
     "start_time": "2017-07-05T20:03:21.451720Z"
    },
    "collapsed": true
   },
   "outputs": [],
   "source": [
    "# Redirect output for long sessions\n",
    "import sys\n",
    "sys.stderr=open(\"err.txt\",\"w\")\n",
    "sys.stdout=open(\"logs.txt\", \"w\")"
   ]
  },
  {
   "cell_type": "code",
   "execution_count": null,
   "metadata": {
    "ExecuteTime": {
     "end_time": "2017-07-06T09:23:23.681227Z",
     "start_time": "2017-07-06T09:23:23.673116Z"
    },
    "collapsed": true
   },
   "outputs": [],
   "source": [
    "data = pd.read_csv('../data/page-blocks0.csv')"
   ]
  },
  {
   "cell_type": "code",
   "execution_count": null,
   "metadata": {
    "ExecuteTime": {
     "end_time": "2017-07-08T19:49:54.803520Z",
     "start_time": "2017-07-08T19:49:54.309322Z"
    },
    "collapsed": true
   },
   "outputs": [],
   "source": [
    "data = pd.read_csv('../data/isolet.csv', header=None)"
   ]
  },
  {
   "cell_type": "code",
   "execution_count": null,
   "metadata": {
    "ExecuteTime": {
     "end_time": "2017-07-08T15:43:19.649813Z",
     "start_time": "2017-07-08T15:43:19.641694Z"
    },
    "collapsed": true
   },
   "outputs": [],
   "source": [
    "np.unique(data[617], return_counts=True)"
   ]
  },
  {
   "cell_type": "code",
   "execution_count": null,
   "metadata": {
    "ExecuteTime": {
     "end_time": "2017-07-06T09:05:03.169591Z",
     "start_time": "2017-07-06T09:05:03.140616Z"
    },
    "collapsed": true
   },
   "outputs": [],
   "source": [
    "data"
   ]
  },
  {
   "cell_type": "code",
   "execution_count": null,
   "metadata": {
    "ExecuteTime": {
     "end_time": "2017-07-05T15:39:13.456629Z",
     "start_time": "2017-07-05T15:39:13.319665Z"
    },
    "collapsed": true
   },
   "outputs": [],
   "source": [
    "# For rootkit_imap...\n",
    "for cat_col in ['Atr-1', 'Atr-2', 'Atr-3']:\n",
    "    data[cat_col] = pd.Categorical(data[cat_col])\n",
    "    data[cat_col] = data[cat_col].cat.codes"
   ]
  },
  {
   "cell_type": "code",
   "execution_count": null,
   "metadata": {
    "ExecuteTime": {
     "end_time": "2017-07-06T09:23:25.551107Z",
     "start_time": "2017-07-06T09:23:25.541996Z"
    },
    "collapsed": true
   },
   "outputs": [],
   "source": [
    "# For page-block0.csv, convert 'positive'/'negative' to 0 and 1\n",
    "data['Class'] = pd.Categorical(data['Class'])\n",
    "data['Class'] = data['Class'].cat.codes"
   ]
  },
  {
   "cell_type": "code",
   "execution_count": null,
   "metadata": {
    "ExecuteTime": {
     "end_time": "2017-07-05T15:15:16.123116Z",
     "start_time": "2017-07-05T15:15:16.112576Z"
    },
    "collapsed": true
   },
   "outputs": [],
   "source": [
    "data.dtypes"
   ]
  },
  {
   "cell_type": "code",
   "execution_count": null,
   "metadata": {
    "ExecuteTime": {
     "end_time": "2017-07-08T15:18:15.584146Z",
     "start_time": "2017-07-08T15:18:15.568192Z"
    },
    "collapsed": true
   },
   "outputs": [],
   "source": [
    "uniques = np.unique(data[617], return_counts=True)\n",
    "perc = list(map(lambda c: c/len(data), uniques[1]))\n",
    "perc"
   ]
  },
  {
   "cell_type": "code",
   "execution_count": 2,
   "metadata": {
    "ExecuteTime": {
     "end_time": "2017-07-11T12:13:54.523218Z",
     "start_time": "2017-07-11T12:13:49.890634Z"
    },
    "collapsed": true
   },
   "outputs": [],
   "source": [
    "import arff\n",
    "file = open('../data/test6.arff', 'r')\n",
    "dataset = arff.load(file)\n",
    "data = pd.DataFrame(dataset['data'])"
   ]
  },
  {
   "cell_type": "code",
   "execution_count": null,
   "metadata": {
    "ExecuteTime": {
     "end_time": "2017-07-10T15:08:16.935601Z",
     "start_time": "2017-07-10T15:08:16.907376Z"
    },
    "collapsed": true
   },
   "outputs": [],
   "source": [
    "np.unique(data[75], return_counts=True)"
   ]
  },
  {
   "cell_type": "code",
   "execution_count": null,
   "metadata": {
    "ExecuteTime": {
     "end_time": "2017-07-10T15:04:57.401566Z",
     "start_time": "2017-07-10T15:04:57.338473Z"
    },
    "collapsed": true
   },
   "outputs": [],
   "source": [
    "data[150] = data[150].astype(np.float32)"
   ]
  },
  {
   "cell_type": "code",
   "execution_count": null,
   "metadata": {
    "ExecuteTime": {
     "end_time": "2017-07-10T13:41:18.326797Z",
     "start_time": "2017-07-10T13:41:18.272297Z"
    },
    "collapsed": true
   },
   "outputs": [],
   "source": [
    "data[np.arange(10)].min().min()"
   ]
  },
  {
   "cell_type": "code",
   "execution_count": null,
   "metadata": {
    "collapsed": true
   },
   "outputs": [],
   "source": []
  },
  {
   "cell_type": "code",
   "execution_count": null,
   "metadata": {
    "collapsed": true
   },
   "outputs": [],
   "source": []
  },
  {
   "cell_type": "code",
   "execution_count": null,
   "metadata": {
    "collapsed": true
   },
   "outputs": [],
   "source": []
  },
  {
   "cell_type": "code",
   "execution_count": null,
   "metadata": {
    "collapsed": true
   },
   "outputs": [],
   "source": []
  },
  {
   "cell_type": "code",
   "execution_count": null,
   "metadata": {
    "collapsed": true
   },
   "outputs": [],
   "source": []
  },
  {
   "cell_type": "markdown",
   "metadata": {},
   "source": [
    "#### About test2.arff:\n",
    "useful=Vector(0, 1)  \n",
    "dependent=Vector(5, 6, 7, 8, 9)  \n",
    "duplicated=Vector((0,12), (4,10), (6,11))  \n",
    "nominal=List()  \n",
    "clusters=[(0, 1, 2), (3, 4)]  \n",
    "distribution=List(24860, 25140)  \n",
    "seed=0\n",
    "#### About test3.arff\n",
    "useful=Vector(0, 1)  \n",
    "dependent=Vector(5, 6, 7, 8, 9)  \n",
    "duplicated=Vector((0,12), (4,10), (6,11))  \n",
    "nominal=List()  \n",
    "clusters=[(0, 1, 2), (3, 4)]  \n",
    "distribution=List(249786, 250214)  \n",
    "#### About test4.arff\n",
    "useful=Vector(0, 1, 2, 3, 4, 5, 6, 7, 8, 9, 10, 11, 12, 13, 14, 15, 16, 17, 18, 19, 20, 21, 22, 23, 24, 25, 26, 27, 28, 29)  \n",
    "dependent=Vector(100, 101, 102, 103, 104, 105, 106, 107, 108, 109, 110, 111, 112, 113, 114, 115, 116, 117, 118, 119, 120, 121, 122, 123, 124, 125, 126, 127, 128, 129, 130, 131, 132, 133, 134, 135, 136, 137, 138, 139, 140, 141, 142, 143, 144, 145, 146, 147, 148, 149)  \n",
    "duplicated=Vector((7,168), (10,157), (24,159), (28,162), (30,166), (50,169), (61,154), (82,158), (99,167), (104,156), (107,151), (113,164), (117,155), (117,165), (124,150), (135,160), (139,152), (145,161), (146,153), (147,163))  \n",
    "nominal=List()  \n",
    "clusters=[(0, 1, 2, 3, 4, 5, 6, 7, 8, 9), (10, 11, 12, 13, 14), (15, 16, 17)]  \n",
    "distribution=List(250085, 249915)  \n",
    "#### About test5.arff\n",
    "useful=Vector(0, 1, 2, 3, 4, 5, 6, 7, 8, 9)  \n",
    "dependent=Vector(80, 81, 82, 83, 84, 85, 86, 87, 88, 89, 90, 91, 92, 93, 94, 95, 96, 97, 98, 99, 100, 101, 102, 103, 104, 105, 106, 107, 108, 109)  \n",
    "duplicated=Vector((4,118), (8,114), (8,146), (9,137), (9,144), (10,131), (17,123), (22,116), (24,120), (24,142), (25,125), (35,127), (42,119), (43,122), (45,111), (48,134), (50,132), (52,110), (54,138), (57,112), (57,115), (57,149), (62,141), (64,136), (70,117), (70,148), (73,126), (76,133), (77,140), (78,143), (83,113), (84,139), (91,145), (92,121), (93,128), (93,135), (95,124), (103,129), (104,130), (105,147))  \n",
    "nominal=List()  \n",
    "clusters=[(0, 1, 2), (3, 4), (5, 6, 7, 8, 9, 10, 11, 12, 13, 14)]  \n",
    "distribution=List(99718, 100282)  \n"
   ]
  },
  {
   "cell_type": "markdown",
   "metadata": {},
   "source": [
    "### Train/Test Split"
   ]
  },
  {
   "cell_type": "code",
   "execution_count": 9,
   "metadata": {
    "ExecuteTime": {
     "end_time": "2017-07-11T12:14:00.446303Z",
     "start_time": "2017-07-11T12:14:00.408570Z"
    },
    "collapsed": true
   },
   "outputs": [],
   "source": [
    "classes = dict(list(data.groupby(data[75]))).values()\n",
    "random_dist = np.random.rand(len(classes))\n",
    "samples = []\n",
    "for percentage, values in zip(random_dist, classes):\n",
    "    samples.append(values.sample(frac=percentage))\n",
    "imb_data = pd.concat(samples).reset_index(drop=True)"
   ]
  },
  {
   "cell_type": "code",
   "execution_count": 10,
   "metadata": {
    "ExecuteTime": {
     "end_time": "2017-07-11T12:14:01.126099Z",
     "start_time": "2017-07-11T12:14:01.105035Z"
    }
   },
   "outputs": [
    {
     "data": {
      "text/plain": [
       "[0.34561475024301525,\n",
       " 0.33611363707629111,\n",
       " 0.29807782760026341,\n",
       " 0.020193785080430217]"
      ]
     },
     "execution_count": 10,
     "metadata": {},
     "output_type": "execute_result"
    }
   ],
   "source": [
    "uniques = np.unique(imb_data[75], return_counts=True)\n",
    "perc = list(map(lambda c: c/len(imb_data), uniques[1]))\n",
    "perc"
   ]
  },
  {
   "cell_type": "code",
   "execution_count": 11,
   "metadata": {
    "ExecuteTime": {
     "end_time": "2017-07-11T12:14:01.732401Z",
     "start_time": "2017-07-11T12:14:01.729134Z"
    }
   },
   "outputs": [
    {
     "data": {
      "text/plain": [
       "17.114906832298136"
      ]
     },
     "execution_count": 11,
     "metadata": {},
     "output_type": "execute_result"
    }
   ],
   "source": [
    "# biggest difference between classes\n",
    "max(perc) / min(perc)"
   ]
  },
  {
   "cell_type": "code",
   "execution_count": null,
   "metadata": {
    "ExecuteTime": {
     "end_time": "2017-07-10T19:53:08.808507Z",
     "start_time": "2017-07-10T19:53:08.794428Z"
    },
    "collapsed": true
   },
   "outputs": [],
   "source": [
    "np.unique(imb_data[75], return_counts=True)"
   ]
  },
  {
   "cell_type": "code",
   "execution_count": 12,
   "metadata": {
    "ExecuteTime": {
     "end_time": "2017-07-11T12:14:03.595666Z",
     "start_time": "2017-07-11T12:14:03.593070Z"
    },
    "collapsed": true
   },
   "outputs": [],
   "source": [
    "data = imb_data"
   ]
  },
  {
   "cell_type": "code",
   "execution_count": null,
   "metadata": {
    "collapsed": true
   },
   "outputs": [],
   "source": []
  },
  {
   "cell_type": "code",
   "execution_count": null,
   "metadata": {
    "ExecuteTime": {
     "end_time": "2017-07-05T21:18:05.519467Z",
     "start_time": "2017-07-05T21:18:05.340052Z"
    },
    "collapsed": true
   },
   "outputs": [],
   "source": [
    "# Artificially imbalance dataset\n",
    "class0 = data.loc[data[150] == 0]\n",
    "class1 = data.loc[data[150] == 1]\n",
    "imb_data = pd.concat([class1.sample(frac=0.1), class0]).reset_index(drop=True)\n",
    "# For perfectly balanced dataset, this will result in a 97.56:2.44 ratio"
   ]
  },
  {
   "cell_type": "code",
   "execution_count": 13,
   "metadata": {
    "ExecuteTime": {
     "end_time": "2017-07-11T12:14:07.668271Z",
     "start_time": "2017-07-11T12:14:07.649081Z"
    },
    "collapsed": true
   },
   "outputs": [],
   "source": [
    "target = 75\n",
    "X = data.drop(target, axis=1)\n",
    "y = data[target]\n",
    "X_train, X_test, y_train, y_test = train_test_split(X, y, test_size=0.2)"
   ]
  },
  {
   "cell_type": "code",
   "execution_count": null,
   "metadata": {
    "ExecuteTime": {
     "end_time": "2017-07-10T15:25:34.324984Z",
     "start_time": "2017-07-10T15:25:34.316815Z"
    },
    "collapsed": true
   },
   "outputs": [],
   "source": []
  },
  {
   "cell_type": "code",
   "execution_count": null,
   "metadata": {
    "ExecuteTime": {
     "end_time": "2017-07-05T21:33:40.448649Z",
     "start_time": "2017-07-05T21:33:40.440757Z"
    },
    "collapsed": true
   },
   "outputs": [],
   "source": [
    "X_train.columns.dtype"
   ]
  },
  {
   "cell_type": "markdown",
   "metadata": {},
   "source": [
    "## RaR"
   ]
  },
  {
   "cell_type": "code",
   "execution_count": null,
   "metadata": {
    "ExecuteTime": {
     "end_time": "2017-07-11T12:06:25.958057Z",
     "start_time": "2017-07-11T12:02:17.658558Z"
    }
   },
   "outputs": [],
   "source": [
    "scores = 0\n",
    "max_k = len(X.columns)\n",
    "f1_scores = []\n",
    "\n",
    "for i in range(1):\n",
    "    rar_data = pd.concat([X_train, y_train], axis=1)\n",
    "    # RaR uses columns with string label only\n",
    "    rar_data.rename(columns=lambda c: str(c), inplace=True)\n",
    "    rar = csrar.rar.RaR(rar_data)\n",
    "    rar.run(str(target), k=5, runs=100, split_iterations=10, compensate_imbalance=False)\n",
    "    \n",
    "    # Evaluate, average relative error rates\n",
    "    score = pd.DataFrame(columns=np.unique(data[target]), index=np.arange(max_k)).fillna(0)\n",
    "    for i in range(1, max_k):\n",
    "        errors, f1 = eval_rar_ranking(rar.feature_ranking, target, k=i)\n",
    "        f1_scores.append(f1)\n",
    "        for label in errors.columns:\n",
    "            score.loc[i, label] = errors[label][0]\n",
    "    scores += score\n",
    "scores /= 1\n",
    "\n",
    "import matplotlib.pyplot as plt\n",
    "# for label in scores.columns:\n",
    "#     plt.plot(scores[label], label='Class {}'.format(label))\n",
    "plt.plot(f1_scores)\n",
    "plt.legend(bbox_to_anchor=(0., 1.02, 1., .102), loc=3,\n",
    "           ncol=2, mode=\"expand\", borderaxespad=0.)\n",
    "axes = plt.gca()\n",
    "axes.set_ylim([0, 1])\n",
    "plt.savefig('Dev2_test6_imb_f1_nocomp_3')\n",
    "plt.show()"
   ]
  },
  {
   "cell_type": "code",
   "execution_count": null,
   "metadata": {
    "collapsed": true
   },
   "outputs": [],
   "source": []
  },
  {
   "cell_type": "code",
   "execution_count": 15,
   "metadata": {
    "ExecuteTime": {
     "end_time": "2017-07-11T12:21:01.261214Z",
     "start_time": "2017-07-11T12:14:14.896166Z"
    }
   },
   "outputs": [
    {
     "name": "stdout",
     "output_type": "stream",
     "text": [
      "Generated cost matrix:\n",
      "         0.0        1.0        2.0            3.0\n",
      "0  24.391008  26.060389  37.885991  122276.827328\n",
      "Overall cost matrix:\n",
      "         0.0        1.0        2.0            3.0\n",
      "0  24.391008  26.060389  37.885991  122276.827328\n",
      "Relevance: 0.00%            0.0       1.0       2.0       3.0\n",
      "0  0.02029  0.015875  0.018827  0.074745\n",
      "85.1348010087\n",
      "weighted to\n",
      "85.1348010087\n",
      "Relevance: 1.00%             0.0       1.0       2.0      3.0\n",
      "0  0.085308  0.030839  0.064218  0.13725\n",
      "-49.7569096782\n",
      "weighted to\n",
      "-49.7569096782\n",
      "Relevance: 2.00%            0.0       1.0      2.0       3.0\n",
      "0  0.09663  0.030604  0.07134  0.165644\n",
      "397.433464001\n",
      "weighted to\n",
      "397.433464001\n",
      "Relevance: 3.00%             0.0       1.0       2.0       3.0\n",
      "0  0.160579  0.041771  0.158136  0.293064\n",
      "-190.281139129\n",
      "weighted to\n",
      "-190.281139129\n",
      "Relevance: 4.00%            0.0       1.0       2.0       3.0\n",
      "0  0.21447  0.065276  0.169561  0.287903\n",
      "226.441123394\n",
      "weighted to\n",
      "226.441123394\n",
      "Relevance: 5.00%            0.0       1.0       2.0       3.0\n",
      "0  0.01853  0.023027  0.016973  0.128415\n",
      "22.9815662051\n",
      "weighted to\n",
      "22.9815662051\n",
      "Relevance: 6.00%             0.0       1.0       2.0       3.0\n",
      "0  0.274854  0.024375  0.271687  0.513749\n",
      "448.659430786\n",
      "weighted to\n",
      "448.659430786\n",
      "Relevance: 7.00%             0.0       1.0       2.0       3.0\n",
      "0  0.075652  0.021877  0.068144  0.247812\n",
      "230.682858384\n",
      "weighted to\n",
      "230.682858384\n",
      "Relevance: 8.00%             0.0       1.0       2.0       3.0\n",
      "0  0.017418  0.009367  0.016347  0.068099\n",
      "73.9764894106\n",
      "weighted to\n",
      "73.9764894106\n",
      "Relevance: 9.00%            0.0       1.0       2.0       3.0\n",
      "0  0.14594  0.032251  0.167304  0.306614\n",
      "-326.924987419\n",
      "weighted to\n",
      "-326.924987419\n",
      "Relevance: 10.00%             0.0       1.0       2.0       3.0\n",
      "0  0.131819  0.015024  0.120973  0.315605\n",
      "826.24224618\n",
      "weighted to\n",
      "826.24224618\n",
      "Relevance: 11.00%             0.0       1.0       2.0       3.0\n",
      "0  0.208607  0.044482  0.179118  0.368671\n",
      "244.048425565\n",
      "weighted to\n",
      "244.048425565\n",
      "Relevance: 12.00%            0.0       1.0       2.0       3.0\n",
      "0  0.02811  0.020323  0.025915  0.110172\n",
      "172.757732944\n",
      "weighted to\n",
      "172.757732944\n",
      "Relevance: 13.00%             0.0       1.0       2.0       3.0\n",
      "0  0.093633  0.027693  0.077275  0.207193\n",
      "-485.283781758\n",
      "weighted to\n",
      "-485.283781758\n",
      "Relevance: 14.00%             0.0       1.0       2.0      3.0\n",
      "0  0.119422  0.022261  0.135235  0.30077\n",
      "-128.587508314\n",
      "weighted to\n",
      "-128.587508314\n",
      "Relevance: 15.00%             0.0       1.0       2.0       3.0\n",
      "0  0.163412  0.028072  0.148738  0.382015\n",
      "-848.927039315\n",
      "weighted to\n",
      "-848.927039315\n",
      "Relevance: 16.00%             0.0       1.0       2.0     3.0\n",
      "0  0.139476  0.040432  0.123749  0.2837\n",
      "37.6254625851\n",
      "weighted to\n",
      "37.6254625851\n",
      "Relevance: 17.00%             0.0       1.0       2.0       3.0\n",
      "0  0.147763  0.088714  0.121055  0.475744\n",
      "-710.450223904\n",
      "weighted to\n",
      "-710.450223904\n",
      "Relevance: 18.00%             0.0      1.0       2.0       3.0\n",
      "0  0.073029  0.01679  0.064604  0.241199\n",
      "-347.840638268\n",
      "weighted to\n",
      "-347.840638268\n",
      "Relevance: 19.00%             0.0       1.0       2.0       3.0\n",
      "0  0.015643  0.020021  0.031569  0.105691\n",
      "-192.299247959\n",
      "weighted to\n",
      "-192.299247959\n",
      "Relevance: 20.00%             0.0       1.0       2.0       3.0\n",
      "0  0.095156  0.037624  0.084003  0.147526\n",
      "-50.559041494\n",
      "weighted to\n",
      "-50.559041494\n",
      "Relevance: 21.00%             0.0       1.0       2.0       3.0\n",
      "0  0.024615  0.021485  0.030292  0.126469\n",
      "214.468264768\n",
      "weighted to\n",
      "214.468264768\n",
      "Relevance: 22.00%             0.0      1.0       2.0       3.0\n",
      "0  0.081716  0.03551  0.095309  0.138975\n",
      "-192.741599749\n",
      "weighted to\n",
      "-192.741599749\n",
      "Relevance: 23.00%             0.0       1.0       2.0       3.0\n",
      "0  0.139476  0.022745  0.141906  0.304015\n",
      "-373.485549638\n",
      "weighted to\n",
      "-373.485549638\n",
      "Relevance: 24.00%             0.0       1.0       2.0       3.0\n",
      "0  0.026872  0.016385  0.033079  0.078276\n",
      "-205.957750067\n",
      "weighted to\n",
      "-205.957750067\n",
      "Relevance: 25.00%             0.0       1.0       2.0       3.0\n",
      "0  0.122253  0.077697  0.150563  0.392653\n",
      "-939.448275762\n",
      "weighted to\n",
      "-939.448275762\n",
      "Relevance: 26.00%             0.0       1.0       2.0      3.0\n",
      "0  0.047614  0.016424  0.037402  0.05555\n",
      "76.2496260946\n",
      "weighted to\n",
      "76.2496260946\n",
      "Relevance: 27.00%             0.0       1.0       2.0       3.0\n",
      "0  0.092615  0.020476  0.096274  0.162487\n",
      "405.803621184\n",
      "weighted to\n",
      "405.803621184\n",
      "Relevance: 28.00%             0.0       1.0       2.0       3.0\n",
      "0  0.139882  0.026741  0.135292  0.300617\n",
      "-339.276708852\n",
      "weighted to\n",
      "-339.276708852\n",
      "Relevance: 29.00%             0.0       1.0       2.0       3.0\n",
      "0  0.085959  0.019483  0.081203  0.224213\n",
      "211.679894953\n",
      "weighted to\n",
      "211.679894953\n",
      "Relevance: 30.00%             0.0       1.0       2.0       3.0\n",
      "0  0.041502  0.010296  0.049055  0.110551\n",
      "92.190881232\n",
      "weighted to\n",
      "92.190881232\n",
      "Relevance: 31.00%             0.0       1.0       2.0       3.0\n",
      "0  0.094825  0.037728  0.080775  0.191916\n",
      "-157.576100103\n",
      "weighted to\n",
      "-157.576100103\n",
      "Relevance: 32.00%             0.0       1.0       2.0       3.0\n",
      "0  0.041823  0.017249  0.037092  0.165936\n",
      "370.582771615\n",
      "weighted to\n",
      "370.582771615\n",
      "Relevance: 33.00%             0.0       1.0       2.0       3.0\n",
      "0  0.173834  0.076686  0.169624  0.345423\n",
      "-174.38266386\n",
      "weighted to\n",
      "-174.38266386\n",
      "Relevance: 34.00%             0.0       1.0       2.0       3.0\n",
      "0  0.010034  0.011723  0.017279  0.163842\n",
      "313.986937912\n",
      "weighted to\n",
      "313.986937912\n",
      "Relevance: 35.00%             0.0       1.0       2.0       3.0\n",
      "0  0.109517  0.069441  0.068637  0.136764\n",
      "-44.5368366858\n",
      "weighted to\n",
      "-44.5368366858\n",
      "Relevance: 36.00%             0.0       1.0       2.0       3.0\n",
      "0  0.130123  0.050145  0.118986  0.318963\n",
      "88.1562484504\n",
      "weighted to\n",
      "88.1562484504\n",
      "Relevance: 37.00%             0.0       1.0       2.0       3.0\n",
      "0  0.147182  0.092699  0.117749  0.445356\n",
      "-1084.22824426\n",
      "weighted to\n",
      "-1084.22824426\n",
      "Relevance: 38.00%            0.0      1.0      2.0       3.0\n",
      "0  0.12869  0.03279  0.10886  0.212484\n",
      "430.457136205\n",
      "weighted to\n",
      "430.457136205\n",
      "Relevance: 39.00%            0.0       1.0       2.0       3.0\n",
      "0  0.21859  0.140284  0.209164  0.639818\n",
      "-1061.18714543\n",
      "weighted to\n",
      "-1061.18714543\n",
      "Relevance: 40.00%             0.0       1.0       2.0       3.0\n",
      "0  0.266553  0.057703  0.236243  0.391678\n",
      "126.864972916\n",
      "weighted to\n",
      "126.864972916\n",
      "Relevance: 41.00%             0.0       1.0       2.0       3.0\n",
      "0  0.115466  0.046754  0.098824  0.236418\n",
      "-36.0455973285\n",
      "weighted to\n",
      "-36.0455973285\n",
      "Relevance: 42.00%             0.0       1.0       2.0      3.0\n",
      "0  0.086826  0.013141  0.080231  0.20112\n",
      "646.379664334\n",
      "weighted to\n",
      "646.379664334\n",
      "Relevance: 43.00%             0.0       1.0       2.0       3.0\n",
      "0  0.113507  0.029318  0.095632  0.179935\n",
      "124.439759217\n",
      "weighted to\n",
      "124.439759217\n",
      "Relevance: 44.00%            0.0       1.0       2.0       3.0\n",
      "0  0.09638  0.019556  0.082386  0.219862\n",
      "399.018439511\n",
      "weighted to\n",
      "399.018439511\n",
      "Relevance: 45.00%             0.0       1.0       2.0      3.0\n",
      "0  0.160148  0.059598  0.120506  0.17698\n",
      "297.270479322\n",
      "weighted to\n",
      "297.270479322\n",
      "Relevance: 46.00%            0.0       1.0       2.0      3.0\n",
      "0  0.16075  0.059731  0.135753  0.28058\n",
      "-171.122297874\n",
      "weighted to\n",
      "-171.122297874\n",
      "Relevance: 47.00%             0.0       1.0       2.0       3.0\n",
      "0  0.317065  0.050572  0.275956  0.571624\n",
      "757.395273817\n",
      "weighted to\n",
      "757.395273817\n",
      "Relevance: 48.00%             0.0       1.0       2.0       3.0\n",
      "0  0.190755  0.028454  0.180948  0.307289\n",
      "-139.362159687\n",
      "weighted to\n",
      "-139.362159687\n",
      "Relevance: 49.00%            0.0       1.0       2.0       3.0\n",
      "0  0.10041  0.026372  0.103054  0.240499\n",
      "340.306222013\n",
      "weighted to\n",
      "340.306222013\n",
      "Relevance: 50.00%             0.0       1.0       2.0       3.0\n",
      "0  0.082886  0.038158  0.077438  0.208016\n",
      "-344.660238845\n",
      "weighted to\n",
      "-344.660238845\n",
      "Relevance: 51.00%             0.0       1.0       2.0       3.0\n",
      "0  0.042307  0.019506  0.044176  0.138517\n",
      "245.126366083\n",
      "weighted to\n",
      "245.126366083\n",
      "Relevance: 52.00%             0.0       1.0       2.0       3.0\n",
      "0  0.154864  0.025762  0.142507  0.250002\n",
      "-187.660271014\n",
      "weighted to\n",
      "-187.660271014\n",
      "Relevance: 53.00%             0.0       1.0       2.0      3.0\n",
      "0  0.091953  0.040222  0.093068  0.21832\n",
      "-505.111887719\n",
      "weighted to\n",
      "-505.111887719\n",
      "Relevance: 54.00%             0.0       1.0      2.0       3.0\n",
      "0  0.178106  0.096952  0.17264  0.415003\n",
      "-735.185494911\n",
      "weighted to\n",
      "-735.185494911\n"
     ]
    },
    {
     "name": "stdout",
     "output_type": "stream",
     "text": [
      "Relevance: 55.00%             0.0       1.0       2.0       3.0\n",
      "0  0.062837  0.036439  0.035636  0.159123\n",
      "53.3572575137\n",
      "weighted to\n",
      "53.3572575137\n",
      "Relevance: 56.00%           0.0       1.0       2.0       3.0\n",
      "0  0.0237  0.019223  0.027132  0.192217\n",
      "-204.14469246\n",
      "weighted to\n",
      "-204.14469246\n",
      "Relevance: 57.00%             0.0      1.0       2.0      3.0\n",
      "0  0.103887  0.01955  0.089918  0.25337\n",
      "523.141061359\n",
      "weighted to\n",
      "523.141061359\n",
      "Relevance: 58.00%             0.0       1.0       2.0       3.0\n",
      "0  0.079854  0.060881  0.059086  0.195596\n",
      "-312.519961919\n",
      "weighted to\n",
      "-312.519961919\n",
      "Relevance: 59.00%             0.0       1.0       2.0       3.0\n",
      "0  0.094612  0.020571  0.088678  0.240039\n",
      "148.446266191\n",
      "weighted to\n",
      "148.446266191\n",
      "Relevance: 60.00%             0.0       1.0       2.0       3.0\n",
      "0  0.225144  0.062769  0.200412  0.457938\n",
      "-346.048333644\n",
      "weighted to\n",
      "-346.048333644\n",
      "Relevance: 61.00%            0.0       1.0     2.0       3.0\n",
      "0  0.09159  0.009251  0.0866  0.298776\n",
      "-571.886010616\n",
      "weighted to\n",
      "-571.886010616\n",
      "Relevance: 62.00%             0.0       1.0       2.0       3.0\n",
      "0  0.230737  0.080746  0.201676  0.364165\n",
      "-491.341612543\n",
      "weighted to\n",
      "-491.341612543\n",
      "Relevance: 63.00%             0.0       1.0       2.0      3.0\n",
      "0  0.092042  0.039513  0.064879  0.17957\n",
      "194.512789905\n",
      "weighted to\n",
      "194.512789905\n",
      "Relevance: 64.00%             0.0       1.0       2.0       3.0\n",
      "0  0.146215  0.028895  0.133024  0.259687\n",
      "230.150660809\n",
      "weighted to\n",
      "230.150660809\n",
      "Relevance: 65.00%            0.0       1.0       2.0       3.0\n",
      "0  0.05934  0.015526  0.052809  0.229222\n",
      "-598.812811951\n",
      "weighted to\n",
      "-598.812811951\n",
      "Relevance: 66.00%             0.0       1.0       2.0       3.0\n",
      "0  0.032598  0.025452  0.024905  0.075477\n",
      "13.847147037\n",
      "weighted to\n",
      "13.847147037\n",
      "Relevance: 67.00%             0.0       1.0       2.0       3.0\n",
      "0  0.090606  0.022795  0.079906  0.142439\n",
      "-70.6473531394\n",
      "weighted to\n",
      "-70.6473531394\n",
      "Relevance: 68.00%             0.0      1.0       2.0      3.0\n",
      "0  0.175553  0.03978  0.165814  0.44656\n",
      "-873.217143693\n",
      "weighted to\n",
      "-873.217143693\n",
      "Relevance: 69.00%            0.0       1.0      2.0       3.0\n",
      "0  0.09789  0.017639  0.11164  0.200098\n",
      "-17.6103442874\n",
      "weighted to\n",
      "-17.6103442874\n",
      "Relevance: 70.00%             0.0       1.0       2.0       3.0\n",
      "0  0.046467  0.016488  0.050447  0.120632\n",
      "115.137212045\n",
      "weighted to\n",
      "115.137212045\n",
      "Relevance: 71.00%             0.0       1.0      2.0       3.0\n",
      "0  0.063719  0.031606  0.05279  0.262838\n",
      "-767.393998718\n",
      "weighted to\n",
      "-767.393998718\n",
      "Relevance: 72.00%             0.0       1.0       2.0       3.0\n",
      "0  0.131089  0.045492  0.127119  0.351432\n",
      "-560.600860729\n",
      "weighted to\n",
      "-560.600860729\n",
      "Relevance: 73.00%             0.0       1.0      2.0       3.0\n",
      "0  0.273411  0.053966  0.28183  0.480431\n",
      "-286.339773492\n",
      "weighted to\n",
      "-286.339773492\n",
      "Relevance: 74.00%             0.0       1.0       2.0       3.0\n",
      "0  0.122127  0.034221  0.095968  0.251599\n",
      "589.008315238\n",
      "weighted to\n",
      "589.008315238\n",
      "Relevance: 75.00%             0.0      1.0       2.0       3.0\n",
      "0  0.044477  0.02424  0.034851  0.143249\n",
      "321.717415571\n",
      "weighted to\n",
      "321.717415571\n",
      "Relevance: 76.00%             0.0       1.0       2.0       3.0\n",
      "0  0.200746  0.076383  0.205221  0.470348\n",
      "-691.830276135\n",
      "weighted to\n",
      "-691.830276135\n",
      "Relevance: 77.00%             0.0       1.0       2.0       3.0\n",
      "0  0.107622  0.030019  0.097112  0.197781\n",
      "-255.29661429\n",
      "weighted to\n",
      "-255.29661429\n",
      "Relevance: 78.00%            0.0       1.0     2.0       3.0\n",
      "0  0.04101  0.027079  0.0428  0.090716\n",
      "86.9818065255\n",
      "weighted to\n",
      "86.9818065255\n",
      "Relevance: 79.00%             0.0       1.0       2.0       3.0\n",
      "0  0.140872  0.045147  0.138634  0.228882\n",
      "-352.99284221\n",
      "weighted to\n",
      "-352.99284221\n",
      "Relevance: 80.00%             0.0       1.0       2.0      3.0\n",
      "0  0.063885  0.008559  0.070084  0.17627\n",
      "34.9736327799\n",
      "weighted to\n",
      "34.9736327799\n",
      "Relevance: 81.00%             0.0       1.0       2.0       3.0\n",
      "0  0.059511  0.028807  0.050315  0.137333\n",
      "97.9619113902\n",
      "weighted to\n",
      "97.9619113902\n",
      "Relevance: 82.00%             0.0       1.0       2.0       3.0\n",
      "0  0.100981  0.027909  0.086927  0.302311\n",
      "-16.9858617475\n",
      "weighted to\n",
      "-16.9858617475\n",
      "Relevance: 83.00%            0.0       1.0       2.0       3.0\n",
      "0  0.06116  0.036074  0.047634  0.181276\n",
      "158.164614511\n",
      "weighted to\n",
      "158.164614511\n",
      "Relevance: 84.00%             0.0       1.0       2.0       3.0\n",
      "0  0.044277  0.018231  0.033584  0.150222\n",
      "-153.280914385\n",
      "weighted to\n",
      "-153.280914385\n",
      "Relevance: 85.00%             0.0       1.0       2.0       3.0\n",
      "0  0.166951  0.032771  0.151417  0.246952\n",
      "92.4732574543\n",
      "weighted to\n",
      "92.4732574543\n",
      "Relevance: 86.00%             0.0       1.0       2.0       3.0\n",
      "0  0.066218  0.016588  0.062812  0.108958\n",
      "105.407471301\n",
      "weighted to\n",
      "105.407471301\n",
      "Relevance: 87.00%             0.0       1.0       2.0       3.0\n",
      "0  0.042859  0.015907  0.039882  0.061857\n",
      "87.3159898236\n",
      "weighted to\n",
      "87.3159898236\n",
      "Relevance: 88.00%             0.0      1.0       2.0       3.0\n",
      "0  0.030892  0.01813  0.025563  0.140494\n",
      "150.552326796\n",
      "weighted to\n",
      "150.552326796\n",
      "Relevance: 89.00%             0.0       1.0       2.0     3.0\n",
      "0  0.444674  0.089815  0.416353  0.6761\n",
      "-160.449514678\n",
      "weighted to\n",
      "-160.449514678\n",
      "Relevance: 90.00%             0.0       1.0       2.0       3.0\n",
      "0  0.288416  0.041739  0.273323  0.535061\n",
      "688.964452741\n",
      "weighted to\n",
      "688.964452741\n",
      "Relevance: 91.00%             0.0       1.0       2.0       3.0\n",
      "0  0.312923  0.087508  0.268441  0.344817\n",
      "-204.355687157\n",
      "weighted to\n",
      "-204.355687157\n",
      "Relevance: 92.00%           0.0       1.0       2.0       3.0\n",
      "0  0.0678  0.016247  0.066199  0.265924\n",
      "-324.067789107\n",
      "weighted to\n",
      "-324.067789107\n",
      "Relevance: 93.00%             0.0       1.0       2.0       3.0\n",
      "0  0.024218  0.014901  0.020999  0.105179\n",
      "236.559533096\n",
      "weighted to\n",
      "236.559533096\n",
      "Relevance: 94.00%             0.0       1.0       2.0      3.0\n",
      "0  0.143797  0.023262  0.134073  0.24577\n",
      "533.091926308\n",
      "weighted to\n",
      "533.091926308\n",
      "Relevance: 95.00%             0.0       1.0       2.0       3.0\n",
      "0  0.081373  0.029985  0.063154  0.112118\n",
      "274.496183361\n",
      "weighted to\n",
      "274.496183361\n",
      "Relevance: 96.00%             0.0       1.0       2.0       3.0\n",
      "0  0.143111  0.054914  0.115559  0.240214\n",
      "338.62573452\n",
      "weighted to\n",
      "338.62573452\n",
      "Relevance: 97.00%             0.0       1.0       2.0       3.0\n",
      "0  0.080291  0.017185  0.081091  0.152168\n",
      "125.14515391\n",
      "weighted to\n",
      "125.14515391\n",
      "Relevance: 98.00%             0.0       1.0       2.0       3.0\n",
      "0  0.071166  0.016271  0.055165  0.178598\n",
      "-135.56331396\n",
      "weighted to\n",
      "-135.56331396\n",
      "Relevance: 99.00%             0.0       1.0       2.0       3.0\n",
      "0  0.359954  0.093737  0.317432  0.409547\n",
      "430.809269049\n",
      "weighted to\n",
      "430.809269049\n",
      "Relevance: 100.00%\n",
      "Running optimizer...\n",
      "Optimizer done.\n",
      "Redundancy: 100.00%    \n",
      "1. 47 with a score of 0.9993979601241731\n",
      "2. 57 with a score of 0.9767799627938069\n",
      "3. 68 with a score of 0.9767032904837515\n",
      "4. 17 with a score of 0.9766845880075486\n",
      "5. 15 with a score of 0.9766733661617341\n",
      "6. 5 with a score of 0.9766696254864449\n",
      "7. 23 with a score of 0.9766490512359262\n",
      "8. 2 with a score of 0.9766396990037618\n",
      "9. 12 with a score of 0.976626605563601\n",
      "10. 72 with a score of 0.9766135117557738\n",
      "11. 3 with a score of 0.9766041588107871\n",
      "12. 14 with a score of 0.9765948056782019\n",
      "13. 74 with a score of 0.9765742281261398\n",
      "14. 13 with a score of 0.9765592620633806\n",
      "15. 1 with a score of 0.9765461663644536\n",
      "16. 6 with a score of 0.9765368120686322\n",
      "17. 19 with a score of 0.9765012640331948\n",
      "18. 16 with a score of 0.9764919088366543\n",
      "19. 0 with a score of 0.9764507437423271\n",
      "20. 10 with a score of 0.9764488725153415\n",
      "21. 18 with a score of 0.9764226745492174\n",
      "22. 37 with a score of 0.9763927322145006\n",
      "23. 45 with a score of 0.9763740172791393\n",
      "24. 25 with a score of 0.9763478151080283\n",
      "25. 11 with a score of 0.976340328503066\n",
      "26. 7 with a score of 0.9763384568330499\n",
      "27. 33 with a score of 0.9763328417779388\n",
      "28. 41 with a score of 0.9763272266552334\n",
      "29. 9 with a score of 0.976310380881539\n",
      "30. 20 with a score of 0.976287918903551\n",
      "31. 31 with a score of 0.9762486078392649\n",
      "32. 32 with a score of 0.9761905711653431\n",
      "33. 28 with a score of 0.9760800943192253\n",
      "34. 26 with a score of 0.9760014338425501\n",
      "35. 51 with a score of 0.9759733376011839\n",
      "36. 30 with a score of 0.9759658449844305\n",
      "37. 58 with a score of 0.9759452396680037\n",
      "38. 59 with a score of 0.9759358733142918\n",
      "39. 24 with a score of 0.9759246334416747\n",
      "40. 22 with a score of 0.9758740506644394\n",
      "41. 44 with a score of 0.9758740506644394\n",
      "42. 40 with a score of 0.9758609357160507\n",
      "43. 29 with a score of 0.9758496940383646\n",
      "44. 52 with a score of 0.9758309573071097\n",
      "45. 55 with a score of 0.9758047246195434\n",
      "46. 43 with a score of 0.9757428845929201\n",
      "47. 66 with a score of 0.9756472975240976\n",
      "48. 54 with a score of 0.9756266781388118\n",
      "49. 50 with a score of 0.9755985593273551\n",
      "50. 53 with a score of 0.9755741883206258\n",
      "51. 35 with a score of 0.9755516908774003\n",
      "52. 38 with a score of 0.9755460663471862\n",
      "53. 62 with a score of 0.9754935674638849\n",
      "54. 48 with a score of 0.9754691909754609\n",
      "55. 64 with a score of 0.975411057289565\n",
      "56. 34 with a score of 0.9753885519839015\n",
      "57. 39 with a score of 0.9753229053126106\n",
      "58. 65 with a score of 0.9752797610458153\n",
      "59. 56 with a score of 0.975276009182051\n",
      "60. 21 with a score of 0.9752253560707248\n",
      "61. 61 with a score of 0.9752159752619688\n",
      "62. 42 with a score of 0.9751878317050543\n",
      "63. 27 with a score of 0.9750696102429292\n",
      "64. 60 with a score of 0.9750677334705014\n",
      "65. 69 with a score of 0.9746321183521521\n",
      "66. 67 with a score of 0.9744855702740584\n",
      "67. 46 with a score of 0.9744705371033259\n",
      "68. 49 with a score of 0.9740306028341559\n",
      "69. 63 with a score of 0.9740211980105188\n",
      "70. 36 with a score of 0.9736956745725539\n",
      "71. 4 with a score of 0.9047639457686946\n",
      "72. 73 with a score of 0.8783751755639622\n",
      "73. 8 with a score of 0.8781237197504838\n",
      "74. 71 with a score of 0.8681783838702722\n",
      "75. 70 with a score of 0.8454617113560734\n"
     ]
    },
    {
     "name": "stderr",
     "output_type": "stream",
     "text": [
      "/usr/local/lib/python3.5/dist-packages/imblearn/base.py:306: UserWarning: The target type should be binary.\n",
      "  warnings.warn('The target type should be binary.')\n"
     ]
    },
    {
     "name": "stdout",
     "output_type": "stream",
     "text": [
      "0.226649613657\n"
     ]
    },
    {
     "name": "stderr",
     "output_type": "stream",
     "text": [
      "/usr/local/lib/python3.5/dist-packages/imblearn/base.py:306: UserWarning: The target type should be binary.\n",
      "  warnings.warn('The target type should be binary.')\n"
     ]
    },
    {
     "name": "stdout",
     "output_type": "stream",
     "text": [
      "0.264646312332\n"
     ]
    },
    {
     "name": "stderr",
     "output_type": "stream",
     "text": [
      "/usr/local/lib/python3.5/dist-packages/imblearn/base.py:306: UserWarning: The target type should be binary.\n",
      "  warnings.warn('The target type should be binary.')\n"
     ]
    },
    {
     "name": "stdout",
     "output_type": "stream",
     "text": [
      "0.280967081304\n"
     ]
    },
    {
     "name": "stderr",
     "output_type": "stream",
     "text": [
      "/usr/local/lib/python3.5/dist-packages/imblearn/base.py:306: UserWarning: The target type should be binary.\n",
      "  warnings.warn('The target type should be binary.')\n"
     ]
    },
    {
     "name": "stdout",
     "output_type": "stream",
     "text": [
      "0.276630828036\n"
     ]
    },
    {
     "name": "stderr",
     "output_type": "stream",
     "text": [
      "/usr/local/lib/python3.5/dist-packages/imblearn/base.py:306: UserWarning: The target type should be binary.\n",
      "  warnings.warn('The target type should be binary.')\n"
     ]
    },
    {
     "name": "stdout",
     "output_type": "stream",
     "text": [
      "0.297651480199\n"
     ]
    },
    {
     "name": "stderr",
     "output_type": "stream",
     "text": [
      "/usr/local/lib/python3.5/dist-packages/imblearn/base.py:306: UserWarning: The target type should be binary.\n",
      "  warnings.warn('The target type should be binary.')\n"
     ]
    },
    {
     "name": "stdout",
     "output_type": "stream",
     "text": [
      "0.300488552167\n"
     ]
    },
    {
     "name": "stderr",
     "output_type": "stream",
     "text": [
      "/usr/local/lib/python3.5/dist-packages/imblearn/base.py:306: UserWarning: The target type should be binary.\n",
      "  warnings.warn('The target type should be binary.')\n"
     ]
    },
    {
     "name": "stdout",
     "output_type": "stream",
     "text": [
      "0.301991746393\n"
     ]
    },
    {
     "name": "stderr",
     "output_type": "stream",
     "text": [
      "/usr/local/lib/python3.5/dist-packages/imblearn/base.py:306: UserWarning: The target type should be binary.\n",
      "  warnings.warn('The target type should be binary.')\n"
     ]
    },
    {
     "name": "stdout",
     "output_type": "stream",
     "text": [
      "0.349436096672\n"
     ]
    },
    {
     "name": "stderr",
     "output_type": "stream",
     "text": [
      "/usr/local/lib/python3.5/dist-packages/imblearn/base.py:306: UserWarning: The target type should be binary.\n",
      "  warnings.warn('The target type should be binary.')\n"
     ]
    },
    {
     "name": "stdout",
     "output_type": "stream",
     "text": [
      "0.34610107427\n"
     ]
    },
    {
     "name": "stderr",
     "output_type": "stream",
     "text": [
      "/usr/local/lib/python3.5/dist-packages/imblearn/base.py:306: UserWarning: The target type should be binary.\n",
      "  warnings.warn('The target type should be binary.')\n"
     ]
    },
    {
     "name": "stdout",
     "output_type": "stream",
     "text": [
      "0.345601152918\n"
     ]
    },
    {
     "name": "stderr",
     "output_type": "stream",
     "text": [
      "/usr/local/lib/python3.5/dist-packages/imblearn/base.py:306: UserWarning: The target type should be binary.\n",
      "  warnings.warn('The target type should be binary.')\n"
     ]
    },
    {
     "name": "stdout",
     "output_type": "stream",
     "text": [
      "0.378463973078\n"
     ]
    },
    {
     "name": "stderr",
     "output_type": "stream",
     "text": [
      "/usr/local/lib/python3.5/dist-packages/imblearn/base.py:306: UserWarning: The target type should be binary.\n",
      "  warnings.warn('The target type should be binary.')\n"
     ]
    },
    {
     "name": "stdout",
     "output_type": "stream",
     "text": [
      "0.387505552953\n"
     ]
    },
    {
     "name": "stderr",
     "output_type": "stream",
     "text": [
      "/usr/local/lib/python3.5/dist-packages/imblearn/base.py:306: UserWarning: The target type should be binary.\n",
      "  warnings.warn('The target type should be binary.')\n"
     ]
    },
    {
     "name": "stdout",
     "output_type": "stream",
     "text": [
      "0.38700481044\n"
     ]
    },
    {
     "name": "stderr",
     "output_type": "stream",
     "text": [
      "/usr/local/lib/python3.5/dist-packages/imblearn/base.py:306: UserWarning: The target type should be binary.\n",
      "  warnings.warn('The target type should be binary.')\n"
     ]
    },
    {
     "name": "stdout",
     "output_type": "stream",
     "text": [
      "0.375625475191\n"
     ]
    },
    {
     "name": "stderr",
     "output_type": "stream",
     "text": [
      "/usr/local/lib/python3.5/dist-packages/imblearn/base.py:306: UserWarning: The target type should be binary.\n",
      "  warnings.warn('The target type should be binary.')\n"
     ]
    },
    {
     "name": "stdout",
     "output_type": "stream",
     "text": [
      "0.371932819168\n"
     ]
    },
    {
     "name": "stderr",
     "output_type": "stream",
     "text": [
      "/usr/local/lib/python3.5/dist-packages/imblearn/base.py:306: UserWarning: The target type should be binary.\n",
      "  warnings.warn('The target type should be binary.')\n"
     ]
    },
    {
     "name": "stdout",
     "output_type": "stream",
     "text": [
      "0.440658148349\n"
     ]
    },
    {
     "name": "stderr",
     "output_type": "stream",
     "text": [
      "/usr/local/lib/python3.5/dist-packages/imblearn/base.py:306: UserWarning: The target type should be binary.\n",
      "  warnings.warn('The target type should be binary.')\n"
     ]
    },
    {
     "name": "stdout",
     "output_type": "stream",
     "text": [
      "0.435337548136\n"
     ]
    },
    {
     "name": "stderr",
     "output_type": "stream",
     "text": [
      "/usr/local/lib/python3.5/dist-packages/imblearn/base.py:306: UserWarning: The target type should be binary.\n",
      "  warnings.warn('The target type should be binary.')\n"
     ]
    },
    {
     "name": "stdout",
     "output_type": "stream",
     "text": [
      "0.425794488606\n"
     ]
    },
    {
     "name": "stderr",
     "output_type": "stream",
     "text": [
      "/usr/local/lib/python3.5/dist-packages/imblearn/base.py:306: UserWarning: The target type should be binary.\n",
      "  warnings.warn('The target type should be binary.')\n"
     ]
    },
    {
     "name": "stdout",
     "output_type": "stream",
     "text": [
      "0.486337942189\n"
     ]
    },
    {
     "name": "stderr",
     "output_type": "stream",
     "text": [
      "/usr/local/lib/python3.5/dist-packages/imblearn/base.py:306: UserWarning: The target type should be binary.\n",
      "  warnings.warn('The target type should be binary.')\n"
     ]
    },
    {
     "name": "stdout",
     "output_type": "stream",
     "text": [
      "0.510375262568\n"
     ]
    },
    {
     "name": "stderr",
     "output_type": "stream",
     "text": [
      "/usr/local/lib/python3.5/dist-packages/imblearn/base.py:306: UserWarning: The target type should be binary.\n",
      "  warnings.warn('The target type should be binary.')\n"
     ]
    },
    {
     "name": "stdout",
     "output_type": "stream",
     "text": [
      "0.458102808963\n"
     ]
    },
    {
     "name": "stderr",
     "output_type": "stream",
     "text": [
      "/usr/local/lib/python3.5/dist-packages/imblearn/base.py:306: UserWarning: The target type should be binary.\n",
      "  warnings.warn('The target type should be binary.')\n"
     ]
    },
    {
     "name": "stdout",
     "output_type": "stream",
     "text": [
      "0.4783731792\n"
     ]
    },
    {
     "name": "stderr",
     "output_type": "stream",
     "text": [
      "/usr/local/lib/python3.5/dist-packages/imblearn/base.py:306: UserWarning: The target type should be binary.\n",
      "  warnings.warn('The target type should be binary.')\n"
     ]
    },
    {
     "name": "stdout",
     "output_type": "stream",
     "text": [
      "0.476565290925\n"
     ]
    },
    {
     "name": "stderr",
     "output_type": "stream",
     "text": [
      "/usr/local/lib/python3.5/dist-packages/imblearn/base.py:306: UserWarning: The target type should be binary.\n",
      "  warnings.warn('The target type should be binary.')\n"
     ]
    },
    {
     "name": "stdout",
     "output_type": "stream",
     "text": [
      "0.47859438388\n"
     ]
    },
    {
     "name": "stderr",
     "output_type": "stream",
     "text": [
      "/usr/local/lib/python3.5/dist-packages/imblearn/base.py:306: UserWarning: The target type should be binary.\n",
      "  warnings.warn('The target type should be binary.')\n"
     ]
    },
    {
     "name": "stdout",
     "output_type": "stream",
     "text": [
      "0.488917174378\n"
     ]
    },
    {
     "name": "stderr",
     "output_type": "stream",
     "text": [
      "/usr/local/lib/python3.5/dist-packages/imblearn/base.py:306: UserWarning: The target type should be binary.\n",
      "  warnings.warn('The target type should be binary.')\n"
     ]
    },
    {
     "name": "stdout",
     "output_type": "stream",
     "text": [
      "0.536281174583\n"
     ]
    },
    {
     "name": "stderr",
     "output_type": "stream",
     "text": [
      "/usr/local/lib/python3.5/dist-packages/imblearn/base.py:306: UserWarning: The target type should be binary.\n",
      "  warnings.warn('The target type should be binary.')\n"
     ]
    },
    {
     "name": "stdout",
     "output_type": "stream",
     "text": [
      "0.518949420046\n"
     ]
    },
    {
     "name": "stderr",
     "output_type": "stream",
     "text": [
      "/usr/local/lib/python3.5/dist-packages/imblearn/base.py:306: UserWarning: The target type should be binary.\n",
      "  warnings.warn('The target type should be binary.')\n"
     ]
    },
    {
     "name": "stdout",
     "output_type": "stream",
     "text": [
      "0.544157853434\n"
     ]
    },
    {
     "name": "stderr",
     "output_type": "stream",
     "text": [
      "/usr/local/lib/python3.5/dist-packages/imblearn/base.py:306: UserWarning: The target type should be binary.\n",
      "  warnings.warn('The target type should be binary.')\n"
     ]
    },
    {
     "name": "stdout",
     "output_type": "stream",
     "text": [
      "0.529849201904\n"
     ]
    },
    {
     "name": "stderr",
     "output_type": "stream",
     "text": [
      "/usr/local/lib/python3.5/dist-packages/imblearn/base.py:306: UserWarning: The target type should be binary.\n",
      "  warnings.warn('The target type should be binary.')\n"
     ]
    },
    {
     "name": "stdout",
     "output_type": "stream",
     "text": [
      "0.529443083813\n"
     ]
    },
    {
     "name": "stderr",
     "output_type": "stream",
     "text": [
      "/usr/local/lib/python3.5/dist-packages/imblearn/base.py:306: UserWarning: The target type should be binary.\n",
      "  warnings.warn('The target type should be binary.')\n"
     ]
    },
    {
     "name": "stdout",
     "output_type": "stream",
     "text": [
      "0.517678711013\n"
     ]
    },
    {
     "name": "stderr",
     "output_type": "stream",
     "text": [
      "/usr/local/lib/python3.5/dist-packages/imblearn/base.py:306: UserWarning: The target type should be binary.\n",
      "  warnings.warn('The target type should be binary.')\n"
     ]
    },
    {
     "name": "stdout",
     "output_type": "stream",
     "text": [
      "0.511825692484\n"
     ]
    },
    {
     "name": "stderr",
     "output_type": "stream",
     "text": [
      "/usr/local/lib/python3.5/dist-packages/imblearn/base.py:306: UserWarning: The target type should be binary.\n",
      "  warnings.warn('The target type should be binary.')\n"
     ]
    },
    {
     "name": "stdout",
     "output_type": "stream",
     "text": [
      "0.513226051364\n"
     ]
    },
    {
     "name": "stderr",
     "output_type": "stream",
     "text": [
      "/usr/local/lib/python3.5/dist-packages/imblearn/base.py:306: UserWarning: The target type should be binary.\n",
      "  warnings.warn('The target type should be binary.')\n"
     ]
    },
    {
     "name": "stdout",
     "output_type": "stream",
     "text": [
      "0.518212697923\n"
     ]
    },
    {
     "name": "stderr",
     "output_type": "stream",
     "text": [
      "/usr/local/lib/python3.5/dist-packages/imblearn/base.py:306: UserWarning: The target type should be binary.\n",
      "  warnings.warn('The target type should be binary.')\n"
     ]
    },
    {
     "name": "stdout",
     "output_type": "stream",
     "text": [
      "0.487273476122\n"
     ]
    },
    {
     "name": "stderr",
     "output_type": "stream",
     "text": [
      "/usr/local/lib/python3.5/dist-packages/imblearn/base.py:306: UserWarning: The target type should be binary.\n",
      "  warnings.warn('The target type should be binary.')\n"
     ]
    },
    {
     "name": "stdout",
     "output_type": "stream",
     "text": [
      "0.50769075354\n"
     ]
    },
    {
     "name": "stderr",
     "output_type": "stream",
     "text": [
      "/usr/local/lib/python3.5/dist-packages/imblearn/base.py:306: UserWarning: The target type should be binary.\n",
      "  warnings.warn('The target type should be binary.')\n"
     ]
    },
    {
     "name": "stdout",
     "output_type": "stream",
     "text": [
      "0.54807429515\n"
     ]
    },
    {
     "name": "stderr",
     "output_type": "stream",
     "text": [
      "/usr/local/lib/python3.5/dist-packages/imblearn/base.py:306: UserWarning: The target type should be binary.\n",
      "  warnings.warn('The target type should be binary.')\n"
     ]
    },
    {
     "name": "stdout",
     "output_type": "stream",
     "text": [
      "0.525146956557\n"
     ]
    },
    {
     "name": "stderr",
     "output_type": "stream",
     "text": [
      "/usr/local/lib/python3.5/dist-packages/imblearn/base.py:306: UserWarning: The target type should be binary.\n",
      "  warnings.warn('The target type should be binary.')\n"
     ]
    },
    {
     "name": "stdout",
     "output_type": "stream",
     "text": [
      "0.508944482381\n"
     ]
    },
    {
     "name": "stderr",
     "output_type": "stream",
     "text": [
      "/usr/local/lib/python3.5/dist-packages/imblearn/base.py:306: UserWarning: The target type should be binary.\n",
      "  warnings.warn('The target type should be binary.')\n"
     ]
    },
    {
     "name": "stdout",
     "output_type": "stream",
     "text": [
      "0.516692035015\n"
     ]
    },
    {
     "name": "stderr",
     "output_type": "stream",
     "text": [
      "/usr/local/lib/python3.5/dist-packages/imblearn/base.py:306: UserWarning: The target type should be binary.\n",
      "  warnings.warn('The target type should be binary.')\n"
     ]
    },
    {
     "name": "stdout",
     "output_type": "stream",
     "text": [
      "0.520449859623\n"
     ]
    },
    {
     "name": "stderr",
     "output_type": "stream",
     "text": [
      "/usr/local/lib/python3.5/dist-packages/imblearn/base.py:306: UserWarning: The target type should be binary.\n",
      "  warnings.warn('The target type should be binary.')\n"
     ]
    },
    {
     "name": "stdout",
     "output_type": "stream",
     "text": [
      "0.531042086148\n"
     ]
    },
    {
     "name": "stderr",
     "output_type": "stream",
     "text": [
      "/usr/local/lib/python3.5/dist-packages/imblearn/base.py:306: UserWarning: The target type should be binary.\n",
      "  warnings.warn('The target type should be binary.')\n"
     ]
    },
    {
     "name": "stdout",
     "output_type": "stream",
     "text": [
      "0.523519110188\n"
     ]
    },
    {
     "name": "stderr",
     "output_type": "stream",
     "text": [
      "/usr/local/lib/python3.5/dist-packages/imblearn/base.py:306: UserWarning: The target type should be binary.\n",
      "  warnings.warn('The target type should be binary.')\n"
     ]
    },
    {
     "name": "stdout",
     "output_type": "stream",
     "text": [
      "0.494249973334\n"
     ]
    },
    {
     "name": "stderr",
     "output_type": "stream",
     "text": [
      "/usr/local/lib/python3.5/dist-packages/imblearn/base.py:306: UserWarning: The target type should be binary.\n",
      "  warnings.warn('The target type should be binary.')\n"
     ]
    },
    {
     "name": "stdout",
     "output_type": "stream",
     "text": [
      "0.510956596376\n"
     ]
    },
    {
     "name": "stderr",
     "output_type": "stream",
     "text": [
      "/usr/local/lib/python3.5/dist-packages/imblearn/base.py:306: UserWarning: The target type should be binary.\n",
      "  warnings.warn('The target type should be binary.')\n"
     ]
    },
    {
     "name": "stdout",
     "output_type": "stream",
     "text": [
      "0.503845462819\n"
     ]
    },
    {
     "name": "stderr",
     "output_type": "stream",
     "text": [
      "/usr/local/lib/python3.5/dist-packages/imblearn/base.py:306: UserWarning: The target type should be binary.\n",
      "  warnings.warn('The target type should be binary.')\n"
     ]
    },
    {
     "name": "stdout",
     "output_type": "stream",
     "text": [
      "0.509636029925\n"
     ]
    },
    {
     "name": "stderr",
     "output_type": "stream",
     "text": [
      "/usr/local/lib/python3.5/dist-packages/imblearn/base.py:306: UserWarning: The target type should be binary.\n",
      "  warnings.warn('The target type should be binary.')\n"
     ]
    },
    {
     "name": "stdout",
     "output_type": "stream",
     "text": [
      "0.513788186295\n"
     ]
    },
    {
     "name": "stderr",
     "output_type": "stream",
     "text": [
      "/usr/local/lib/python3.5/dist-packages/imblearn/base.py:306: UserWarning: The target type should be binary.\n",
      "  warnings.warn('The target type should be binary.')\n"
     ]
    },
    {
     "name": "stdout",
     "output_type": "stream",
     "text": [
      "0.519669263388\n"
     ]
    },
    {
     "name": "stderr",
     "output_type": "stream",
     "text": [
      "/usr/local/lib/python3.5/dist-packages/imblearn/base.py:306: UserWarning: The target type should be binary.\n",
      "  warnings.warn('The target type should be binary.')\n"
     ]
    },
    {
     "name": "stdout",
     "output_type": "stream",
     "text": [
      "0.509821723813\n"
     ]
    },
    {
     "name": "stderr",
     "output_type": "stream",
     "text": [
      "/usr/local/lib/python3.5/dist-packages/imblearn/base.py:306: UserWarning: The target type should be binary.\n",
      "  warnings.warn('The target type should be binary.')\n"
     ]
    },
    {
     "name": "stdout",
     "output_type": "stream",
     "text": [
      "0.549453585899\n"
     ]
    },
    {
     "name": "stderr",
     "output_type": "stream",
     "text": [
      "/usr/local/lib/python3.5/dist-packages/imblearn/base.py:306: UserWarning: The target type should be binary.\n",
      "  warnings.warn('The target type should be binary.')\n"
     ]
    },
    {
     "name": "stdout",
     "output_type": "stream",
     "text": [
      "0.508669304352\n"
     ]
    },
    {
     "name": "stderr",
     "output_type": "stream",
     "text": [
      "/usr/local/lib/python3.5/dist-packages/imblearn/base.py:306: UserWarning: The target type should be binary.\n",
      "  warnings.warn('The target type should be binary.')\n"
     ]
    },
    {
     "name": "stdout",
     "output_type": "stream",
     "text": [
      "0.510999593095\n"
     ]
    },
    {
     "name": "stderr",
     "output_type": "stream",
     "text": [
      "/usr/local/lib/python3.5/dist-packages/imblearn/base.py:306: UserWarning: The target type should be binary.\n",
      "  warnings.warn('The target type should be binary.')\n"
     ]
    },
    {
     "name": "stdout",
     "output_type": "stream",
     "text": [
      "0.511145460047\n"
     ]
    },
    {
     "name": "stderr",
     "output_type": "stream",
     "text": [
      "/usr/local/lib/python3.5/dist-packages/imblearn/base.py:306: UserWarning: The target type should be binary.\n",
      "  warnings.warn('The target type should be binary.')\n"
     ]
    },
    {
     "name": "stdout",
     "output_type": "stream",
     "text": [
      "0.504885842167\n"
     ]
    },
    {
     "name": "stderr",
     "output_type": "stream",
     "text": [
      "/usr/local/lib/python3.5/dist-packages/imblearn/base.py:306: UserWarning: The target type should be binary.\n",
      "  warnings.warn('The target type should be binary.')\n"
     ]
    },
    {
     "name": "stdout",
     "output_type": "stream",
     "text": [
      "0.526487844188\n"
     ]
    },
    {
     "name": "stderr",
     "output_type": "stream",
     "text": [
      "/usr/local/lib/python3.5/dist-packages/imblearn/base.py:306: UserWarning: The target type should be binary.\n",
      "  warnings.warn('The target type should be binary.')\n"
     ]
    },
    {
     "name": "stdout",
     "output_type": "stream",
     "text": [
      "0.531256829487\n"
     ]
    },
    {
     "name": "stderr",
     "output_type": "stream",
     "text": [
      "/usr/local/lib/python3.5/dist-packages/imblearn/base.py:306: UserWarning: The target type should be binary.\n",
      "  warnings.warn('The target type should be binary.')\n"
     ]
    },
    {
     "name": "stdout",
     "output_type": "stream",
     "text": [
      "0.51042099051\n"
     ]
    },
    {
     "name": "stderr",
     "output_type": "stream",
     "text": [
      "/usr/local/lib/python3.5/dist-packages/imblearn/base.py:306: UserWarning: The target type should be binary.\n",
      "  warnings.warn('The target type should be binary.')\n"
     ]
    },
    {
     "name": "stdout",
     "output_type": "stream",
     "text": [
      "0.50998690121\n"
     ]
    },
    {
     "name": "stderr",
     "output_type": "stream",
     "text": [
      "/usr/local/lib/python3.5/dist-packages/imblearn/base.py:306: UserWarning: The target type should be binary.\n",
      "  warnings.warn('The target type should be binary.')\n"
     ]
    },
    {
     "name": "stdout",
     "output_type": "stream",
     "text": [
      "0.523644419735\n"
     ]
    },
    {
     "name": "stderr",
     "output_type": "stream",
     "text": [
      "/usr/local/lib/python3.5/dist-packages/imblearn/base.py:306: UserWarning: The target type should be binary.\n",
      "  warnings.warn('The target type should be binary.')\n"
     ]
    },
    {
     "name": "stdout",
     "output_type": "stream",
     "text": [
      "0.503491894981\n"
     ]
    },
    {
     "name": "stderr",
     "output_type": "stream",
     "text": [
      "/usr/local/lib/python3.5/dist-packages/imblearn/base.py:306: UserWarning: The target type should be binary.\n",
      "  warnings.warn('The target type should be binary.')\n"
     ]
    },
    {
     "name": "stdout",
     "output_type": "stream",
     "text": [
      "0.500582793586\n"
     ]
    },
    {
     "name": "stderr",
     "output_type": "stream",
     "text": [
      "/usr/local/lib/python3.5/dist-packages/imblearn/base.py:306: UserWarning: The target type should be binary.\n",
      "  warnings.warn('The target type should be binary.')\n"
     ]
    },
    {
     "name": "stdout",
     "output_type": "stream",
     "text": [
      "0.526691129764\n"
     ]
    },
    {
     "name": "stderr",
     "output_type": "stream",
     "text": [
      "/usr/local/lib/python3.5/dist-packages/imblearn/base.py:306: UserWarning: The target type should be binary.\n",
      "  warnings.warn('The target type should be binary.')\n"
     ]
    },
    {
     "name": "stdout",
     "output_type": "stream",
     "text": [
      "0.509524007741\n"
     ]
    },
    {
     "name": "stderr",
     "output_type": "stream",
     "text": [
      "/usr/local/lib/python3.5/dist-packages/imblearn/base.py:306: UserWarning: The target type should be binary.\n",
      "  warnings.warn('The target type should be binary.')\n"
     ]
    },
    {
     "name": "stdout",
     "output_type": "stream",
     "text": [
      "0.505001089422\n"
     ]
    },
    {
     "name": "stderr",
     "output_type": "stream",
     "text": [
      "/usr/local/lib/python3.5/dist-packages/imblearn/base.py:306: UserWarning: The target type should be binary.\n",
      "  warnings.warn('The target type should be binary.')\n"
     ]
    },
    {
     "name": "stdout",
     "output_type": "stream",
     "text": [
      "0.530652548881\n"
     ]
    },
    {
     "name": "stderr",
     "output_type": "stream",
     "text": [
      "/usr/local/lib/python3.5/dist-packages/imblearn/base.py:306: UserWarning: The target type should be binary.\n",
      "  warnings.warn('The target type should be binary.')\n"
     ]
    },
    {
     "name": "stdout",
     "output_type": "stream",
     "text": [
      "0.535135487128\n"
     ]
    },
    {
     "name": "stderr",
     "output_type": "stream",
     "text": [
      "/usr/local/lib/python3.5/dist-packages/imblearn/base.py:306: UserWarning: The target type should be binary.\n",
      "  warnings.warn('The target type should be binary.')\n"
     ]
    },
    {
     "name": "stdout",
     "output_type": "stream",
     "text": [
      "0.526262650827\n"
     ]
    },
    {
     "name": "stderr",
     "output_type": "stream",
     "text": [
      "/usr/local/lib/python3.5/dist-packages/imblearn/base.py:306: UserWarning: The target type should be binary.\n",
      "  warnings.warn('The target type should be binary.')\n"
     ]
    },
    {
     "name": "stdout",
     "output_type": "stream",
     "text": [
      "0.52828946822\n"
     ]
    },
    {
     "name": "stderr",
     "output_type": "stream",
     "text": [
      "/usr/local/lib/python3.5/dist-packages/imblearn/base.py:306: UserWarning: The target type should be binary.\n",
      "  warnings.warn('The target type should be binary.')\n"
     ]
    },
    {
     "name": "stdout",
     "output_type": "stream",
     "text": [
      "0.535445665204\n"
     ]
    },
    {
     "name": "stderr",
     "output_type": "stream",
     "text": [
      "/usr/local/lib/python3.5/dist-packages/imblearn/base.py:306: UserWarning: The target type should be binary.\n",
      "  warnings.warn('The target type should be binary.')\n"
     ]
    },
    {
     "name": "stdout",
     "output_type": "stream",
     "text": [
      "0.527978931965\n"
     ]
    },
    {
     "name": "stderr",
     "output_type": "stream",
     "text": [
      "/usr/local/lib/python3.5/dist-packages/imblearn/base.py:306: UserWarning: The target type should be binary.\n",
      "  warnings.warn('The target type should be binary.')\n"
     ]
    },
    {
     "name": "stdout",
     "output_type": "stream",
     "text": [
      "0.511008461045\n"
     ]
    },
    {
     "name": "stderr",
     "output_type": "stream",
     "text": [
      "/usr/local/lib/python3.5/dist-packages/imblearn/base.py:306: UserWarning: The target type should be binary.\n",
      "  warnings.warn('The target type should be binary.')\n"
     ]
    },
    {
     "name": "stdout",
     "output_type": "stream",
     "text": [
      "0.509815064826\n"
     ]
    },
    {
     "name": "stderr",
     "output_type": "stream",
     "text": [
      "/usr/local/lib/python3.5/dist-packages/imblearn/base.py:306: UserWarning: The target type should be binary.\n",
      "  warnings.warn('The target type should be binary.')\n"
     ]
    },
    {
     "name": "stdout",
     "output_type": "stream",
     "text": [
      "0.488205593503\n"
     ]
    },
    {
     "name": "stderr",
     "output_type": "stream",
     "text": [
      "/usr/local/lib/python3.5/dist-packages/matplotlib/axes/_axes.py:545: UserWarning: No labelled objects found. Use label='...' kwarg on individual plots.\n",
      "  warnings.warn(\"No labelled objects found. \"\n"
     ]
    },
    {
     "data": {
      "image/png": "[encoded data removed]",
      "text/plain": [
       "<matplotlib.figure.Figure at 0x7f1c9523d4a8>"
      ]
     },
     "metadata": {},
     "output_type": "display_data"
    }
   ],
   "source": [
    "scores_comp = 0\n",
    "max_k = len(X.columns)\n",
    "f1_scores = []\n",
    "\n",
    "for i in range(1):\n",
    "    rar_data = pd.concat([X_train, y_train], axis=1)\n",
    "    # RaR uses columns with string label only\n",
    "    rar_data.rename(columns=lambda c: str(c), inplace=True)\n",
    "    rar_compensate = csrar.rar.RaR(rar_data)\n",
    "    rar_compensate.run(str(target), k=5, runs=100, split_iterations=10, compensate_imbalance=True, weight_mod=3)\n",
    "\n",
    "    # Evaluate, average relative error rates\n",
    "    score = pd.DataFrame(columns=np.unique(data[target]), index=np.arange(max_k)).fillna(0)\n",
    "    for i in range(1, max_k):\n",
    "        errors, f1 = eval_rar_ranking(rar_compensate.feature_ranking, target, k=i)\n",
    "        f1_scores.append(f1)\n",
    "        print(f1)\n",
    "        for label in errors.columns:\n",
    "            score.loc[i, label] = errors[label][0]\n",
    "        \n",
    "    scores_comp += score\n",
    "scores_comp /= 1\n",
    "\n",
    "import matplotlib.pyplot as plt\n",
    "#for label in scores_comp.columns:\n",
    "#    plt.plot(scores_comp[label], label='Class {}'.format(label))\n",
    "plt.plot(f1_scores)\n",
    "plt.legend(bbox_to_anchor=(0., 1.02, 1., .102), loc=3,\n",
    "           ncol=2, mode=\"expand\", borderaxespad=0.)\n",
    "axes = plt.gca()\n",
    "axes.set_ylim([0, 1])\n",
    "plt.savefig('Dev2_test6_imb_f1_3')\n",
    "plt.show()"
   ]
  },
  {
   "cell_type": "markdown",
   "metadata": {},
   "source": [
    "#### Benchmarking the increase in weighting"
   ]
  },
  {
   "cell_type": "code",
   "execution_count": null,
   "metadata": {
    "ExecuteTime": {
     "end_time": "2017-07-10T20:15:47.959960Z",
     "start_time": "2017-07-10T20:15:47.954259Z"
    },
    "collapsed": true
   },
   "outputs": [],
   "source": [
    "# Redirect output for long sessions\n",
    "import sys\n",
    "sys.stderr=open(\"err.txt\",\"w\")\n",
    "sys.stdout=open(\"logs_dev_test6.txt\", \"w\")"
   ]
  },
  {
   "cell_type": "code",
   "execution_count": null,
   "metadata": {
    "ExecuteTime": {
     "end_time": "2017-07-10T20:44:54.966443Z",
     "start_time": "2017-07-10T20:44:54.937637Z"
    },
    "collapsed": true
   },
   "outputs": [],
   "source": [
    "np.unique(data[target], return_counts=True)"
   ]
  },
  {
   "cell_type": "code",
   "execution_count": null,
   "metadata": {
    "ExecuteTime": {
     "end_time": "2017-07-10T21:13:59.645180Z",
     "start_time": "2017-07-10T20:54:14.162093Z"
    }
   },
   "outputs": [],
   "source": [
    "steps = [0.5, 1, 2, 4]\n",
    "scores_comp = pd.DataFrame(columns=np.unique(data[target]), index=steps).fillna(0)\n",
    "\n",
    "for i in steps:\n",
    "    rar_data = pd.concat([X_train, y_train], axis=1)\n",
    "    # RaR uses columns with string label only\n",
    "    rar_data.rename(columns=lambda c: str(c), inplace=True)\n",
    "    rar_compensate = csrar.rar.RaR(rar_data)\n",
    "    rar_compensate.run(str(target), k=4, runs=100, split_iterations=10, compensate_imbalance=True, weight_mod=i)\n",
    "\n",
    "    # Evaluate, average relative error rates\n",
    "    errors, f1 = eval_rar_ranking(rar_compensate.feature_ranking, target, k=6)\n",
    "    for label in errors.columns:\n",
    "        scores_comp.loc[i, label] = errors[label][0]\n",
    "\n",
    "import matplotlib.pyplot as plt\n",
    "for label in scores_comp.columns:\n",
    "    plt.plot(scores_comp[label], label='Class {}'.format(label))\n",
    "plt.legend(bbox_to_anchor=(0., 1.02, 1., .102), loc=3,\n",
    "           ncol=2, mode=\"expand\", borderaxespad=0.)\n",
    "axes = plt.gca()\n",
    "axes.set_ylim([0, 1])\n",
    "axes.set_ylabel('Relative error rate')\n",
    "axes.set_xlabel('Weighting exponent')\n",
    "plt.savefig('dev2_weight_higher_test6')\n",
    "plt.show()"
   ]
  },
  {
   "cell_type": "code",
   "execution_count": null,
   "metadata": {
    "ExecuteTime": {
     "start_time": "2017-07-04T14:59:20.577Z"
    },
    "collapsed": true
   },
   "outputs": [],
   "source": []
  },
  {
   "cell_type": "code",
   "execution_count": null,
   "metadata": {
    "ExecuteTime": {
     "end_time": "2017-07-04T14:55:15.998436Z",
     "start_time": "2017-07-04T14:55:15.989149Z"
    },
    "collapsed": true
   },
   "outputs": [],
   "source": [
    "scores"
   ]
  },
  {
   "cell_type": "code",
   "execution_count": null,
   "metadata": {
    "ExecuteTime": {
     "start_time": "2017-07-04T14:59:25.096Z"
    },
    "collapsed": true
   },
   "outputs": [],
   "source": [
    "import matplotlib.pyplot as plt\n",
    "plt.plot(scores['Class 0'], label='Class 0')\n",
    "plt.plot(scores['Class 1'], label='Class 1')\n",
    "plt.legend(bbox_to_anchor=(0., 1.02, 1., .102), loc=3,\n",
    "           ncol=2, mode=\"expand\", borderaxespad=0.)\n",
    "plt.savefig('RaR_test5_imb_nocomp')\n",
    "plt.show()"
   ]
  },
  {
   "cell_type": "code",
   "execution_count": null,
   "metadata": {
    "ExecuteTime": {
     "end_time": "2017-06-27T21:47:30.116483Z",
     "start_time": "2017-06-27T21:47:29.888089Z"
    },
    "collapsed": true
   },
   "outputs": [],
   "source": [
    "error_frame2 = eval_rar_ranking(rar_compensate.feature_ranking, k=4)\n",
    "error_frame2"
   ]
  },
  {
   "cell_type": "markdown",
   "metadata": {},
   "source": [
    "## Cost Analysis"
   ]
  },
  {
   "cell_type": "markdown",
   "metadata": {
    "ExecuteTime": {
     "end_time": "2017-06-27T16:07:47.409552Z",
     "start_time": "2017-06-27T16:07:47.407584Z"
    }
   },
   "source": [
    "### With selection"
   ]
  },
  {
   "cell_type": "code",
   "execution_count": 14,
   "metadata": {
    "ExecuteTime": {
     "end_time": "2017-07-11T12:14:11.324216Z",
     "start_time": "2017-07-11T12:14:11.267390Z"
    },
    "collapsed": true
   },
   "outputs": [],
   "source": [
    "from imblearn.metrics import classification_report_imbalanced\n",
    "from sklearn.metrics import f1_score\n",
    "\n",
    "def eval_rar_ranking(ranking, target, k=3):\n",
    "    from imblearn.over_sampling import SMOTE\n",
    "    \n",
    "    clf_selected = ExtraTreesClassifier(n_jobs=-1)\n",
    "    selected_features = list(map(lambda f: int(f[0]), ranking[:k]))\n",
    "    X_train_s = X_train[selected_features]\n",
    "    X_test_s = X_test[selected_features]\n",
    "    \n",
    "    # Rebalance\n",
    "    sm = SMOTE()\n",
    "    X_res, y_res = sm.fit_sample(X_train_s, y_train)\n",
    "    \n",
    "    clf_selected.fit(X_res, y_res)\n",
    "    y_predict = clf_selected.predict(X_test_s)\n",
    "\n",
    "    # print(classification_report_imbalanced(y_test, y_predict))\n",
    "    f1 = f1_score(y_test, y_predict, average='macro')\n",
    "    \n",
    "    error_rates = dict([(value, {'sum': 0, 'errors': 0}) for value in np.unique(data[target])])\n",
    "    for real, predicted in zip(y_test, y_predict):\n",
    "        if real != predicted:\n",
    "            error_rates[real]['errors'] += 1\n",
    "        error_rates[real]['sum'] += 1\n",
    "\n",
    "    error_frame = pd.DataFrame(index=[0], columns=np.unique(data[target]))\n",
    "    for value, rates in error_rates.items():\n",
    "        error_frame[value] = [rates['errors'] / (rates['sum'])]\n",
    "    return error_frame, f1"
   ]
  },
  {
   "cell_type": "markdown",
   "metadata": {
    "ExecuteTime": {
     "end_time": "2017-06-27T16:06:29.802362Z",
     "start_time": "2017-06-27T16:06:29.798890Z"
    }
   },
   "source": [
    "### Without selection"
   ]
  },
  {
   "cell_type": "code",
   "execution_count": null,
   "metadata": {
    "ExecuteTime": {
     "end_time": "2017-07-10T15:14:21.346102Z",
     "start_time": "2017-07-10T15:14:20.657185Z"
    },
    "collapsed": true
   },
   "outputs": [],
   "source": [
    "# Resampling for imbalanced learn\n",
    "from imblearn.over_sampling import SMOTE \n",
    "\n",
    "sm = SMOTE(random_state=42)\n",
    "X_res, y_res = sm.fit_sample(X_train, y_train)"
   ]
  },
  {
   "cell_type": "code",
   "execution_count": null,
   "metadata": {
    "ExecuteTime": {
     "end_time": "2017-07-08T19:50:27.968989Z",
     "start_time": "2017-07-08T19:50:27.711598Z"
    },
    "collapsed": true
   },
   "outputs": [],
   "source": [
    "clf = ExtraTreesClassifier(n_jobs=-1)\n",
    "clf.fit(X_train, y_train)\n",
    "\n",
    "y_predict = clf.predict(X_test)\n",
    "error_rates = dict([(value, {'sum': 0, 'errors': 0}) for value in np.unique(data[target])])\n",
    "for real, predicted in zip(y_test, y_predict):\n",
    "    if real != predicted:\n",
    "        error_rates[real]['errors'] += 1\n",
    "    error_rates[real]['sum'] += 1\n",
    "error_frame = pd.DataFrame(index=[0], columns=np.unique(data[target]))\n",
    "for value, rates in error_rates.items():\n",
    "    error_frame[value] = [rates['errors'] / (rates['sum'])]\n",
    "error_frame"
   ]
  },
  {
   "cell_type": "code",
   "execution_count": null,
   "metadata": {
    "ExecuteTime": {
     "end_time": "2017-07-08T19:50:29.904423Z",
     "start_time": "2017-07-08T19:50:29.899162Z"
    },
    "collapsed": true
   },
   "outputs": [],
   "source": [
    "error_frame.iloc[0].mean()"
   ]
  },
  {
   "cell_type": "code",
   "execution_count": null,
   "metadata": {
    "ExecuteTime": {
     "end_time": "2017-06-30T14:09:11.391744Z",
     "start_time": "2017-06-30T14:09:11.388894Z"
    },
    "collapsed": true
   },
   "outputs": [],
   "source": [
    "error_rates"
   ]
  },
  {
   "cell_type": "code",
   "execution_count": null,
   "metadata": {
    "ExecuteTime": {
     "end_time": "2017-07-08T15:37:53.035851Z",
     "start_time": "2017-07-08T15:37:52.930064Z"
    },
    "collapsed": true
   },
   "outputs": [],
   "source": [
    "clf.score(X_test, y_test)"
   ]
  },
  {
   "cell_type": "markdown",
   "metadata": {},
   "source": [
    "## DecisionTreeClassifier for Feature Ranking"
   ]
  },
  {
   "cell_type": "code",
   "execution_count": null,
   "metadata": {
    "ExecuteTime": {
     "end_time": "2017-07-11T11:50:36.524995Z",
     "start_time": "2017-07-11T11:50:36.080810Z"
    }
   },
   "outputs": [],
   "source": [
    "clf = ExtraTreesClassifier()\n",
    "clf.fit(X_train[np.arange(10)], y_train)\n",
    "clf.score(X_test[np.arange(10)], y_test)"
   ]
  },
  {
   "cell_type": "code",
   "execution_count": null,
   "metadata": {
    "ExecuteTime": {
     "end_time": "2017-07-10T21:43:20.933863Z",
     "start_time": "2017-07-10T21:43:20.839416Z"
    }
   },
   "outputs": [],
   "source": [
    "from imblearn.metrics import classification_report_imbalanced\n",
    "\n",
    "classification_report_imbalanced(y_test, clf.predict(X_test))"
   ]
  },
  {
   "cell_type": "code",
   "execution_count": null,
   "metadata": {
    "ExecuteTime": {
     "end_time": "2017-07-10T15:21:53.532562Z",
     "start_time": "2017-07-10T15:21:53.330667Z"
    },
    "collapsed": true
   },
   "outputs": [],
   "source": [
    "y_predict = clf.predict(X_test)\n",
    "error_rates = dict([(value, {'sum': 0, 'errors': 0}) for value in np.unique(data[75])])\n",
    "for real, predicted in zip(y_test, y_predict):\n",
    "    if real != predicted:\n",
    "        error_rates[real]['errors'] += 1\n",
    "    error_rates[real]['sum'] += 1\n",
    "error_frame = pd.DataFrame(index=[0], columns=np.unique(data[75]))\n",
    "for value, rates in error_rates.items():\n",
    "    error_frame[value] = [rates['errors'] / (rates['sum'])]\n",
    "error_frame"
   ]
  },
  {
   "cell_type": "code",
   "execution_count": null,
   "metadata": {
    "ExecuteTime": {
     "end_time": "2017-07-10T15:22:10.050451Z",
     "start_time": "2017-07-10T15:22:09.991121Z"
    },
    "collapsed": true
   },
   "outputs": [],
   "source": [
    "np.unique(data[75], return_counts=True)"
   ]
  },
  {
   "cell_type": "code",
   "execution_count": null,
   "metadata": {
    "ExecuteTime": {
     "end_time": "2017-07-10T14:50:14.469095Z",
     "start_time": "2017-07-10T14:50:14.456379Z"
    },
    "collapsed": true
   },
   "outputs": [],
   "source": [
    "ranking = []\n",
    "for index, importance in enumerate(clf.feature_importances_):\n",
    "    ranking.append((data.columns[index], importance))\n",
    "ranking.sort(key=lambda r: r[1], reverse=True)\n",
    "for (index, rank) in enumerate(ranking):\n",
    "        print('{}. {} with a score of {}'.format(index + 1, rank[0], rank[1]))"
   ]
  },
  {
   "cell_type": "markdown",
   "metadata": {},
   "source": [
    "## Benchmarking with top k features"
   ]
  },
  {
   "cell_type": "code",
   "execution_count": null,
   "metadata": {
    "ExecuteTime": {
     "start_time": "2017-06-08T12:19:24.460Z"
    },
    "collapsed": true
   },
   "outputs": [],
   "source": [
    "import sys\n",
    "\n",
    "scores = pd.DataFrame(columns=['RaR', 'DecisionTree'], index=np.arange(40))\n",
    "scores = scores.fillna(0)\n",
    "max_k = 40\n",
    "\n",
    "# RaR\n",
    "for i in range(1,max_k):\n",
    "    clf_selected = ExtraTreesClassifier(max_features=i, n_jobs=-1)\n",
    "    selected_features = list(map(lambda f: int(f[0]), rar.feature_ranking[:i]))\n",
    "    X_train_s = X_train[selected_features]\n",
    "    X_test_s = X_test[selected_features]\n",
    "    clf_selected.fit(X_train_s, y_train)\n",
    "    scores.loc[i, 'RaR'] = clf_selected.score(X_test_s, y_test)\n",
    "    sys.stdout.write('\\rBenchmark: {}%     '.format(100 * i / (2*max_k)))\n",
    "    sys.stdout.flush()\n",
    "    \n",
    "# DecisionTree\n",
    "for i in range(1,max_k):\n",
    "    clf_selected = ExtraTreesClassifier(max_features=i, n_jobs=-1)\n",
    "    selected_features = [r[0] for r in ranking[:i]]\n",
    "    X_train_s = X_train[selected_features]\n",
    "    X_test_s = X_test[selected_features]\n",
    "    clf_selected.fit(X_train_s, y_train)\n",
    "    scores.loc[i, 'DecisionTree'] = clf_selected.score(X_test_s, y_test)\n",
    "    sys.stdout.write('\\rBenchmark: {}%     '.format(50 + 100 * i / (2*max_k)))\n",
    "    sys.stdout.flush()\n",
    "print('Benchmark: 100.0%')"
   ]
  },
  {
   "cell_type": "code",
   "execution_count": null,
   "metadata": {
    "ExecuteTime": {
     "start_time": "2017-06-08T12:19:27.588Z"
    },
    "collapsed": true
   },
   "outputs": [],
   "source": [
    "import matplotlib.pyplot as plt\n",
    "plt.plot(scores['DecisionTree'], label='DecisionTree')\n",
    "plt.plot(scores['RaR'], label='RaR')\n",
    "plt.legend(bbox_to_anchor=(0., 1.02, 1., .102), loc=3,\n",
    "           ncol=2, mode=\"expand\", borderaxespad=0.)\n",
    "plt.savefig('test4_FS_ExtraTrees_Score')\n",
    "plt.show()"
   ]
  },
  {
   "cell_type": "markdown",
   "metadata": {},
   "source": [
    "## Other"
   ]
  },
  {
   "cell_type": "code",
   "execution_count": null,
   "metadata": {
    "collapsed": true
   },
   "outputs": [],
   "source": [
    "# In case we need to look at the tree\n",
    "from sklearn import tree\n",
    "import pydot\n",
    "from sklearn.externals.six import StringIO\n",
    "dot_data = StringIO()\n",
    "tree.export_graphviz(clf, out_file='tree.dot')"
   ]
  }
 ],
 "metadata": {
  "kernelspec": {
   "display_name": "Python 3",
   "language": "python",
   "name": "python3"
  },
  "language_info": {
   "codemirror_mode": {
    "name": "ipython",
    "version": 3
   },
   "file_extension": ".py",
   "mimetype": "text/x-python",
   "name": "python",
   "nbconvert_exporter": "python",
   "pygments_lexer": "ipython3",
   "version": "3.5.2"
  },
  "notify_time": "30"
 },
 "nbformat": 4,
 "nbformat_minor": 1
}
