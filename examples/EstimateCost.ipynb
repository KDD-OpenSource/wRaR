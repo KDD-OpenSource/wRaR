{
 "cells": [
  {
   "cell_type": "code",
   "execution_count": null,
   "metadata": {
    "collapsed": true
   },
   "outputs": [],
   "source": [
    "%load_ext autoreload\n",
    "%autoreload 2\n",
    "%pdb 0"
   ]
  },
  {
   "cell_type": "code",
   "execution_count": 1,
   "metadata": {
    "ExecuteTime": {
     "end_time": "2017-06-27T21:35:23.448233Z",
     "start_time": "2017-06-27T21:35:23.008873Z"
    },
    "collapsed": true
   },
   "outputs": [],
   "source": [
    "import pandas as pd\n",
    "import numpy as np\n",
    "import csrar\n",
    "from sklearn.model_selection import train_test_split\n",
    "from sklearn.tree import DecisionTreeClassifier\n",
    "from sklearn.ensemble import RandomForestClassifier, ExtraTreesClassifier\n",
    "from sklearn import svm"
   ]
  },
  {
   "cell_type": "code",
   "execution_count": 37,
   "metadata": {
    "ExecuteTime": {
     "end_time": "2017-06-27T21:44:17.764349Z",
     "start_time": "2017-06-27T21:44:17.750035Z"
    }
   },
   "outputs": [],
   "source": [
    "data = pd.read_csv('../data/page-blocks0.csv')"
   ]
  },
  {
   "cell_type": "code",
   "execution_count": 26,
   "metadata": {
    "ExecuteTime": {
     "end_time": "2017-06-27T21:41:51.431380Z",
     "start_time": "2017-06-27T21:41:51.414851Z"
    },
    "collapsed": true
   },
   "outputs": [],
   "source": [
    "# For rootkit_imap...\n",
    "for cat_col in ['Atr-1', 'Atr-2', 'Atr-3']:\n",
    "    data[cat_col] = pd.Categorical(data[cat_col])\n",
    "    data[cat_col] = data[cat_col].cat.codes"
   ]
  },
  {
   "cell_type": "code",
   "execution_count": 38,
   "metadata": {
    "ExecuteTime": {
     "end_time": "2017-06-27T21:44:20.970181Z",
     "start_time": "2017-06-27T21:44:20.966531Z"
    }
   },
   "outputs": [],
   "source": [
    "# For page-block0.csv, convert 'positive'/'negative' to 0 and 1\n",
    "data['Class'] = pd.Categorical(data['Class'])\n",
    "data['Class'] = data['Class'].cat.codes"
   ]
  },
  {
   "cell_type": "code",
   "execution_count": 39,
   "metadata": {
    "ExecuteTime": {
     "end_time": "2017-06-27T21:44:40.104596Z",
     "start_time": "2017-06-27T21:44:40.093703Z"
    }
   },
   "outputs": [
    {
     "data": {
      "text/plain": [
       "Height        int64\n",
       "Length        int64\n",
       "Area        float64\n",
       "Eccen       float64\n",
       "P_black     float64\n",
       "P_and       float64\n",
       "Mean_tr     float64\n",
       "Blackpix      int64\n",
       "Blackand      int64\n",
       "Wb_trans      int64\n",
       "Class          int8\n",
       "dtype: object"
      ]
     },
     "execution_count": 39,
     "metadata": {},
     "output_type": "execute_result"
    }
   ],
   "source": [
    "data.dtypes"
   ]
  },
  {
   "cell_type": "code",
   "execution_count": 8,
   "metadata": {
    "ExecuteTime": {
     "end_time": "2017-06-27T21:36:15.832456Z",
     "start_time": "2017-06-27T21:36:15.828502Z"
    }
   },
   "outputs": [
    {
     "data": {
      "text/plain": [
       "[0.99011235955056176, 0.0098876404494382016]"
      ]
     },
     "execution_count": 8,
     "metadata": {},
     "output_type": "execute_result"
    }
   ],
   "source": [
    "uniques = np.unique(data['Class'], return_counts=True)\n",
    "perc = list(map(lambda c: c/len(data), uniques[1]))\n",
    "perc"
   ]
  },
  {
   "cell_type": "code",
   "execution_count": null,
   "metadata": {
    "ExecuteTime": {
     "end_time": "2017-06-27T15:54:26.957577Z",
     "start_time": "2017-06-27T15:54:26.940880Z"
    },
    "collapsed": true
   },
   "outputs": [],
   "source": [
    "import arff\n",
    "file = open('../data/page-blocks0.arff', 'r')\n",
    "dataset = arff.load(file)\n",
    "data = pd.DataFrame(dataset['data'])"
   ]
  },
  {
   "cell_type": "markdown",
   "metadata": {},
   "source": [
    "#### About test2.arff:\n",
    "useful=Vector(0, 1)  \n",
    "dependent=Vector(5, 6, 7, 8, 9)  \n",
    "duplicated=Vector((0,12), (4,10), (6,11))  \n",
    "nominal=List()  \n",
    "clusters=[(0, 1, 2), (3, 4)]  \n",
    "distribution=List(24860, 25140)  \n",
    "seed=0\n",
    "#### About test3.arff\n",
    "useful=Vector(0, 1)  \n",
    "dependent=Vector(5, 6, 7, 8, 9)  \n",
    "duplicated=Vector((0,12), (4,10), (6,11))  \n",
    "nominal=List()  \n",
    "clusters=[(0, 1, 2), (3, 4)]  \n",
    "distribution=List(249786, 250214)  \n",
    "#### About test4.arff\n",
    "useful=Vector(0, 1, 2, 3, 4, 5, 6, 7, 8, 9, 10, 11, 12, 13, 14, 15, 16, 17, 18, 19, 20, 21, 22, 23, 24, 25, 26, 27, 28, 29)  \n",
    "dependent=Vector(100, 101, 102, 103, 104, 105, 106, 107, 108, 109, 110, 111, 112, 113, 114, 115, 116, 117, 118, 119, 120, 121, 122, 123, 124, 125, 126, 127, 128, 129, 130, 131, 132, 133, 134, 135, 136, 137, 138, 139, 140, 141, 142, 143, 144, 145, 146, 147, 148, 149)  \n",
    "duplicated=Vector((7,168), (10,157), (24,159), (28,162), (30,166), (50,169), (61,154), (82,158), (99,167), (104,156), (107,151), (113,164), (117,155), (117,165), (124,150), (135,160), (139,152), (145,161), (146,153), (147,163))  \n",
    "nominal=List()  \n",
    "clusters=[(0, 1, 2, 3, 4, 5, 6, 7, 8, 9), (10, 11, 12, 13, 14), (15, 16, 17)]  \n",
    "distribution=List(250085, 249915)  \n",
    "#### About test5.arff\n",
    "useful=Vector(0, 1, 2, 3, 4, 5, 6, 7, 8, 9)  \n",
    "dependent=Vector(80, 81, 82, 83, 84, 85, 86, 87, 88, 89, 90, 91, 92, 93, 94, 95, 96, 97, 98, 99, 100, 101, 102, 103, 104, 105, 106, 107, 108, 109)  \n",
    "duplicated=Vector((4,118), (8,114), (8,146), (9,137), (9,144), (10,131), (17,123), (22,116), (24,120), (24,142), (25,125), (35,127), (42,119), (43,122), (45,111), (48,134), (50,132), (52,110), (54,138), (57,112), (57,115), (57,149), (62,141), (64,136), (70,117), (70,148), (73,126), (76,133), (77,140), (78,143), (83,113), (84,139), (91,145), (92,121), (93,128), (93,135), (95,124), (103,129), (104,130), (105,147))  \n",
    "nominal=List()  \n",
    "clusters=[(0, 1, 2), (3, 4), (5, 6, 7, 8, 9, 10, 11, 12, 13, 14)]  \n",
    "distribution=List(99718, 100282)  \n"
   ]
  },
  {
   "cell_type": "markdown",
   "metadata": {},
   "source": [
    "### Train/Test Split"
   ]
  },
  {
   "cell_type": "code",
   "execution_count": 44,
   "metadata": {
    "ExecuteTime": {
     "end_time": "2017-06-27T21:45:13.681606Z",
     "start_time": "2017-06-27T21:45:13.669051Z"
    },
    "collapsed": true
   },
   "outputs": [],
   "source": [
    "target = 'Class'\n",
    "X = data.drop(target, axis=1)\n",
    "y = data[target]\n",
    "X_train, X_test, y_train, y_test = train_test_split(X, y, test_size=0.4)"
   ]
  },
  {
   "cell_type": "markdown",
   "metadata": {},
   "source": [
    "## RaR"
   ]
  },
  {
   "cell_type": "code",
   "execution_count": 75,
   "metadata": {
    "ExecuteTime": {
     "end_time": "2017-06-27T21:53:02.345270Z",
     "start_time": "2017-06-27T21:49:42.399167Z"
    }
   },
   "outputs": [
    {
     "name": "stdout",
     "output_type": "stream",
     "text": [
      "Relevance: 100.00%    \n",
      "Running optimizer...\n",
      "Optimizer done.\n",
      "Redundancy: 100.00%    \n",
      "1. Length with a score of 0.9288766374055539\n",
      "2. Mean_tr with a score of 0.5841040496231019\n",
      "3. Blackand with a score of 0.43147219314912205\n",
      "4. P_and with a score of 0.4210040594432255\n",
      "5. Height with a score of 0.4073246775534478\n",
      "6. Eccen with a score of 0.3589452883186349\n",
      "7. Wb_trans with a score of 0.3442807953003468\n",
      "8. P_black with a score of 0.29888268617035213\n",
      "9. Blackpix with a score of 0.2828470401528544\n",
      "10. Area with a score of 0.15586376056919918\n",
      "Relevance: 100.00%    \n",
      "Running optimizer...\n",
      "Optimizer done.\n",
      "Redundancy: 100.00%    \n",
      "1. Length with a score of 0.921171756896731\n",
      "2. Eccen with a score of 0.893478338512919\n",
      "3. Wb_trans with a score of 0.68453886360748\n",
      "4. Height with a score of 0.6221856663213782\n",
      "5. P_and with a score of 0.6150477825485977\n",
      "6. Mean_tr with a score of 0.6095777017400839\n",
      "7. Blackpix with a score of 0.5519881105315952\n",
      "8. Blackand with a score of 0.4451941752105676\n",
      "9. Area with a score of 0.23211128179821794\n",
      "10. P_black with a score of 5.443480031461668e-12\n",
      "Relevance: 100.00%    \n",
      "Running optimizer...\n",
      "Optimizer done.\n",
      "Redundancy: 100.00%    \n",
      "1. Length with a score of 0.9401848807231853\n",
      "2. Blackand with a score of 0.7113651327260321\n",
      "3. Mean_tr with a score of 0.5059048934353665\n",
      "4. Height with a score of 0.45300971653275574\n",
      "5. Eccen with a score of 0.4359759164965382\n",
      "6. Blackpix with a score of 0.42801606233100586\n",
      "7. P_and with a score of 0.3656854761540072\n",
      "8. Area with a score of 0.30472417398687174\n",
      "9. P_black with a score of 0.2512445811234643\n",
      "10. Wb_trans with a score of 0.21613359239955435\n",
      "Relevance: 100.00%    \n",
      "Running optimizer...\n",
      "Optimizer done.\n",
      "Redundancy: 100.00%    \n",
      "1. Length with a score of 0.9399317215643133\n",
      "2. Wb_trans with a score of 0.7490937001891961\n",
      "3. Mean_tr with a score of 0.641866249930925\n",
      "4. Blackand with a score of 0.6325535059734596\n",
      "5. Height with a score of 0.4577468698558357\n",
      "6. P_and with a score of 0.38433405884226396\n",
      "7. Area with a score of 0.3352501067398863\n",
      "8. Blackpix with a score of 0.3218280419130351\n",
      "9. P_black with a score of 0.288072422949575\n",
      "10. Eccen with a score of 0.23439138730812237\n",
      "Relevance: 100.00%    \n",
      "Running optimizer...\n",
      "Optimizer done.\n",
      "Redundancy: 100.00%    \n",
      "1. Wb_trans with a score of 0.907641402261628\n",
      "2. Blackand with a score of 0.6931472594421163\n",
      "3. Height with a score of 0.452681070571621\n",
      "4. Mean_tr with a score of 0.3674906631833552\n",
      "5. P_and with a score of 0.34289554797115374\n",
      "6. Area with a score of 0.2930695619756186\n",
      "7. Blackpix with a score of 0.2897281327131986\n",
      "8. P_black with a score of 0.23337586628614534\n",
      "9. Eccen with a score of 0.21876375025254768\n",
      "10. Length with a score of 0.043316810483443026\n",
      "Relevance: 100.00%    \n",
      "Running optimizer...\n",
      "Optimizer done.\n",
      "Redundancy: 100.00%    \n",
      "1. Wb_trans with a score of 0.920120764138607\n",
      "2. Length with a score of 0.8578852841381804\n",
      "3. P_and with a score of 0.523854881881133\n",
      "4. Blackpix with a score of 0.5046971416527111\n",
      "5. Height with a score of 0.45730580493032086\n",
      "6. Blackand with a score of 0.4561510463005761\n",
      "7. P_black with a score of 0.38476386676642327\n",
      "8. Mean_tr with a score of 0.33967204491250946\n",
      "9. Eccen with a score of 0.1872254170975681\n",
      "10. Area with a score of 0.15645490775069898\n",
      "Relevance: 100.00%    \n",
      "Running optimizer...\n",
      "Optimizer done.\n",
      "Redundancy: 100.00%    \n",
      "1. Length with a score of 0.9450028010954205\n",
      "2. Blackand with a score of 0.7420136199568508\n",
      "3. Eccen with a score of 0.7118123984494511\n",
      "4. Height with a score of 0.6841706533451428\n",
      "5. Mean_tr with a score of 0.6774244464115989\n",
      "6. Blackpix with a score of 0.6763434669740148\n",
      "7. Wb_trans with a score of 0.6620796838148716\n",
      "8. P_and with a score of 0.5971263398010095\n",
      "9. P_black with a score of 0.41952036247406677\n",
      "10. Area with a score of 0.35705152261957634\n",
      "Relevance: 100.00%    \n",
      "Running optimizer...\n",
      "Optimizer done.\n",
      "Redundancy: 100.00%    \n",
      "1. Wb_trans with a score of 0.8783931348597099\n",
      "2. Mean_tr with a score of 0.7668060981314192\n",
      "3. Length with a score of 0.6717229327632102\n",
      "4. Height with a score of 0.5898843999383161\n",
      "5. Blackand with a score of 0.47607622667555166\n",
      "6. P_and with a score of 0.46228275760188553\n",
      "7. P_black with a score of 0.39441572523974594\n",
      "8. Area with a score of 0.3002945997370989\n",
      "9. Eccen with a score of 0.18308442762989718\n",
      "10. Blackpix with a score of 0.15980105615599707\n",
      "Relevance: 100.00%    \n",
      "Running optimizer...\n",
      "Optimizer done.\n",
      "Redundancy: 100.00%    \n",
      "1. Wb_trans with a score of 0.8718305717612914\n",
      "2. Blackand with a score of 0.7959257978218551\n",
      "3. Eccen with a score of 0.5280694366846862\n",
      "4. Length with a score of 0.5079864867837235\n",
      "5. Height with a score of 0.2866770900362984\n",
      "6. P_and with a score of 0.2774313499596496\n",
      "7. Mean_tr with a score of 0.2722603597462175\n",
      "8. Blackpix with a score of 0.23944897071212246\n",
      "9. P_black with a score of 0.16461502709776898\n",
      "10. Area with a score of 0.16244932233869436\n",
      "Relevance: 100.00%    \n",
      "Running optimizer...\n",
      "Optimizer done.\n",
      "Redundancy: 100.00%    \n",
      "1. Wb_trans with a score of 0.9015260432980656\n",
      "2. Eccen with a score of 0.6112725008510355\n",
      "3. Height with a score of 0.5312940810020413\n",
      "4. Blackand with a score of 0.501472177753221\n",
      "5. Mean_tr with a score of 0.49186421931508834\n",
      "6. P_and with a score of 0.43750537525350364\n",
      "7. P_black with a score of 0.3141845744350455\n",
      "8. Blackpix with a score of 0.27846600812133915\n",
      "9. Area with a score of 0.25800845461439104\n",
      "10. Length with a score of 0.1768681102773452\n",
      "Relevance: 100.00%    \n",
      "Running optimizer...\n",
      "Optimizer done.\n",
      "Redundancy: 100.00%    \n",
      "1. Length with a score of 0.9455377712035874\n",
      "2. Blackand with a score of 0.7375154960072979\n",
      "3. Mean_tr with a score of 0.5141529360437949\n",
      "4. Area with a score of 0.4493612473272015\n",
      "5. Wb_trans with a score of 0.435853301741794\n",
      "6. Blackpix with a score of 0.40814189597300166\n",
      "7. Height with a score of 0.38847879435704563\n",
      "8. P_and with a score of 0.38811236378641\n",
      "9. Eccen with a score of 0.2642610183072294\n",
      "10. P_black with a score of 0.2621046559138735\n",
      "Relevance: 100.00%    \n",
      "Running optimizer...\n",
      "Optimizer done.\n",
      "Redundancy: 100.00%    \n",
      "1. Area with a score of 0.862143557222523\n",
      "2. Blackand with a score of 0.7593588167522557\n",
      "3. Wb_trans with a score of 0.4518004375299549\n",
      "4. Height with a score of 0.2789170831585751\n",
      "5. Mean_tr with a score of 0.26905538743216756\n",
      "6. P_and with a score of 0.26465059514082356\n",
      "7. P_black with a score of 0.2355199290847942\n",
      "8. Eccen with a score of 0.15258205287210044\n",
      "9. Blackpix with a score of 0.12201154315773416\n",
      "10. Length with a score of 0.02623921045469371\n",
      "Relevance: 100.00%    \n",
      "Running optimizer...\n",
      "Optimizer done.\n",
      "Redundancy: 100.00%    \n",
      "1. Length with a score of 0.9028891114296193\n",
      "2. Area with a score of 0.8783250551721251\n",
      "3. Mean_tr with a score of 0.5911003269935724\n",
      "4. Height with a score of 0.5735791007236343\n",
      "5. Wb_trans with a score of 0.4928001039621553\n",
      "6. Eccen with a score of 0.37999860090172144\n",
      "7. Blackpix with a score of 0.3475978287167094\n",
      "8. Blackand with a score of 0.2794489686571107\n",
      "9. P_black with a score of 0.24562247451012006\n",
      "10. P_and with a score of 0.19147560480504736\n",
      "Relevance: 100.00%    \n",
      "Running optimizer...\n",
      "Optimizer done.\n",
      "Redundancy: 100.00%    \n",
      "1. Eccen with a score of 0.9392017341249417\n",
      "2. Length with a score of 0.9193648532926635\n",
      "3. Blackand with a score of 0.7111038526177638\n",
      "4. Blackpix with a score of 0.6739049056051418\n",
      "5. Wb_trans with a score of 0.593244949976197\n",
      "6. Mean_tr with a score of 0.49116757796269045\n",
      "7. P_and with a score of 0.48925168624521115\n",
      "8. Height with a score of 0.34912939555970063\n",
      "9. Area with a score of 0.19621596246178127\n",
      "10. P_black with a score of 0.18768030740208194\n",
      "Relevance: 100.00%    \n",
      "Running optimizer...\n",
      "Optimizer done.\n",
      "Redundancy: 100.00%    \n",
      "1. Wb_trans with a score of 0.9259316373653844\n",
      "2. Blackpix with a score of 0.4920678903874515\n",
      "3. Height with a score of 0.4884752747854214\n",
      "4. Eccen with a score of 0.4865570770665436\n",
      "5. Mean_tr with a score of 0.4826127877911994\n",
      "6. P_and with a score of 0.442693226745855\n",
      "7. Blackand with a score of 0.43550306401148275\n",
      "8. P_black with a score of 0.37743238655690026\n",
      "9. Area with a score of 0.18692612135805745\n",
      "10. Length with a score of 0.037503102900384944\n",
      "Relevance: 100.00%    \n",
      "Running optimizer...\n",
      "Optimizer done.\n"
     ]
    },
    {
     "name": "stdout",
     "output_type": "stream",
     "text": [
      "Redundancy: 100.00%    \n",
      "1. Length with a score of 0.9050761731352946\n",
      "2. Wb_trans with a score of 0.8715013721474709\n",
      "3. Blackpix with a score of 0.7558924986599318\n",
      "4. Eccen with a score of 0.725769845106071\n",
      "5. P_black with a score of 0.6875950421966585\n",
      "6. Height with a score of 0.6509190322975087\n",
      "7. P_and with a score of 0.637295596755193\n",
      "8. Mean_tr with a score of 0.5147643035543161\n",
      "9. Area with a score of 0.4922354786942297\n",
      "10. Blackand with a score of 0.4775296852154369\n",
      "Relevance: 100.00%    \n",
      "Running optimizer...\n",
      "Optimizer done.\n",
      "Redundancy: 100.00%    \n",
      "1. Wb_trans with a score of 0.9219027978406077\n",
      "2. Blackand with a score of 0.7570091620931897\n",
      "3. Height with a score of 0.6172777786004412\n",
      "4. Mean_tr with a score of 0.49124706152067366\n",
      "5. P_and with a score of 0.44495683514211376\n",
      "6. P_black with a score of 0.34377321271852584\n",
      "7. Eccen with a score of 0.267479178818222\n",
      "8. Area with a score of 0.14403483767170852\n",
      "9. Length with a score of 0.10010142086765962\n",
      "10. Blackpix with a score of 0.026846020838651355\n",
      "Relevance: 100.00%    \n",
      "Running optimizer...\n",
      "Optimizer done.\n",
      "Redundancy: 100.00%    \n",
      "1. Length with a score of 0.9306805160152641\n",
      "2. Wb_trans with a score of 0.5833476889789508\n",
      "3. Eccen with a score of 0.5192987986315498\n",
      "4. P_and with a score of 0.41065152850565256\n",
      "5. Height with a score of 0.2883923600376507\n",
      "6. P_black with a score of 0.22659530091284733\n",
      "7. Mean_tr with a score of 0.2073458648909605\n",
      "8. Blackpix with a score of 0.18640758215443531\n",
      "9. Area with a score of 0.040186057682262695\n",
      "10. Blackand with a score of 1.2260323462103277e-10\n",
      "Relevance: 100.00%    \n",
      "Running optimizer...\n",
      "Optimizer done.\n",
      "Redundancy: 100.00%    \n",
      "1. Eccen with a score of 0.9292884067790659\n",
      "2. Blackpix with a score of 0.8570494863833361\n",
      "3. Area with a score of 0.757771471031209\n",
      "4. Wb_trans with a score of 0.7349882693214902\n",
      "5. P_and with a score of 0.5675802898846161\n",
      "6. Height with a score of 0.563531607348909\n",
      "7. Mean_tr with a score of 0.5601692688264192\n",
      "8. P_black with a score of 0.4353286517121072\n",
      "9. Length with a score of 0.4178705454607734\n",
      "10. Blackand with a score of 0.39062829441222124\n",
      "Relevance: 100.00%    \n",
      "Running optimizer...\n",
      "Optimizer done.\n",
      "Redundancy: 100.00%    \n",
      "1. Blackand with a score of 0.7508079640107131\n",
      "2. Wb_trans with a score of 0.6809142555676754\n",
      "3. Length with a score of 0.5551396582971566\n",
      "4. Eccen with a score of 0.547468195338472\n",
      "5. Height with a score of 0.39770044171874996\n",
      "6. Mean_tr with a score of 0.3613786516309148\n",
      "7. Area with a score of 0.31421820593812727\n",
      "8. P_and with a score of 0.26400710859285603\n",
      "9. Blackpix with a score of 0.08587734958484244\n",
      "10. P_black with a score of 0.022854877947531507\n"
     ]
    },
    {
     "data": {
      "text/html": [
       "<div>\n",
       "<style>\n",
       "    .dataframe thead tr:only-child th {\n",
       "        text-align: right;\n",
       "    }\n",
       "\n",
       "    .dataframe thead th {\n",
       "        text-align: left;\n",
       "    }\n",
       "\n",
       "    .dataframe tbody tr th {\n",
       "        vertical-align: top;\n",
       "    }\n",
       "</style>\n",
       "<table border=\"1\" class=\"dataframe\">\n",
       "  <thead>\n",
       "    <tr style=\"text-align: right;\">\n",
       "      <th></th>\n",
       "      <th>0</th>\n",
       "      <th>1</th>\n",
       "    </tr>\n",
       "  </thead>\n",
       "  <tbody>\n",
       "    <tr>\n",
       "      <th>0</th>\n",
       "      <td>0.023479</td>\n",
       "      <td>0.15</td>\n",
       "    </tr>\n",
       "  </tbody>\n",
       "</table>\n",
       "</div>"
      ],
      "text/plain": [
       "          0     1\n",
       "0  0.023479  0.15"
      ]
     },
     "execution_count": 75,
     "metadata": {},
     "output_type": "execute_result"
    }
   ],
   "source": [
    "avg_frames = 0\n",
    "for i in range(20):\n",
    "    rar_data = pd.concat([X_train, y_train], axis=1)\n",
    "    # RaR uses columns with string label only\n",
    "    rar_data.rename(columns=lambda c: str(c), inplace=True)\n",
    "    target = str(target)\n",
    "    rar = csrar.rar.RaR(rar_data)\n",
    "    rar.run(target, k=5, runs=100, split_iterations=10, compensate_imbalance=False)\n",
    "    error_frame = eval_rar_ranking(rar.feature_ranking, k=4)\n",
    "    avg_frames += error_frame\n",
    "avg_frames /= 20\n",
    "avg_frames"
   ]
  },
  {
   "cell_type": "code",
   "execution_count": 78,
   "metadata": {
    "ExecuteTime": {
     "end_time": "2017-06-27T22:02:56.891431Z",
     "start_time": "2017-06-27T21:59:35.817676Z"
    }
   },
   "outputs": [
    {
     "name": "stdout",
     "output_type": "stream",
     "text": [
      "Generated cost matrix:\n",
      "          0         1\n",
      "0  1.116287  9.599415\n",
      "Overall cost matrix:\n",
      "          0         1\n",
      "0  1.116287  9.599415\n",
      "Relevance: 100.00%    \n",
      "Running optimizer...\n",
      "Optimizer done.\n",
      "Redundancy: 100.00%    \n",
      "1. Area with a score of 0.8089724546768136\n",
      "2. Blackand with a score of 0.7886263613674566\n",
      "3. Mean_tr with a score of 0.7224172727174745\n",
      "4. Wb_trans with a score of 0.6960062354332337\n",
      "5. Blackpix with a score of 0.6319542079602986\n",
      "6. Eccen with a score of 0.5546566631848225\n",
      "7. Length with a score of 0.554019001303937\n",
      "8. Height with a score of 0.516884325031429\n",
      "9. P_black with a score of 0.5168251684845281\n",
      "10. P_and with a score of 0.43441561557156344\n",
      "Generated cost matrix:\n",
      "          0         1\n",
      "0  1.116287  9.599415\n",
      "Overall cost matrix:\n",
      "          0         1\n",
      "0  1.116287  9.599415\n",
      "Relevance: 100.00%    \n",
      "Running optimizer...\n",
      "Optimizer done.\n",
      "Redundancy: 100.00%    \n",
      "1. Area with a score of 0.8567302314232393\n",
      "2. Blackand with a score of 0.7879800854601896\n",
      "3. Eccen with a score of 0.6642100743944511\n",
      "4. Length with a score of 0.6364376703817857\n",
      "5. Height with a score of 0.5074168611123211\n",
      "6. Mean_tr with a score of 0.4806035528254485\n",
      "7. Wb_trans with a score of 0.4742016622546846\n",
      "8. Blackpix with a score of 0.46529095954159994\n",
      "9. P_black with a score of 0.4580218860608748\n",
      "10. P_and with a score of 0.44796063133224606\n",
      "Generated cost matrix:\n",
      "          0         1\n",
      "0  1.116287  9.599415\n",
      "Overall cost matrix:\n",
      "          0         1\n",
      "0  1.116287  9.599415\n",
      "Relevance: 100.00%    \n",
      "Running optimizer...\n",
      "Optimizer done.\n",
      "Redundancy: 100.00%    \n",
      "1. Blackand with a score of 0.7485808620133835\n",
      "2. Length with a score of 0.6920757967197911\n",
      "3. Mean_tr with a score of 0.6652467466156633\n",
      "4. Wb_trans with a score of 0.59011913579804\n",
      "5. P_and with a score of 0.39612452174031343\n",
      "6. P_black with a score of 0.2427161716952511\n",
      "7. Height with a score of 0.2410474548087541\n",
      "8. Eccen with a score of 0.23747854431820437\n",
      "9. Area with a score of 0.23529937971966075\n",
      "10. Blackpix with a score of 0.2336402930460333\n",
      "Generated cost matrix:\n",
      "          0         1\n",
      "0  1.116287  9.599415\n",
      "Overall cost matrix:\n",
      "          0         1\n",
      "0  1.116287  9.599415\n",
      "Relevance: 100.00%    \n",
      "Running optimizer...\n",
      "Optimizer done.\n",
      "Redundancy: 100.00%    \n",
      "1. Wb_trans with a score of 0.9227643344191218\n",
      "2. Blackand with a score of 0.7508909818504638\n",
      "3. Eccen with a score of 0.5393680534944273\n",
      "4. Length with a score of 0.521666689844265\n",
      "5. P_and with a score of 0.49871946876991674\n",
      "6. P_black with a score of 0.11099874310210742\n",
      "7. Height with a score of 0.017232611392929163\n",
      "8. Blackpix with a score of 0.01718807100016609\n",
      "9. Mean_tr with a score of 1.897096375529666e-09\n",
      "10. Area with a score of 4.148648895643221e-10\n",
      "Generated cost matrix:\n",
      "          0         1\n",
      "0  1.116287  9.599415\n",
      "Overall cost matrix:\n",
      "          0         1\n",
      "0  1.116287  9.599415\n",
      "Relevance: 100.00%    \n",
      "Running optimizer...\n",
      "Optimizer done.\n",
      "Redundancy: 100.00%    \n",
      "1. Area with a score of 0.8772456690340648\n",
      "2. Blackand with a score of 0.6903093905210871\n",
      "3. Blackpix with a score of 0.5644093065046147\n",
      "4. Eccen with a score of 0.556246758113972\n",
      "5. Length with a score of 0.5280108327390567\n",
      "6. Mean_tr with a score of 0.443196557460618\n",
      "7. Height with a score of 0.4393371577034034\n",
      "8. P_black with a score of 0.4292814266887086\n",
      "9. Wb_trans with a score of 0.4087339710437509\n",
      "10. P_and with a score of 0.37126608383608806\n",
      "Generated cost matrix:\n",
      "          0         1\n",
      "0  1.116287  9.599415\n",
      "Overall cost matrix:\n",
      "          0         1\n",
      "0  1.116287  9.599415\n",
      "Relevance: 100.00%    \n",
      "Running optimizer...\n",
      "Optimizer done.\n",
      "Redundancy: 100.00%    \n",
      "1. Length with a score of 0.9162501417204513\n",
      "2. Eccen with a score of 0.8923958661567125\n",
      "3. Wb_trans with a score of 0.8497791622149653\n",
      "4. Area with a score of 0.8041449786173118\n",
      "5. Height with a score of 0.23154818972781482\n",
      "6. Mean_tr with a score of 0.22444361980934965\n",
      "7. Blackpix with a score of 0.2220489506482411\n",
      "8. P_black with a score of 0.21969106265617203\n",
      "9. P_and with a score of 0.2193503816868598\n",
      "10. Blackand with a score of 0.21772495749998033\n",
      "Generated cost matrix:\n",
      "          0         1\n",
      "0  1.116287  9.599415\n",
      "Overall cost matrix:\n",
      "          0         1\n",
      "0  1.116287  9.599415\n",
      "Relevance: 100.00%    \n",
      "Running optimizer...\n",
      "Optimizer done.\n",
      "Redundancy: 100.00%    \n",
      "1. Length with a score of 0.9437470067076704\n",
      "2. Area with a score of 0.7593041649131348\n",
      "3. Blackpix with a score of 0.34712200022231965\n",
      "4. Wb_trans with a score of 0.09871689713343951\n",
      "5. Height with a score of 0.09858464274405887\n",
      "6. Mean_tr with a score of 0.09783305553569961\n",
      "7. Eccen with a score of 0.09647695416855283\n",
      "8. Blackand with a score of 0.09608698717901906\n",
      "9. P_black with a score of 0.09536952093918184\n",
      "10. P_and with a score of 0.09506082240489151\n",
      "Generated cost matrix:\n",
      "          0         1\n",
      "0  1.116287  9.599415\n",
      "Overall cost matrix:\n",
      "          0         1\n",
      "0  1.116287  9.599415\n",
      "Relevance: 100.00%    \n",
      "Running optimizer...\n",
      "Optimizer done.\n",
      "Redundancy: 100.00%    \n",
      "1. Length with a score of 0.8830602516073538\n",
      "2. Blackand with a score of 0.7717408141550587\n",
      "3. Blackpix with a score of 0.5800308186453867\n",
      "4. Area with a score of 0.5760136294310277\n",
      "5. P_and with a score of 0.42414797125037035\n",
      "6. Wb_trans with a score of 0.1255485202004183\n",
      "7. Height with a score of 0.12524427768534993\n",
      "8. Eccen with a score of 0.12445605656828398\n",
      "9. Mean_tr with a score of 0.12385206300262298\n",
      "10. P_black with a score of 0.11959484008613588\n",
      "Generated cost matrix:\n",
      "          0         1\n",
      "0  1.116287  9.599415\n",
      "Overall cost matrix:\n",
      "          0         1\n",
      "0  1.116287  9.599415\n",
      "Relevance: 100.00%    \n",
      "Running optimizer...\n",
      "Optimizer done.\n",
      "Redundancy: 100.00%    \n",
      "1. Wb_trans with a score of 0.7385867595958838\n",
      "2. Blackand with a score of 0.725309319404169\n",
      "3. Length with a score of 0.6976833627364899\n",
      "4. Area with a score of 0.6672002374802932\n",
      "5. Eccen with a score of 0.6541187355504641\n",
      "6. Mean_tr with a score of 0.4426371170370606\n",
      "7. P_and with a score of 0.30919154503051993\n",
      "8. Blackpix with a score of 0.22338072301494769\n",
      "9. Height with a score of 0.22245506964726658\n",
      "10. P_black with a score of 0.20342425410788406\n",
      "Generated cost matrix:\n",
      "          0         1\n",
      "0  1.116287  9.599415\n",
      "Overall cost matrix:\n",
      "          0         1\n",
      "0  1.116287  9.599415\n",
      "Relevance: 100.00%    \n",
      "Running optimizer...\n",
      "Optimizer done.\n",
      "Redundancy: 100.00%    \n",
      "1. Mean_tr with a score of 0.9129948218230551\n",
      "2. Eccen with a score of 0.8934753419572091\n",
      "3. Length with a score of 0.8606869970189128\n",
      "4. Area with a score of 0.8322156864181672\n",
      "5. Wb_trans with a score of 0.8149174334071363\n",
      "6. P_black with a score of 0.7984405906602716\n",
      "7. Height with a score of 0.782943112451318\n",
      "8. Blackand with a score of 0.7545418427871782\n",
      "9. Blackpix with a score of 0.7540554689131979\n",
      "10. P_and with a score of 0.678284789793694\n",
      "Generated cost matrix:\n",
      "          0         1\n",
      "0  1.116287  9.599415\n",
      "Overall cost matrix:\n",
      "          0         1\n",
      "0  1.116287  9.599415\n",
      "Relevance: 100.00%    \n",
      "Running optimizer...\n",
      "Optimizer done.\n",
      "Redundancy: 100.00%    \n",
      "1. Area with a score of 0.8921762018554257\n",
      "2. Wb_trans with a score of 0.8765899555802463\n",
      "3. Length with a score of 0.46926664828737946\n",
      "4. Height with a score of 0.46468722248304\n",
      "5. Blackpix with a score of 0.44259184064585544\n",
      "6. Eccen with a score of 0.44161134439072824\n",
      "7. P_black with a score of 0.4254154567882204\n",
      "8. Blackand with a score of 0.41620405914724223\n",
      "9. P_and with a score of 0.39599204041383623\n",
      "10. Mean_tr with a score of 0.3937067832515859\n",
      "Generated cost matrix:\n",
      "          0         1\n",
      "0  1.116287  9.599415\n",
      "Overall cost matrix:\n",
      "          0         1\n",
      "0  1.116287  9.599415\n",
      "Relevance: 100.00%    \n",
      "Running optimizer...\n",
      "Optimizer done.\n",
      "Redundancy: 100.00%    \n",
      "1. Area with a score of 0.9068670805476099\n",
      "2. Blackpix with a score of 0.7471875580431825\n",
      "3. Mean_tr with a score of 0.5987429608797395\n",
      "4. Length with a score of 0.5045027424058257\n",
      "5. Height with a score of 0.4963339630600292\n",
      "6. Wb_trans with a score of 0.4858988274018746\n",
      "7. Eccen with a score of 0.4810905502879775\n",
      "8. P_and with a score of 0.4705198523766059\n",
      "9. P_black with a score of 0.4608595052464782\n",
      "10. Blackand with a score of 0.43698551668768365\n",
      "Generated cost matrix:\n",
      "          0         1\n",
      "0  1.116287  9.599415\n",
      "Overall cost matrix:\n",
      "          0         1\n",
      "0  1.116287  9.599415\n"
     ]
    },
    {
     "name": "stdout",
     "output_type": "stream",
     "text": [
      "Relevance: 100.00%    \n",
      "Running optimizer...\n",
      "Optimizer done.\n",
      "Redundancy: 100.00%    \n",
      "1. Area with a score of 0.9003254078244152\n",
      "2. Wb_trans with a score of 0.813662850712538\n",
      "3. P_black with a score of 0.41265379163035604\n",
      "4. Height with a score of 0.4112971009479476\n",
      "5. Mean_tr with a score of 0.3996653053743387\n",
      "6. Eccen with a score of 0.3875919960999593\n",
      "7. Length with a score of 0.38254841255591776\n",
      "8. P_and with a score of 0.3808343936997486\n",
      "9. Blackpix with a score of 0.3682541633890866\n",
      "10. Blackand with a score of 0.3592479856338039\n",
      "Generated cost matrix:\n",
      "          0         1\n",
      "0  1.116287  9.599415\n",
      "Overall cost matrix:\n",
      "          0         1\n",
      "0  1.116287  9.599415\n",
      "Relevance: 100.00%    \n",
      "Running optimizer...\n",
      "Optimizer done.\n",
      "Redundancy: 100.00%    \n",
      "1. Area with a score of 0.8736161299936009\n",
      "2. Wb_trans with a score of 0.8714070464169211\n",
      "3. Height with a score of 0.5893005858397247\n",
      "4. Mean_tr with a score of 0.5888808578205181\n",
      "5. Length with a score of 0.5577281905642701\n",
      "6. Eccen with a score of 0.5444456735308134\n",
      "7. P_and with a score of 0.5081708977433481\n",
      "8. P_black with a score of 0.43037994559129295\n",
      "9. Blackand with a score of 0.4081864913372023\n",
      "10. Blackpix with a score of 0.4059759483616063\n",
      "Generated cost matrix:\n",
      "          0         1\n",
      "0  1.116287  9.599415\n",
      "Overall cost matrix:\n",
      "          0         1\n",
      "0  1.116287  9.599415\n",
      "Relevance: 100.00%    \n",
      "Running optimizer...\n",
      "Optimizer done.\n",
      "Redundancy: 100.00%    \n",
      "1. Length with a score of 0.9441847067755067\n",
      "2. Eccen with a score of 0.8837213522120941\n",
      "3. Blackpix with a score of 0.7664336098731159\n",
      "4. Blackand with a score of 0.7244698379618077\n",
      "5. P_and with a score of 0.6813619913431677\n",
      "6. Height with a score of 0.6668781943195861\n",
      "7. Area with a score of 0.653786128520541\n",
      "8. Mean_tr with a score of 0.6223116334858566\n",
      "9. Wb_trans with a score of 0.6177856846575746\n",
      "10. P_black with a score of 0.5307905491513908\n",
      "Generated cost matrix:\n",
      "          0         1\n",
      "0  1.116287  9.599415\n",
      "Overall cost matrix:\n",
      "          0         1\n",
      "0  1.116287  9.599415\n",
      "Relevance: 100.00%    \n",
      "Running optimizer...\n",
      "Optimizer done.\n",
      "Redundancy: 100.00%    \n",
      "1. Length with a score of 0.9279448225601372\n",
      "2. Area with a score of 0.9077364394901736\n",
      "3. Wb_trans with a score of 0.7230749467795365\n",
      "4. P_and with a score of 0.5708782161570348\n",
      "5. Height with a score of 0.5097842304926842\n",
      "6. Blackpix with a score of 0.3731369570926461\n",
      "7. Blackand with a score of 0.3520972159490525\n",
      "8. Eccen with a score of 0.07997158455717313\n",
      "9. P_black with a score of 0.07864851340544457\n",
      "10. Mean_tr with a score of 7.417166608314538e-09\n",
      "Generated cost matrix:\n",
      "          0         1\n",
      "0  1.116287  9.599415\n",
      "Overall cost matrix:\n",
      "          0         1\n",
      "0  1.116287  9.599415\n",
      "Relevance: 100.00%    \n",
      "Running optimizer...\n",
      "Optimizer done.\n",
      "Redundancy: 100.00%    \n",
      "1. Area with a score of 0.8590684782399443\n",
      "2. Length with a score of 0.8165499488636877\n",
      "3. Blackand with a score of 0.7879223291746859\n",
      "4. Wb_trans with a score of 0.7575889837457345\n",
      "5. Eccen with a score of 0.6295771499104955\n",
      "6. Height with a score of 0.6215294477190639\n",
      "7. P_black with a score of 0.5903211813462352\n",
      "8. Mean_tr with a score of 0.588706174288511\n",
      "9. Blackpix with a score of 0.5418543211164397\n",
      "10. P_and with a score of 0.4944834486860452\n",
      "Generated cost matrix:\n",
      "          0         1\n",
      "0  1.116287  9.599415\n",
      "Overall cost matrix:\n",
      "          0         1\n",
      "0  1.116287  9.599415\n",
      "Relevance: 100.00%    \n",
      "Running optimizer...\n",
      "Optimizer done.\n",
      "Redundancy: 100.00%    \n",
      "1. Wb_trans with a score of 0.8411145152961743\n",
      "2. Blackand with a score of 0.7703649203114151\n",
      "3. Area with a score of 0.5660108135207811\n",
      "4. Blackpix with a score of 0.512051204627825\n",
      "5. P_and with a score of 0.3870682812232657\n",
      "6. Eccen with a score of 0.30909828822779983\n",
      "7. Height with a score of 0.30606618406478786\n",
      "8. Mean_tr with a score of 0.3042264351866289\n",
      "9. Length with a score of 0.30261050753260055\n",
      "10. P_black with a score of 0.28212165470966893\n",
      "Generated cost matrix:\n",
      "          0         1\n",
      "0  1.116287  9.599415\n",
      "Overall cost matrix:\n",
      "          0         1\n",
      "0  1.116287  9.599415\n",
      "Relevance: 100.00%    \n",
      "Running optimizer...\n",
      "Optimizer done.\n",
      "Redundancy: 100.00%    \n",
      "1. Length with a score of 0.9416996042302196\n",
      "2. Wb_trans with a score of 0.9092210321808015\n",
      "3. Eccen with a score of 0.8116905650416096\n",
      "4. Mean_tr with a score of 0.7271506006468534\n",
      "5. Blackpix with a score of 0.7041354120128894\n",
      "6. P_and with a score of 0.6286633651025368\n",
      "7. Height with a score of 0.5662854493435084\n",
      "8. Area with a score of 0.5449876577698964\n",
      "9. P_black with a score of 0.5415536360980212\n",
      "10. Blackand with a score of 0.4840207371336381\n",
      "Generated cost matrix:\n",
      "          0         1\n",
      "0  1.116287  9.599415\n",
      "Overall cost matrix:\n",
      "          0         1\n",
      "0  1.116287  9.599415\n",
      "Relevance: 100.00%    \n",
      "Running optimizer...\n",
      "Optimizer done.\n",
      "Redundancy: 100.00%    \n",
      "1. Wb_trans with a score of 0.7923728572708927\n",
      "2. Blackand with a score of 0.7507575863291032\n",
      "3. Area with a score of 0.7449646656892951\n",
      "4. P_and with a score of 0.6788165420358321\n",
      "5. Height with a score of 0.6693889555922922\n",
      "6. Mean_tr with a score of 0.641169723852099\n",
      "7. Length with a score of 0.6365118441315449\n",
      "8. Blackpix with a score of 0.6153081279853205\n",
      "9. Eccen with a score of 0.5815157679965739\n",
      "10. P_black with a score of 0.5755954433482382\n"
     ]
    },
    {
     "data": {
      "text/html": [
       "<div>\n",
       "<style>\n",
       "    .dataframe thead tr:only-child th {\n",
       "        text-align: right;\n",
       "    }\n",
       "\n",
       "    .dataframe thead th {\n",
       "        text-align: left;\n",
       "    }\n",
       "\n",
       "    .dataframe tbody tr th {\n",
       "        vertical-align: top;\n",
       "    }\n",
       "</style>\n",
       "<table border=\"1\" class=\"dataframe\">\n",
       "  <thead>\n",
       "    <tr style=\"text-align: right;\">\n",
       "      <th></th>\n",
       "      <th>0</th>\n",
       "      <th>1</th>\n",
       "    </tr>\n",
       "  </thead>\n",
       "  <tbody>\n",
       "    <tr>\n",
       "      <th>0</th>\n",
       "      <td>0.027485</td>\n",
       "      <td>0.163134</td>\n",
       "    </tr>\n",
       "  </tbody>\n",
       "</table>\n",
       "</div>"
      ],
      "text/plain": [
       "          0         1\n",
       "0  0.027485  0.163134"
      ]
     },
     "execution_count": 78,
     "metadata": {},
     "output_type": "execute_result"
    }
   ],
   "source": [
    "avg_frames2 = 0\n",
    "for i in range(20):\n",
    "    rar_data = pd.concat([X_train, y_train], axis=1)\n",
    "    # RaR uses columns with string label only\n",
    "    rar_data.rename(columns=lambda c: str(c), inplace=True)\n",
    "    target = str(target)\n",
    "    rar_compensate = csrar.rar.RaR(rar_data)\n",
    "    rar_compensate.run(target, k=5, runs=100, split_iterations=10, compensate_imbalance=True)\n",
    "    error_frame2 = eval_rar_ranking(rar_compensate.feature_ranking, k=4)\n",
    "    avg_frames2 += error_frame2\n",
    "avg_frames2 /= 20\n",
    "avg_frames2"
   ]
  },
  {
   "cell_type": "code",
   "execution_count": 62,
   "metadata": {
    "ExecuteTime": {
     "end_time": "2017-06-27T21:47:30.116483Z",
     "start_time": "2017-06-27T21:47:29.888089Z"
    }
   },
   "outputs": [
    {
     "data": {
      "text/html": [
       "<div>\n",
       "<style>\n",
       "    .dataframe thead tr:only-child th {\n",
       "        text-align: right;\n",
       "    }\n",
       "\n",
       "    .dataframe thead th {\n",
       "        text-align: left;\n",
       "    }\n",
       "\n",
       "    .dataframe tbody tr th {\n",
       "        vertical-align: top;\n",
       "    }\n",
       "</style>\n",
       "<table border=\"1\" class=\"dataframe\">\n",
       "  <thead>\n",
       "    <tr style=\"text-align: right;\">\n",
       "      <th></th>\n",
       "      <th>0</th>\n",
       "      <th>1</th>\n",
       "    </tr>\n",
       "  </thead>\n",
       "  <tbody>\n",
       "    <tr>\n",
       "      <th>0</th>\n",
       "      <td>0.024341</td>\n",
       "      <td>0.147465</td>\n",
       "    </tr>\n",
       "  </tbody>\n",
       "</table>\n",
       "</div>"
      ],
      "text/plain": [
       "          0         1\n",
       "0  0.024341  0.147465"
      ]
     },
     "execution_count": 62,
     "metadata": {},
     "output_type": "execute_result"
    }
   ],
   "source": [
    "error_frame2 = eval_rar_ranking(rar_compensate.feature_ranking, k=4)\n",
    "error_frame2"
   ]
  },
  {
   "cell_type": "markdown",
   "metadata": {},
   "source": [
    "## Cost Analysis"
   ]
  },
  {
   "cell_type": "markdown",
   "metadata": {
    "ExecuteTime": {
     "end_time": "2017-06-27T16:07:47.409552Z",
     "start_time": "2017-06-27T16:07:47.407584Z"
    }
   },
   "source": [
    "### With selection"
   ]
  },
  {
   "cell_type": "code",
   "execution_count": 54,
   "metadata": {
    "ExecuteTime": {
     "end_time": "2017-06-27T21:46:39.624268Z",
     "start_time": "2017-06-27T21:46:39.582020Z"
    }
   },
   "outputs": [],
   "source": [
    "def eval_rar_ranking(ranking, k=3):\n",
    "    from imblearn.over_sampling import SMOTE\n",
    "    \n",
    "    clf_selected = ExtraTreesClassifier(max_features=k, n_jobs=-1)\n",
    "    selected_features = list(map(lambda f: f[0], ranking[:k]))\n",
    "    X_train_s = X_train[selected_features]\n",
    "    X_test_s = X_test[selected_features]\n",
    "    \n",
    "    # Rebalance\n",
    "    sm = SMOTE(random_state=42)\n",
    "    X_res, y_res = sm.fit_sample(X_train_s, y_train)\n",
    "    \n",
    "    clf_selected.fit(X_res, y_res)\n",
    "    y_predict = clf_selected.predict(X_test_s)\n",
    "    error_rates = dict([(value, {'sum': 0, 'errors': 0}) for value in np.unique(data['Class'])])\n",
    "    for real, predicted in zip(y_test, y_predict):\n",
    "        if real != predicted:\n",
    "            error_rates[real]['errors'] += 1\n",
    "        error_rates[real]['sum'] += 1\n",
    "\n",
    "    error_frame = pd.DataFrame(index=[0], columns=np.unique(data['Class']))\n",
    "    for value, rates in error_rates.items():\n",
    "        error_frame[value] = [rates['errors'] / (rates['sum'])]\n",
    "    return error_frame"
   ]
  },
  {
   "cell_type": "markdown",
   "metadata": {
    "ExecuteTime": {
     "end_time": "2017-06-27T16:06:29.802362Z",
     "start_time": "2017-06-27T16:06:29.798890Z"
    }
   },
   "source": [
    "### Without selection"
   ]
  },
  {
   "cell_type": "code",
   "execution_count": 46,
   "metadata": {
    "ExecuteTime": {
     "end_time": "2017-06-27T21:45:26.581888Z",
     "start_time": "2017-06-27T21:45:26.548837Z"
    },
    "collapsed": true
   },
   "outputs": [],
   "source": [
    "# Resampling for imbalanced learn\n",
    "from imblearn.over_sampling import SMOTE \n",
    "\n",
    "sm = SMOTE(random_state=42)\n",
    "X_res, y_res = sm.fit_sample(X_train, y_train)"
   ]
  },
  {
   "cell_type": "code",
   "execution_count": 50,
   "metadata": {
    "ExecuteTime": {
     "end_time": "2017-06-27T21:45:59.990393Z",
     "start_time": "2017-06-27T21:45:59.766212Z"
    }
   },
   "outputs": [
    {
     "data": {
      "text/html": [
       "<div>\n",
       "<style>\n",
       "    .dataframe thead tr:only-child th {\n",
       "        text-align: right;\n",
       "    }\n",
       "\n",
       "    .dataframe thead th {\n",
       "        text-align: left;\n",
       "    }\n",
       "\n",
       "    .dataframe tbody tr th {\n",
       "        vertical-align: top;\n",
       "    }\n",
       "</style>\n",
       "<table border=\"1\" class=\"dataframe\">\n",
       "  <thead>\n",
       "    <tr style=\"text-align: right;\">\n",
       "      <th></th>\n",
       "      <th>0</th>\n",
       "      <th>1</th>\n",
       "    </tr>\n",
       "  </thead>\n",
       "  <tbody>\n",
       "    <tr>\n",
       "      <th>0</th>\n",
       "      <td>0.021298</td>\n",
       "      <td>0.064516</td>\n",
       "    </tr>\n",
       "  </tbody>\n",
       "</table>\n",
       "</div>"
      ],
      "text/plain": [
       "          0         1\n",
       "0  0.021298  0.064516"
      ]
     },
     "execution_count": 50,
     "metadata": {},
     "output_type": "execute_result"
    }
   ],
   "source": [
    "clf = ExtraTreesClassifier(n_jobs=-1)\n",
    "clf.fit(X_res, y_res)\n",
    "\n",
    "y_predict = clf.predict(X_test)\n",
    "error_rates = dict([(value, {'sum': 0, 'errors': 0}) for value in np.unique(data['Class'])])\n",
    "for real, predicted in zip(y_test, y_predict):\n",
    "    if real != predicted:\n",
    "        error_rates[real]['errors'] += 1\n",
    "    error_rates[real]['sum'] += 1\n",
    "error_frame = pd.DataFrame(index=[0], columns=np.unique(data['Class']))\n",
    "for value, rates in error_rates.items():\n",
    "    error_frame[value] = [rates['errors'] / (rates['sum'])]\n",
    "error_frame"
   ]
  },
  {
   "cell_type": "code",
   "execution_count": null,
   "metadata": {
    "ExecuteTime": {
     "end_time": "2017-06-27T16:41:19.951462Z",
     "start_time": "2017-06-27T16:41:19.842950Z"
    }
   },
   "outputs": [],
   "source": [
    "clf.score(X_test, y_test)"
   ]
  },
  {
   "cell_type": "markdown",
   "metadata": {},
   "source": [
    "## DecisionTreeClassifier for Feature Ranking"
   ]
  },
  {
   "cell_type": "code",
   "execution_count": 45,
   "metadata": {
    "ExecuteTime": {
     "end_time": "2017-06-27T21:45:16.722907Z",
     "start_time": "2017-06-27T21:45:16.664428Z"
    }
   },
   "outputs": [
    {
     "data": {
      "text/plain": [
       "0.96984924623115576"
      ]
     },
     "execution_count": 45,
     "metadata": {},
     "output_type": "execute_result"
    }
   ],
   "source": [
    "clf = DecisionTreeClassifier()\n",
    "clf.fit(X_train, y_train)\n",
    "clf.score(X_test, y_test)"
   ]
  },
  {
   "cell_type": "code",
   "execution_count": null,
   "metadata": {
    "ExecuteTime": {
     "start_time": "2017-06-08T12:19:21.148Z"
    },
    "collapsed": true
   },
   "outputs": [],
   "source": [
    "ranking = []\n",
    "for index, importance in enumerate(clf.feature_importances_):\n",
    "    ranking.append((data.columns[index], importance))\n",
    "ranking.sort(key=lambda r: r[1], reverse=True)\n",
    "for (index, rank) in enumerate(ranking):\n",
    "        print('{}. {} with a score of {}'.format(index + 1, rank[0], rank[1]))"
   ]
  },
  {
   "cell_type": "markdown",
   "metadata": {},
   "source": [
    "## Benchmarking with top k features"
   ]
  },
  {
   "cell_type": "code",
   "execution_count": null,
   "metadata": {
    "ExecuteTime": {
     "start_time": "2017-06-08T12:19:24.460Z"
    },
    "collapsed": true
   },
   "outputs": [],
   "source": [
    "import sys\n",
    "\n",
    "scores = pd.DataFrame(columns=['RaR', 'DecisionTree'], index=np.arange(40))\n",
    "scores = scores.fillna(0)\n",
    "max_k = 40\n",
    "\n",
    "# RaR\n",
    "for i in range(1,max_k):\n",
    "    clf_selected = ExtraTreesClassifier(max_features=i, n_jobs=-1)\n",
    "    selected_features = list(map(lambda f: int(f[0]), rar.feature_ranking[:i]))\n",
    "    X_train_s = X_train[selected_features]\n",
    "    X_test_s = X_test[selected_features]\n",
    "    clf_selected.fit(X_train_s, y_train)\n",
    "    scores.loc[i, 'RaR'] = clf_selected.score(X_test_s, y_test)\n",
    "    sys.stdout.write('\\rBenchmark: {}%     '.format(100 * i / (2*max_k)))\n",
    "    sys.stdout.flush()\n",
    "    \n",
    "# DecisionTree\n",
    "for i in range(1,max_k):\n",
    "    clf_selected = ExtraTreesClassifier(max_features=i, n_jobs=-1)\n",
    "    selected_features = [r[0] for r in ranking[:i]]\n",
    "    X_train_s = X_train[selected_features]\n",
    "    X_test_s = X_test[selected_features]\n",
    "    clf_selected.fit(X_train_s, y_train)\n",
    "    scores.loc[i, 'DecisionTree'] = clf_selected.score(X_test_s, y_test)\n",
    "    sys.stdout.write('\\rBenchmark: {}%     '.format(50 + 100 * i / (2*max_k)))\n",
    "    sys.stdout.flush()\n",
    "print('Benchmark: 100.0%')"
   ]
  },
  {
   "cell_type": "code",
   "execution_count": null,
   "metadata": {
    "ExecuteTime": {
     "start_time": "2017-06-08T12:19:27.588Z"
    },
    "collapsed": true
   },
   "outputs": [],
   "source": [
    "import matplotlib.pyplot as plt\n",
    "plt.plot(scores['DecisionTree'], label='DecisionTree')\n",
    "plt.plot(scores['RaR'], label='RaR')\n",
    "plt.legend(bbox_to_anchor=(0., 1.02, 1., .102), loc=3,\n",
    "           ncol=2, mode=\"expand\", borderaxespad=0.)\n",
    "plt.savefig('test4_FS_ExtraTrees_Score')\n",
    "plt.show()"
   ]
  },
  {
   "cell_type": "markdown",
   "metadata": {},
   "source": [
    "## Other"
   ]
  },
  {
   "cell_type": "code",
   "execution_count": null,
   "metadata": {
    "collapsed": true
   },
   "outputs": [],
   "source": [
    "# In case we need to look at the tree\n",
    "from sklearn import tree\n",
    "import pydot\n",
    "from sklearn.externals.six import StringIO\n",
    "dot_data = StringIO()\n",
    "tree.export_graphviz(clf, out_file='tree.dot')"
   ]
  }
 ],
 "metadata": {
  "kernelspec": {
   "display_name": "Python 3",
   "language": "python",
   "name": "python3"
  },
  "language_info": {
   "codemirror_mode": {
    "name": "ipython",
    "version": 3
   },
   "file_extension": ".py",
   "mimetype": "text/x-python",
   "name": "python",
   "nbconvert_exporter": "python",
   "pygments_lexer": "ipython3",
   "version": "3.5.2"
  },
  "notify_time": "30"
 },
 "nbformat": 4,
 "nbformat_minor": 1
}
