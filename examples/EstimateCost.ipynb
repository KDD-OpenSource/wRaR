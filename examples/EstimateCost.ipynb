{
 "cells": [
  {
   "cell_type": "code",
   "execution_count": 1,
   "metadata": {
    "collapsed": false
   },
   "outputs": [],
   "source": [
    "import pandas as pd\n",
    "import numpy as np\n",
    "import csrar"
   ]
  },
  {
   "cell_type": "code",
   "execution_count": 2,
   "metadata": {
    "collapsed": true
   },
   "outputs": [],
   "source": [
    "data = pd.read_csv('../data/Injector_Median100k.csv')"
   ]
  },
  {
   "cell_type": "code",
   "execution_count": null,
   "metadata": {
    "collapsed": false
   },
   "outputs": [],
   "source": [
    "target = 'Col174'\n",
    "rar = csrar.rar.RaR(data)\n"
   ]
  },
  {
   "cell_type": "code",
   "execution_count": null,
   "metadata": {
    "collapsed": false
   },
   "outputs": [
    {
     "name": "stdout",
     "output_type": "stream",
     "text": [
      "Optimize a model with 2 rows, 175 columns and 177 nonzeros\n",
      "Model has 349 quadratic objective terms\n",
      "Coefficient statistics:\n",
      "  Matrix range     [6e-03, 1e+00]\n",
      "  Objective range  [1e+00, 1e+00]\n",
      "  QObjective range [2e+00, 3e+02]\n",
      "  Bounds range     [8e-01, 8e-01]\n",
      "  RHS range        [8e-01, 8e-01]\n",
      "Presolve time: 0.01s\n",
      "Presolved: 2 rows, 175 columns, 177 nonzeros\n",
      "Presolved model has 349 quadratic objective terms\n",
      "Ordering time: 0.00s\n",
      "\n",
      "Barrier statistics:\n",
      " Dense cols : 1\n",
      " Free vars  : 174\n",
      " AA' NZ     : 3.520e+02\n",
      " Factor NZ  : 9.630e+02\n",
      " Factor Ops : 1.274e+04 (less than 1 second per iteration)\n",
      " Threads    : 1\n",
      "\n",
      "                  Objective                Residual\n",
      "Iter       Primal          Dual         Primal    Dual     Compl     Time\n",
      "   0   1.74072592e+05 -1.45524056e+05  1.00e+03 5.86e-10  1.00e+06     0s\n",
      "   1   2.18288967e+04 -1.55936187e+05  1.38e+02 4.08e-11  7.02e+04     0s\n",
      "   2   7.28392916e+01 -1.45126578e+05  1.00e-12 1.07e-11  4.15e+02     0s\n",
      "   3   7.27189080e+01 -1.70778597e+02  5.55e-17 2.47e-13  6.96e-01     0s\n",
      "   4   2.69778599e+01 -1.68329593e+00  2.16e-15 1.33e-15  8.19e-02     0s\n",
      "   5   1.56263388e+00  3.06508063e-01  8.74e-16 2.22e-16  3.59e-03     0s\n",
      "   6   1.18320604e+00  1.18150538e+00  1.11e-16 0.00e+00  4.86e-06     0s\n",
      "   7   1.18282653e+00  1.18282483e+00  1.47e-15 2.30e-14  4.86e-09     0s\n",
      "   8   1.18282615e+00  1.18282614e+00  9.99e-16 3.33e-16  4.86e-12     0s\n",
      "\n",
      "Barrier solved model in 8 iterations and 0.03 seconds\n",
      "Optimal objective 1.18282615e+00\n",
      "\n"
     ]
    }
   ],
   "source": [
    "rar.run(target)"
   ]
  }
 ],
 "metadata": {
  "kernelspec": {
   "display_name": "Python35",
   "language": "python",
   "name": "python35"
  },
  "language_info": {
   "codemirror_mode": {
    "name": "ipython",
    "version": 3
   },
   "file_extension": ".py",
   "mimetype": "text/x-python",
   "name": "python",
   "nbconvert_exporter": "python",
   "pygments_lexer": "ipython3",
   "version": "3.5.0"
  }
 },
 "nbformat": 4,
 "nbformat_minor": 1
}
