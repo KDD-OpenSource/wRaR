{
 "cells": [
  {
   "cell_type": "code",
   "execution_count": null,
   "metadata": {
    "ExecuteTime": {
     "end_time": "2017-07-05T15:33:55.261587Z",
     "start_time": "2017-07-05T15:33:55.227880Z"
    },
    "collapsed": true
   },
   "outputs": [],
   "source": [
    "%load_ext autoreload\n",
    "%autoreload 2\n",
    "%pdb 0"
   ]
  },
  {
   "cell_type": "code",
   "execution_count": 1,
   "metadata": {
    "ExecuteTime": {
     "end_time": "2017-07-10T20:53:14.187149Z",
     "start_time": "2017-07-10T20:53:13.816548Z"
    },
    "collapsed": true
   },
   "outputs": [],
   "source": [
    "import pandas as pd\n",
    "import numpy as np\n",
    "import csrar\n",
    "from sklearn.model_selection import train_test_split\n",
    "from sklearn.tree import DecisionTreeClassifier\n",
    "from sklearn.ensemble import RandomForestClassifier, ExtraTreesClassifier\n",
    "from sklearn import svm"
   ]
  },
  {
   "cell_type": "code",
   "execution_count": null,
   "metadata": {
    "ExecuteTime": {
     "end_time": "2017-07-05T20:03:21.459316Z",
     "start_time": "2017-07-05T20:03:21.451720Z"
    },
    "collapsed": true
   },
   "outputs": [],
   "source": [
    "# Redirect output for long sessions\n",
    "import sys\n",
    "sys.stderr=open(\"err.txt\",\"w\")\n",
    "sys.stdout=open(\"logs.txt\", \"w\")"
   ]
  },
  {
   "cell_type": "code",
   "execution_count": null,
   "metadata": {
    "ExecuteTime": {
     "end_time": "2017-07-06T09:23:23.681227Z",
     "start_time": "2017-07-06T09:23:23.673116Z"
    },
    "collapsed": true
   },
   "outputs": [],
   "source": [
    "data = pd.read_csv('../data/page-blocks0.csv')"
   ]
  },
  {
   "cell_type": "code",
   "execution_count": null,
   "metadata": {
    "ExecuteTime": {
     "end_time": "2017-07-08T19:49:54.803520Z",
     "start_time": "2017-07-08T19:49:54.309322Z"
    },
    "collapsed": true
   },
   "outputs": [],
   "source": [
    "data = pd.read_csv('../data/isolet.csv', header=None)"
   ]
  },
  {
   "cell_type": "code",
   "execution_count": null,
   "metadata": {
    "ExecuteTime": {
     "end_time": "2017-07-08T15:43:19.649813Z",
     "start_time": "2017-07-08T15:43:19.641694Z"
    },
    "collapsed": true
   },
   "outputs": [],
   "source": [
    "np.unique(data[617], return_counts=True)"
   ]
  },
  {
   "cell_type": "code",
   "execution_count": null,
   "metadata": {
    "ExecuteTime": {
     "end_time": "2017-07-06T09:05:03.169591Z",
     "start_time": "2017-07-06T09:05:03.140616Z"
    },
    "collapsed": true
   },
   "outputs": [],
   "source": [
    "data"
   ]
  },
  {
   "cell_type": "code",
   "execution_count": null,
   "metadata": {
    "ExecuteTime": {
     "end_time": "2017-07-05T15:39:13.456629Z",
     "start_time": "2017-07-05T15:39:13.319665Z"
    },
    "collapsed": true
   },
   "outputs": [],
   "source": [
    "# For rootkit_imap...\n",
    "for cat_col in ['Atr-1', 'Atr-2', 'Atr-3']:\n",
    "    data[cat_col] = pd.Categorical(data[cat_col])\n",
    "    data[cat_col] = data[cat_col].cat.codes"
   ]
  },
  {
   "cell_type": "code",
   "execution_count": null,
   "metadata": {
    "ExecuteTime": {
     "end_time": "2017-07-06T09:23:25.551107Z",
     "start_time": "2017-07-06T09:23:25.541996Z"
    },
    "collapsed": true
   },
   "outputs": [],
   "source": [
    "# For page-block0.csv, convert 'positive'/'negative' to 0 and 1\n",
    "data['Class'] = pd.Categorical(data['Class'])\n",
    "data['Class'] = data['Class'].cat.codes"
   ]
  },
  {
   "cell_type": "code",
   "execution_count": null,
   "metadata": {
    "ExecuteTime": {
     "end_time": "2017-07-05T15:15:16.123116Z",
     "start_time": "2017-07-05T15:15:16.112576Z"
    },
    "collapsed": true
   },
   "outputs": [],
   "source": [
    "data.dtypes"
   ]
  },
  {
   "cell_type": "code",
   "execution_count": null,
   "metadata": {
    "ExecuteTime": {
     "end_time": "2017-07-08T15:18:15.584146Z",
     "start_time": "2017-07-08T15:18:15.568192Z"
    },
    "collapsed": true
   },
   "outputs": [],
   "source": [
    "uniques = np.unique(data[617], return_counts=True)\n",
    "perc = list(map(lambda c: c/len(data), uniques[1]))\n",
    "perc"
   ]
  },
  {
   "cell_type": "code",
   "execution_count": 2,
   "metadata": {
    "ExecuteTime": {
     "end_time": "2017-07-10T20:53:22.906332Z",
     "start_time": "2017-07-10T20:53:18.196264Z"
    },
    "collapsed": true
   },
   "outputs": [],
   "source": [
    "import arff\n",
    "file = open('../data/test6.arff', 'r')\n",
    "dataset = arff.load(file)\n",
    "data = pd.DataFrame(dataset['data'])"
   ]
  },
  {
   "cell_type": "code",
   "execution_count": null,
   "metadata": {
    "ExecuteTime": {
     "end_time": "2017-07-10T15:08:16.935601Z",
     "start_time": "2017-07-10T15:08:16.907376Z"
    },
    "collapsed": true
   },
   "outputs": [],
   "source": [
    "np.unique(data[75], return_counts=True)"
   ]
  },
  {
   "cell_type": "code",
   "execution_count": null,
   "metadata": {
    "ExecuteTime": {
     "end_time": "2017-07-10T15:04:57.401566Z",
     "start_time": "2017-07-10T15:04:57.338473Z"
    },
    "collapsed": true
   },
   "outputs": [],
   "source": [
    "data[150] = data[150].astype(np.float32)"
   ]
  },
  {
   "cell_type": "code",
   "execution_count": null,
   "metadata": {
    "ExecuteTime": {
     "end_time": "2017-07-10T13:41:18.326797Z",
     "start_time": "2017-07-10T13:41:18.272297Z"
    },
    "collapsed": true
   },
   "outputs": [],
   "source": [
    "data[np.arange(10)].min().min()"
   ]
  },
  {
   "cell_type": "code",
   "execution_count": null,
   "metadata": {
    "collapsed": true
   },
   "outputs": [],
   "source": []
  },
  {
   "cell_type": "code",
   "execution_count": null,
   "metadata": {
    "collapsed": true
   },
   "outputs": [],
   "source": []
  },
  {
   "cell_type": "code",
   "execution_count": null,
   "metadata": {
    "collapsed": true
   },
   "outputs": [],
   "source": []
  },
  {
   "cell_type": "code",
   "execution_count": null,
   "metadata": {
    "collapsed": true
   },
   "outputs": [],
   "source": []
  },
  {
   "cell_type": "code",
   "execution_count": null,
   "metadata": {
    "collapsed": true
   },
   "outputs": [],
   "source": []
  },
  {
   "cell_type": "markdown",
   "metadata": {},
   "source": [
    "#### About test2.arff:\n",
    "useful=Vector(0, 1)  \n",
    "dependent=Vector(5, 6, 7, 8, 9)  \n",
    "duplicated=Vector((0,12), (4,10), (6,11))  \n",
    "nominal=List()  \n",
    "clusters=[(0, 1, 2), (3, 4)]  \n",
    "distribution=List(24860, 25140)  \n",
    "seed=0\n",
    "#### About test3.arff\n",
    "useful=Vector(0, 1)  \n",
    "dependent=Vector(5, 6, 7, 8, 9)  \n",
    "duplicated=Vector((0,12), (4,10), (6,11))  \n",
    "nominal=List()  \n",
    "clusters=[(0, 1, 2), (3, 4)]  \n",
    "distribution=List(249786, 250214)  \n",
    "#### About test4.arff\n",
    "useful=Vector(0, 1, 2, 3, 4, 5, 6, 7, 8, 9, 10, 11, 12, 13, 14, 15, 16, 17, 18, 19, 20, 21, 22, 23, 24, 25, 26, 27, 28, 29)  \n",
    "dependent=Vector(100, 101, 102, 103, 104, 105, 106, 107, 108, 109, 110, 111, 112, 113, 114, 115, 116, 117, 118, 119, 120, 121, 122, 123, 124, 125, 126, 127, 128, 129, 130, 131, 132, 133, 134, 135, 136, 137, 138, 139, 140, 141, 142, 143, 144, 145, 146, 147, 148, 149)  \n",
    "duplicated=Vector((7,168), (10,157), (24,159), (28,162), (30,166), (50,169), (61,154), (82,158), (99,167), (104,156), (107,151), (113,164), (117,155), (117,165), (124,150), (135,160), (139,152), (145,161), (146,153), (147,163))  \n",
    "nominal=List()  \n",
    "clusters=[(0, 1, 2, 3, 4, 5, 6, 7, 8, 9), (10, 11, 12, 13, 14), (15, 16, 17)]  \n",
    "distribution=List(250085, 249915)  \n",
    "#### About test5.arff\n",
    "useful=Vector(0, 1, 2, 3, 4, 5, 6, 7, 8, 9)  \n",
    "dependent=Vector(80, 81, 82, 83, 84, 85, 86, 87, 88, 89, 90, 91, 92, 93, 94, 95, 96, 97, 98, 99, 100, 101, 102, 103, 104, 105, 106, 107, 108, 109)  \n",
    "duplicated=Vector((4,118), (8,114), (8,146), (9,137), (9,144), (10,131), (17,123), (22,116), (24,120), (24,142), (25,125), (35,127), (42,119), (43,122), (45,111), (48,134), (50,132), (52,110), (54,138), (57,112), (57,115), (57,149), (62,141), (64,136), (70,117), (70,148), (73,126), (76,133), (77,140), (78,143), (83,113), (84,139), (91,145), (92,121), (93,128), (93,135), (95,124), (103,129), (104,130), (105,147))  \n",
    "nominal=List()  \n",
    "clusters=[(0, 1, 2), (3, 4), (5, 6, 7, 8, 9, 10, 11, 12, 13, 14)]  \n",
    "distribution=List(99718, 100282)  \n"
   ]
  },
  {
   "cell_type": "markdown",
   "metadata": {},
   "source": [
    "### Train/Test Split"
   ]
  },
  {
   "cell_type": "code",
   "execution_count": 27,
   "metadata": {
    "ExecuteTime": {
     "end_time": "2017-07-10T20:53:48.934232Z",
     "start_time": "2017-07-10T20:53:48.864107Z"
    },
    "collapsed": true
   },
   "outputs": [],
   "source": [
    "classes = dict(list(data.groupby(data[75]))).values()\n",
    "random_dist = np.random.rand(len(classes))\n",
    "samples = []\n",
    "for percentage, values in zip(random_dist, classes):\n",
    "    samples.append(values.sample(frac=percentage))\n",
    "imb_data = pd.concat(samples).reset_index(drop=True)"
   ]
  },
  {
   "cell_type": "code",
   "execution_count": 28,
   "metadata": {
    "ExecuteTime": {
     "end_time": "2017-07-10T20:53:50.206499Z",
     "start_time": "2017-07-10T20:53:50.189897Z"
    }
   },
   "outputs": [
    {
     "data": {
      "text/plain": [
       "[0.41372801028195033,\n",
       " 0.24965860711703752,\n",
       " 0.044059763836452728,\n",
       " 0.29255361876455938]"
      ]
     },
     "execution_count": 28,
     "metadata": {},
     "output_type": "execute_result"
    }
   ],
   "source": [
    "uniques = np.unique(imb_data[75], return_counts=True)\n",
    "perc = list(map(lambda c: c/len(imb_data), uniques[1]))\n",
    "perc"
   ]
  },
  {
   "cell_type": "code",
   "execution_count": 29,
   "metadata": {
    "ExecuteTime": {
     "end_time": "2017-07-10T20:53:50.866117Z",
     "start_time": "2017-07-10T20:53:50.856895Z"
    }
   },
   "outputs": [
    {
     "data": {
      "text/plain": [
       "9.3901549680948033"
      ]
     },
     "execution_count": 29,
     "metadata": {},
     "output_type": "execute_result"
    }
   ],
   "source": [
    "# biggest difference between classes\n",
    "max(perc) / min(perc)"
   ]
  },
  {
   "cell_type": "code",
   "execution_count": null,
   "metadata": {
    "ExecuteTime": {
     "end_time": "2017-07-10T19:53:08.808507Z",
     "start_time": "2017-07-10T19:53:08.794428Z"
    }
   },
   "outputs": [],
   "source": [
    "np.unique(imb_data[75], return_counts=True)"
   ]
  },
  {
   "cell_type": "code",
   "execution_count": 30,
   "metadata": {
    "ExecuteTime": {
     "end_time": "2017-07-10T20:53:54.440939Z",
     "start_time": "2017-07-10T20:53:54.438103Z"
    },
    "collapsed": true
   },
   "outputs": [],
   "source": [
    "data = imb_data"
   ]
  },
  {
   "cell_type": "code",
   "execution_count": null,
   "metadata": {
    "collapsed": true
   },
   "outputs": [],
   "source": []
  },
  {
   "cell_type": "code",
   "execution_count": null,
   "metadata": {
    "ExecuteTime": {
     "end_time": "2017-07-05T21:18:05.519467Z",
     "start_time": "2017-07-05T21:18:05.340052Z"
    },
    "collapsed": true
   },
   "outputs": [],
   "source": [
    "# Artificially imbalance dataset\n",
    "class0 = data.loc[data[150] == 0]\n",
    "class1 = data.loc[data[150] == 1]\n",
    "imb_data = pd.concat([class1.sample(frac=0.1), class0]).reset_index(drop=True)\n",
    "# For perfectly balanced dataset, this will result in a 97.56:2.44 ratio"
   ]
  },
  {
   "cell_type": "code",
   "execution_count": 31,
   "metadata": {
    "ExecuteTime": {
     "end_time": "2017-07-10T20:53:56.470582Z",
     "start_time": "2017-07-10T20:53:56.445511Z"
    },
    "collapsed": true
   },
   "outputs": [],
   "source": [
    "target = 75\n",
    "X = data.drop(target, axis=1)\n",
    "y = data[target]\n",
    "X_train, X_test, y_train, y_test = train_test_split(X, y, test_size=0.2)"
   ]
  },
  {
   "cell_type": "code",
   "execution_count": null,
   "metadata": {
    "ExecuteTime": {
     "end_time": "2017-07-10T15:25:34.324984Z",
     "start_time": "2017-07-10T15:25:34.316815Z"
    },
    "collapsed": true
   },
   "outputs": [],
   "source": []
  },
  {
   "cell_type": "code",
   "execution_count": null,
   "metadata": {
    "ExecuteTime": {
     "end_time": "2017-07-05T21:33:40.448649Z",
     "start_time": "2017-07-05T21:33:40.440757Z"
    },
    "collapsed": true
   },
   "outputs": [],
   "source": [
    "X_train.columns.dtype"
   ]
  },
  {
   "cell_type": "markdown",
   "metadata": {},
   "source": [
    "## RaR"
   ]
  },
  {
   "cell_type": "code",
   "execution_count": 35,
   "metadata": {
    "ExecuteTime": {
     "end_time": "2017-07-10T21:39:14.939559Z",
     "start_time": "2017-07-10T21:33:42.063075Z"
    },
    "collapsed": true
   },
   "outputs": [
    {
     "name": "stdout",
     "output_type": "stream",
     "text": [
      "Relevance: 100.00%    \n",
      "Running optimizer...\n",
      "Optimizer done.\n",
      "Redundancy: 100.00%    \n",
      "1. 2 with a score of 0.9989621733547432\n",
      "2. 6 with a score of 0.9860573980739726\n",
      "3. 13 with a score of 0.339120917644398\n",
      "4. 71 with a score of 0.3271535757897713\n",
      "5. 46 with a score of 0.28404230008393244\n",
      "6. 3 with a score of 0.2798323262206518\n",
      "7. 63 with a score of 0.22973490584736136\n",
      "8. 58 with a score of 0.2262396247363757\n",
      "9. 34 with a score of 0.21291637972649752\n",
      "10. 9 with a score of 0.1778523996134886\n",
      "11. 61 with a score of 0.16733054503830774\n",
      "12. 55 with a score of 0.15992838804597598\n",
      "13. 29 with a score of 0.15514068553176863\n",
      "14. 62 with a score of 0.15513329494734127\n",
      "15. 4 with a score of 0.15210405595438878\n",
      "16. 50 with a score of 0.13343177620005636\n",
      "17. 32 with a score of 0.12734790882784258\n",
      "18. 53 with a score of 0.1273464395298875\n",
      "19. 5 with a score of 0.11986822280777307\n",
      "20. 72 with a score of 0.11709421080154472\n",
      "21. 7 with a score of 0.11630923227190805\n",
      "22. 42 with a score of 0.11430814143643463\n",
      "23. 64 with a score of 0.11193424743417492\n",
      "24. 12 with a score of 0.10809757061487119\n",
      "25. 66 with a score of 0.10809278992003385\n",
      "26. 19 with a score of 0.10778499809717584\n",
      "27. 70 with a score of 0.10662103759924427\n",
      "28. 56 with a score of 0.1061083470034249\n",
      "29. 49 with a score of 0.10562218842912936\n",
      "30. 0 with a score of 0.09970362989364143\n",
      "31. 36 with a score of 0.09157550031806089\n",
      "32. 27 with a score of 0.07533791012074974\n",
      "33. 23 with a score of 0.046383582164796835\n",
      "34. 16 with a score of 0.031801900779435295\n",
      "35. 57 with a score of 0.031453140221144184\n",
      "36. 22 with a score of 0.02962901989546245\n",
      "37. 24 with a score of 0.027908399392198312\n",
      "38. 18 with a score of 0.02790839496638706\n",
      "39. 73 with a score of 0.02591149328448127\n",
      "40. 44 with a score of 0.02283563815987198\n",
      "41. 67 with a score of 0.012820930050843534\n",
      "42. 26 with a score of 0.010206467687121\n",
      "43. 31 with a score of 0.01019575497158962\n",
      "44. 60 with a score of 0.008121181655246414\n",
      "45. 35 with a score of 0.007682183116000881\n",
      "46. 33 with a score of 0.007681251263995414\n",
      "47. 14 with a score of 0.007252257587310574\n",
      "48. 10 with a score of 0.006554914321904304\n",
      "49. 51 with a score of 0.004111562428698814\n",
      "50. 11 with a score of 0.0035193188463476695\n",
      "51. 54 with a score of 1.015841010604398e-05\n",
      "52. 69 with a score of 4.0451419434212165e-10\n",
      "53. 48 with a score of 4.0443179562217667e-10\n",
      "54. 39 with a score of 4.0401895896333883e-10\n",
      "55. 68 with a score of 3.9672443463645976e-10\n",
      "56. 37 with a score of 3.9029077240547025e-10\n",
      "57. 15 with a score of 3.901444975039285e-10\n",
      "58. 74 with a score of 3.815806722582545e-10\n",
      "59. 21 with a score of 3.7764822915260295e-10\n",
      "60. 17 with a score of 3.709697340948028e-10\n",
      "61. 65 with a score of 3.7085756338163024e-10\n",
      "62. 45 with a score of 3.708037543913694e-10\n",
      "63. 20 with a score of 3.707773435024112e-10\n",
      "64. 8 with a score of 3.707758277140971e-10\n",
      "65. 52 with a score of 3.7077322662124386e-10\n",
      "66. 25 with a score of 3.707628912908681e-10\n",
      "67. 28 with a score of 3.707526127622269e-10\n",
      "68. 43 with a score of 3.7072890542823973e-10\n",
      "69. 38 with a score of 3.707255210525461e-10\n",
      "70. 59 with a score of 3.707172281137599e-10\n",
      "71. 41 with a score of 3.707141251589697e-10\n",
      "72. 1 with a score of 3.707038808016986e-10\n",
      "73. 40 with a score of 3.707038808016841e-10\n",
      "74. 47 with a score of 3.7070388080165334e-10\n",
      "75. 30 with a score of 3.7070388080144753e-10\n",
      "                   pre       rec       spe        f1       geo       iba       sup\n",
      "\n",
      "        0.0       0.50      0.57      0.63      0.53      0.59      0.34      1961\n",
      "        1.0       0.29      0.27      0.76      0.28      0.46      0.21      1297\n",
      "        2.0       0.06      0.05      0.97      0.06      0.25      0.05       219\n",
      "        3.0       0.49      0.44      0.80      0.46      0.61      0.36      1503\n",
      "\n",
      "avg / total       0.42      0.43      0.73      0.43      0.55      0.30      4980\n",
      "\n",
      "                   pre       rec       spe        f1       geo       iba       sup\n",
      "\n",
      "        0.0       0.62      0.74      0.71      0.68      0.71      0.49      1961\n",
      "        1.0       0.35      0.28      0.82      0.31      0.52      0.26      1297\n",
      "        2.0       0.09      0.04      0.98      0.06      0.30      0.08       219\n",
      "        3.0       0.71      0.71      0.87      0.71      0.79      0.61      1503\n",
      "\n",
      "avg / total       0.56      0.58      0.80      0.57      0.67      0.45      4980\n",
      "\n",
      "                   pre       rec       spe        f1       geo       iba       sup\n",
      "\n",
      "        0.0       0.65      0.79      0.72      0.71      0.74      0.53      1961\n",
      "        1.0       0.39      0.29      0.84      0.34      0.55      0.29      1297\n",
      "        2.0       0.10      0.03      0.99      0.04      0.31      0.09       219\n",
      "        3.0       0.72      0.73      0.87      0.72      0.79      0.62      1503\n",
      "\n",
      "avg / total       0.58      0.61      0.81      0.59      0.69      0.48      4980\n",
      "\n",
      "                   pre       rec       spe        f1       geo       iba       sup\n",
      "\n",
      "        0.0       0.66      0.79      0.73      0.72      0.74      0.54      1961\n",
      "        1.0       0.41      0.32      0.84      0.36      0.57      0.31      1297\n",
      "        2.0       0.05      0.01      0.99      0.02      0.21      0.04       219\n",
      "        3.0       0.75      0.78      0.89      0.76      0.82      0.66      1503\n",
      "\n",
      "avg / total       0.59      0.63      0.82      0.61      0.70      0.50      4980\n",
      "\n",
      "                   pre       rec       spe        f1       geo       iba       sup\n",
      "\n",
      "        0.0       0.67      0.82      0.74      0.74      0.76      0.57      1961\n",
      "        1.0       0.41      0.32      0.84      0.36      0.57      0.31      1297\n",
      "        2.0       0.05      0.01      0.99      0.02      0.22      0.05       219\n",
      "        3.0       0.77      0.80      0.90      0.79      0.84      0.70      1503\n",
      "\n",
      "avg / total       0.61      0.65      0.82      0.62      0.71      0.52      4980\n",
      "\n",
      "                   pre       rec       spe        f1       geo       iba       sup\n",
      "\n",
      "        0.0       0.69      0.84      0.75      0.76      0.78      0.59      1961\n",
      "        1.0       0.46      0.35      0.85      0.40      0.60      0.35      1297\n",
      "        2.0       0.21      0.03      1.00      0.05      0.44      0.18       219\n",
      "        3.0       0.80      0.82      0.91      0.81      0.86      0.73      1503\n",
      "\n",
      "avg / total       0.64      0.67      0.84      0.65      0.74      0.55      4980\n",
      "\n",
      "                   pre       rec       spe        f1       geo       iba       sup\n",
      "\n",
      "        0.0       0.69      0.85      0.75      0.76      0.78      0.60      1961\n",
      "        1.0       0.46      0.35      0.86      0.40      0.60      0.35      1297\n",
      "        2.0       0.22      0.03      1.00      0.05      0.46      0.20       219\n",
      "        3.0       0.81      0.83      0.91      0.82      0.86      0.74      1503\n",
      "\n",
      "avg / total       0.65      0.68      0.84      0.65      0.75      0.56      4980\n",
      "\n",
      "                   pre       rec       spe        f1       geo       iba       sup\n",
      "\n",
      "        0.0       0.69      0.85      0.76      0.76      0.78      0.60      1961\n",
      "        1.0       0.47      0.37      0.86      0.41      0.61      0.36      1297\n",
      "        2.0       0.17      0.02      1.00      0.03      0.41      0.15       219\n",
      "        3.0       0.81      0.84      0.92      0.83      0.87      0.75      1503\n",
      "\n",
      "avg / total       0.65      0.68      0.84      0.66      0.75      0.56      4980\n",
      "\n",
      "                   pre       rec       spe        f1       geo       iba       sup\n",
      "\n",
      "        0.0       0.70      0.85      0.76      0.76      0.78      0.60      1961\n",
      "        1.0       0.47      0.37      0.85      0.42      0.61      0.36      1297\n",
      "        2.0       0.04      0.00      0.99      0.01      0.19      0.03       219\n",
      "        3.0       0.82      0.84      0.92      0.83      0.87      0.75      1503\n",
      "\n",
      "avg / total       0.64      0.68      0.84      0.66      0.74      0.56      4980\n",
      "\n",
      "                   pre       rec       spe        f1       geo       iba       sup\n",
      "\n",
      "        0.0       0.70      0.85      0.76      0.77      0.79      0.61      1961\n",
      "        1.0       0.48      0.36      0.86      0.41      0.61      0.36      1297\n",
      "        2.0       0.00      0.00      1.00      0.00      0.00      0.00       219\n",
      "        3.0       0.82      0.86      0.92      0.84      0.88      0.77      1503\n",
      "\n",
      "avg / total       0.65      0.69      0.84      0.66      0.73      0.56      4980\n",
      "\n"
     ]
    },
    {
     "name": "stdout",
     "output_type": "stream",
     "text": [
      "                   pre       rec       spe        f1       geo       iba       sup\n",
      "\n",
      "        0.0       0.69      0.87      0.75      0.77      0.79      0.61      1961\n",
      "        1.0       0.49      0.36      0.87      0.41      0.62      0.37      1297\n",
      "        2.0       0.13      0.02      0.99      0.03      0.36      0.12       219\n",
      "        3.0       0.83      0.85      0.92      0.84      0.88      0.77      1503\n",
      "\n",
      "avg / total       0.66      0.69      0.84      0.66      0.75      0.57      4980\n",
      "\n",
      "                   pre       rec       spe        f1       geo       iba       sup\n",
      "\n",
      "        0.0       0.69      0.86      0.75      0.76      0.78      0.60      1961\n",
      "        1.0       0.47      0.34      0.87      0.40      0.61      0.36      1297\n",
      "        2.0       0.06      0.00      1.00      0.01      0.24      0.05       219\n",
      "        3.0       0.82      0.86      0.92      0.84      0.88      0.76      1503\n",
      "\n",
      "avg / total       0.64      0.69      0.84      0.66      0.74      0.56      4980\n",
      "\n",
      "                   pre       rec       spe        f1       geo       iba       sup\n",
      "\n",
      "        0.0       0.69      0.87      0.75      0.77      0.79      0.61      1961\n",
      "        1.0       0.50      0.37      0.87      0.42      0.63      0.39      1297\n",
      "        2.0       0.06      0.00      1.00      0.01      0.24      0.05       219\n",
      "        3.0       0.82      0.84      0.92      0.83      0.87      0.75      1503\n",
      "\n",
      "avg / total       0.65      0.69      0.84      0.66      0.75      0.57      4980\n",
      "\n",
      "                   pre       rec       spe        f1       geo       iba       sup\n",
      "\n",
      "        0.0       0.68      0.85      0.74      0.75      0.77      0.59      1961\n",
      "        1.0       0.44      0.32      0.86      0.37      0.59      0.33      1297\n",
      "        2.0       0.11      0.01      1.00      0.02      0.33      0.10       219\n",
      "        3.0       0.81      0.84      0.91      0.83      0.87      0.74      1503\n",
      "\n",
      "avg / total       0.63      0.67      0.83      0.64      0.73      0.55      4980\n",
      "\n",
      "                   pre       rec       spe        f1       geo       iba       sup\n",
      "\n",
      "        0.0       0.67      0.86      0.72      0.75      0.77      0.58      1961\n",
      "        1.0       0.47      0.32      0.87      0.38      0.60      0.35      1297\n",
      "        2.0       0.06      0.00      1.00      0.01      0.24      0.05       219\n",
      "        3.0       0.81      0.83      0.92      0.82      0.87      0.74      1503\n",
      "\n",
      "avg / total       0.63      0.68      0.83      0.64      0.73      0.55      4980\n",
      "\n",
      "                   pre       rec       spe        f1       geo       iba       sup\n",
      "\n",
      "        0.0       0.68      0.86      0.74      0.76      0.78      0.59      1961\n",
      "        1.0       0.47      0.35      0.86      0.40      0.61      0.36      1297\n",
      "        2.0       0.24      0.02      1.00      0.04      0.48      0.21       219\n",
      "        3.0       0.83      0.85      0.93      0.84      0.88      0.77      1503\n",
      "\n",
      "avg / total       0.65      0.69      0.84      0.66      0.75      0.57      4980\n",
      "\n",
      "                   pre       rec       spe        f1       geo       iba       sup\n",
      "\n",
      "        0.0       0.68      0.88      0.73      0.77      0.78      0.60      1961\n",
      "        1.0       0.47      0.32      0.87      0.38      0.60      0.35      1297\n",
      "        2.0       0.26      0.02      1.00      0.04      0.50      0.23       219\n",
      "        3.0       0.81      0.84      0.91      0.82      0.87      0.74      1503\n",
      "\n",
      "avg / total       0.65      0.68      0.84      0.65      0.75      0.56      4980\n",
      "\n",
      "                   pre       rec       spe        f1       geo       iba       sup\n",
      "\n",
      "        0.0       0.69      0.88      0.74      0.77      0.79      0.61      1961\n",
      "        1.0       0.49      0.34      0.88      0.40      0.62      0.37      1297\n",
      "        2.0       0.00      0.00      1.00      0.00      0.00      0.00       219\n",
      "        3.0       0.82      0.86      0.92      0.84      0.88      0.76      1503\n",
      "\n",
      "avg / total       0.65      0.69      0.84      0.66      0.74      0.57      4980\n",
      "\n",
      "                   pre       rec       spe        f1       geo       iba       sup\n",
      "\n",
      "        0.0       0.68      0.87      0.74      0.77      0.78      0.60      1961\n",
      "        1.0       0.49      0.34      0.87      0.40      0.62      0.37      1297\n",
      "        2.0       0.08      0.00      1.00      0.01      0.28      0.07       219\n",
      "        3.0       0.82      0.86      0.92      0.84      0.88      0.76      1503\n",
      "\n",
      "avg / total       0.65      0.69      0.84      0.66      0.75      0.57      4980\n",
      "\n",
      "                   pre       rec       spe        f1       geo       iba       sup\n",
      "\n",
      "        0.0       0.68      0.87      0.73      0.76      0.78      0.60      1961\n",
      "        1.0       0.48      0.33      0.88      0.39      0.62      0.37      1297\n",
      "        2.0       0.09      0.01      1.00      0.02      0.29      0.08       219\n",
      "        3.0       0.83      0.86      0.92      0.84      0.88      0.77      1503\n",
      "\n",
      "avg / total       0.65      0.69      0.84      0.66      0.75      0.57      4980\n",
      "\n",
      "                   pre       rec       spe        f1       geo       iba       sup\n",
      "\n",
      "        0.0       0.70      0.90      0.75      0.79      0.81      0.64      1961\n",
      "        1.0       0.55      0.37      0.89      0.44      0.66      0.43      1297\n",
      "        2.0       0.19      0.01      1.00      0.03      0.42      0.17       219\n",
      "        3.0       0.85      0.88      0.93      0.87      0.90      0.79      1503\n",
      "\n",
      "avg / total       0.68      0.72      0.85      0.69      0.78      0.61      4980\n",
      "\n",
      "                   pre       rec       spe        f1       geo       iba       sup\n",
      "\n",
      "        0.0       0.69      0.90      0.74      0.78      0.80      0.62      1961\n",
      "        1.0       0.53      0.35      0.89      0.42      0.65      0.41      1297\n",
      "        2.0       0.17      0.01      1.00      0.02      0.40      0.15       219\n",
      "        3.0       0.85      0.89      0.93      0.87      0.90      0.80      1503\n",
      "\n",
      "avg / total       0.67      0.71      0.85      0.68      0.77      0.60      4980\n",
      "\n",
      "                   pre       rec       spe        f1       geo       iba       sup\n",
      "\n",
      "        0.0       0.68      0.88      0.73      0.77      0.78      0.60      1961\n",
      "        1.0       0.49      0.32      0.88      0.39      0.62      0.37      1297\n",
      "        2.0       0.12      0.01      1.00      0.02      0.35      0.11       219\n",
      "        3.0       0.84      0.87      0.93      0.85      0.89      0.78      1503\n",
      "\n",
      "avg / total       0.65      0.69      0.84      0.66      0.75      0.57      4980\n",
      "\n",
      "                   pre       rec       spe        f1       geo       iba       sup\n",
      "\n",
      "        0.0       0.69      0.89      0.74      0.77      0.79      0.61      1961\n",
      "        1.0       0.52      0.35      0.89      0.42      0.64      0.40      1297\n",
      "        2.0       0.18      0.01      1.00      0.03      0.41      0.16       219\n",
      "        3.0       0.85      0.88      0.93      0.87      0.90      0.80      1503\n",
      "\n",
      "avg / total       0.67      0.71      0.85      0.68      0.77      0.59      4980\n",
      "\n",
      "                   pre       rec       spe        f1       geo       iba       sup\n",
      "\n",
      "        0.0       0.70      0.88      0.75      0.78      0.80      0.62      1961\n",
      "        1.0       0.53      0.37      0.88      0.44      0.65      0.42      1297\n",
      "        2.0       0.11      0.01      1.00      0.02      0.32      0.09       219\n",
      "        3.0       0.85      0.90      0.93      0.88      0.90      0.81      1503\n",
      "\n",
      "avg / total       0.68      0.72      0.85      0.69      0.77      0.60      4980\n",
      "\n",
      "                   pre       rec       spe        f1       geo       iba       sup\n",
      "\n",
      "        0.0       0.69      0.89      0.74      0.78      0.80      0.62      1961\n",
      "        1.0       0.54      0.37      0.89      0.44      0.66      0.42      1297\n",
      "        2.0       0.09      0.00      1.00      0.01      0.29      0.08       219\n",
      "        3.0       0.85      0.88      0.93      0.86      0.90      0.80      1503\n",
      "\n",
      "avg / total       0.67      0.71      0.85      0.68      0.77      0.60      4980\n",
      "\n",
      "                   pre       rec       spe        f1       geo       iba       sup\n",
      "\n",
      "        0.0       0.69      0.90      0.74      0.78      0.80      0.62      1961\n",
      "        1.0       0.54      0.35      0.90      0.42      0.65      0.42      1297\n",
      "        2.0       0.19      0.01      1.00      0.03      0.42      0.17       219\n",
      "        3.0       0.84      0.88      0.93      0.86      0.89      0.79      1503\n",
      "\n",
      "avg / total       0.67      0.71      0.85      0.68      0.77      0.60      4980\n",
      "\n"
     ]
    },
    {
     "name": "stdout",
     "output_type": "stream",
     "text": [
      "                   pre       rec       spe        f1       geo       iba       sup\n",
      "\n",
      "        0.0       0.70      0.89      0.75      0.78      0.80      0.62      1961\n",
      "        1.0       0.53      0.36      0.89      0.43      0.65      0.42      1297\n",
      "        2.0       0.13      0.01      1.00      0.02      0.35      0.11       219\n",
      "        3.0       0.85      0.88      0.93      0.86      0.90      0.79      1503\n",
      "\n",
      "avg / total       0.67      0.71      0.85      0.68      0.77      0.60      4980\n",
      "\n",
      "                   pre       rec       spe        f1       geo       iba       sup\n",
      "\n",
      "        0.0       0.69      0.90      0.73      0.78      0.80      0.62      1961\n",
      "        1.0       0.54      0.35      0.89      0.42      0.65      0.42      1297\n",
      "        2.0       0.00      0.00      1.00      0.00      0.00      0.00       219\n",
      "        3.0       0.85      0.88      0.93      0.87      0.90      0.80      1503\n",
      "\n",
      "avg / total       0.67      0.71      0.85      0.68      0.75      0.59      4980\n",
      "\n",
      "                   pre       rec       spe        f1       geo       iba       sup\n",
      "\n",
      "        0.0       0.70      0.91      0.74      0.79      0.81      0.63      1961\n",
      "        1.0       0.59      0.38      0.91      0.46      0.69      0.46      1297\n",
      "        2.0       0.17      0.01      1.00      0.02      0.40      0.15       219\n",
      "        3.0       0.89      0.92      0.95      0.90      0.92      0.85      1503\n",
      "\n",
      "avg / total       0.70      0.74      0.86      0.70      0.79      0.63      4980\n",
      "\n",
      "                   pre       rec       spe        f1       geo       iba       sup\n",
      "\n",
      "        0.0       0.72      0.92      0.77      0.81      0.82      0.66      1961\n",
      "        1.0       0.60      0.40      0.91      0.48      0.70      0.48      1297\n",
      "        2.0       0.13      0.01      1.00      0.02      0.36      0.12       219\n",
      "        3.0       0.87      0.93      0.94      0.90      0.92      0.84      1503\n",
      "\n",
      "avg / total       0.71      0.75      0.87      0.71      0.80      0.64      4980\n",
      "\n",
      "                   pre       rec       spe        f1       geo       iba       sup\n",
      "\n",
      "        0.0       0.70      0.92      0.74      0.79      0.81      0.64      1961\n",
      "        1.0       0.60      0.38      0.91      0.46      0.70      0.47      1297\n",
      "        2.0       0.09      0.00      1.00      0.01      0.29      0.08       219\n",
      "        3.0       0.87      0.92      0.94      0.90      0.92      0.84      1503\n",
      "\n",
      "avg / total       0.70      0.74      0.86      0.70      0.79      0.63      4980\n",
      "\n",
      "                   pre       rec       spe        f1       geo       iba       sup\n",
      "\n",
      "        0.0       0.72      0.92      0.76      0.80      0.82      0.65      1961\n",
      "        1.0       0.61      0.41      0.91      0.50      0.71      0.49      1297\n",
      "        2.0       0.24      0.02      1.00      0.04      0.48      0.21       219\n",
      "        3.0       0.89      0.92      0.95      0.90      0.92      0.85      1503\n",
      "\n",
      "avg / total       0.72      0.75      0.87      0.72      0.81      0.65      4980\n",
      "\n",
      "                   pre       rec       spe        f1       geo       iba       sup\n",
      "\n",
      "        0.0       0.70      0.91      0.75      0.79      0.81      0.64      1961\n",
      "        1.0       0.56      0.37      0.90      0.45      0.67      0.44      1297\n",
      "        2.0       0.00      0.00      1.00      0.00      0.00      0.00       219\n",
      "        3.0       0.87      0.90      0.94      0.88      0.91      0.82      1503\n",
      "\n",
      "avg / total       0.68      0.73      0.86      0.70      0.77      0.61      4980\n",
      "\n",
      "                   pre       rec       spe        f1       geo       iba       sup\n",
      "\n",
      "        0.0       0.70      0.91      0.75      0.79      0.81      0.63      1961\n",
      "        1.0       0.58      0.37      0.91      0.46      0.69      0.46      1297\n",
      "        2.0       0.23      0.01      1.00      0.03      0.47      0.20       219\n",
      "        3.0       0.87      0.92      0.94      0.89      0.91      0.83      1503\n",
      "\n",
      "avg / total       0.70      0.73      0.86      0.70      0.79      0.63      4980\n",
      "\n",
      "                   pre       rec       spe        f1       geo       iba       sup\n",
      "\n",
      "        0.0       0.71      0.93      0.75      0.80      0.81      0.65      1961\n",
      "        1.0       0.62      0.40      0.91      0.48      0.71      0.49      1297\n",
      "        2.0       0.25      0.02      1.00      0.03      0.49      0.22       219\n",
      "        3.0       0.89      0.92      0.95      0.91      0.93      0.85      1503\n",
      "\n",
      "avg / total       0.72      0.75      0.86      0.72      0.81      0.65      4980\n",
      "\n",
      "                   pre       rec       spe        f1       geo       iba       sup\n",
      "\n",
      "        0.0       0.71      0.91      0.76      0.80      0.81      0.65      1961\n",
      "        1.0       0.61      0.41      0.91      0.49      0.71      0.49      1297\n",
      "        2.0       0.21      0.01      1.00      0.03      0.45      0.19       219\n",
      "        3.0       0.88      0.93      0.95      0.91      0.93      0.85      1503\n",
      "\n",
      "avg / total       0.72      0.75      0.87      0.72      0.80      0.65      4980\n",
      "\n",
      "                   pre       rec       spe        f1       geo       iba       sup\n",
      "\n",
      "        0.0       0.70      0.91      0.75      0.79      0.81      0.64      1961\n",
      "        1.0       0.58      0.39      0.90      0.46      0.68      0.46      1297\n",
      "        2.0       0.43      0.03      1.00      0.05      0.64      0.39       219\n",
      "        3.0       0.88      0.91      0.95      0.90      0.92      0.84      1503\n",
      "\n",
      "avg / total       0.71      0.74      0.86      0.71      0.80      0.64      4980\n",
      "\n",
      "                   pre       rec       spe        f1       geo       iba       sup\n",
      "\n",
      "        0.0       0.70      0.91      0.75      0.79      0.81      0.64      1961\n",
      "        1.0       0.58      0.37      0.91      0.45      0.68      0.46      1297\n",
      "        2.0       0.33      0.03      1.00      0.06      0.56      0.30       219\n",
      "        3.0       0.87      0.92      0.94      0.89      0.91      0.83      1503\n",
      "\n",
      "avg / total       0.70      0.73      0.86      0.70      0.80      0.63      4980\n",
      "\n",
      "                   pre       rec       spe        f1       geo       iba       sup\n",
      "\n",
      "        0.0       0.70      0.92      0.75      0.80      0.81      0.64      1961\n",
      "        1.0       0.59      0.38      0.91      0.47      0.69      0.47      1297\n",
      "        2.0       0.09      0.00      1.00      0.01      0.29      0.08       219\n",
      "        3.0       0.88      0.92      0.95      0.90      0.92      0.85      1503\n",
      "\n",
      "avg / total       0.70      0.74      0.86      0.71      0.79      0.63      4980\n",
      "\n",
      "                   pre       rec       spe        f1       geo       iba       sup\n",
      "\n",
      "        0.0       0.69      0.91      0.74      0.78      0.80      0.62      1961\n",
      "        1.0       0.59      0.36      0.91      0.44      0.69      0.46      1297\n",
      "        2.0       0.16      0.01      1.00      0.03      0.39      0.14       219\n",
      "        3.0       0.87      0.92      0.94      0.89      0.92      0.83      1503\n",
      "\n",
      "avg / total       0.69      0.73      0.85      0.70      0.79      0.62      4980\n",
      "\n",
      "                   pre       rec       spe        f1       geo       iba       sup\n",
      "\n",
      "        0.0       0.71      0.91      0.75      0.80      0.81      0.64      1961\n",
      "        1.0       0.61      0.40      0.91      0.48      0.70      0.49      1297\n",
      "        2.0       0.19      0.01      1.00      0.03      0.42      0.17       219\n",
      "        3.0       0.88      0.93      0.94      0.90      0.92      0.84      1503\n",
      "\n",
      "avg / total       0.71      0.74      0.86      0.71      0.80      0.64      4980\n",
      "\n",
      "                   pre       rec       spe        f1       geo       iba       sup\n",
      "\n",
      "        0.0       0.70      0.91      0.74      0.79      0.80      0.63      1961\n",
      "        1.0       0.57      0.36      0.90      0.44      0.68      0.45      1297\n",
      "        2.0       0.18      0.01      1.00      0.02      0.42      0.16       219\n",
      "        3.0       0.86      0.90      0.93      0.88      0.91      0.81      1503\n",
      "\n",
      "avg / total       0.69      0.72      0.85      0.69      0.78      0.62      4980\n",
      "\n",
      "                   pre       rec       spe        f1       geo       iba       sup\n",
      "\n",
      "        0.0       0.70      0.91      0.75      0.79      0.81      0.63      1961\n",
      "        1.0       0.58      0.38      0.90      0.46      0.68      0.46      1297\n",
      "        2.0       0.08      0.00      1.00      0.01      0.28      0.07       219\n",
      "        3.0       0.87      0.90      0.94      0.89      0.91      0.82      1503\n",
      "\n",
      "avg / total       0.69      0.73      0.86      0.70      0.78      0.62      4980\n",
      "\n"
     ]
    },
    {
     "name": "stdout",
     "output_type": "stream",
     "text": [
      "                   pre       rec       spe        f1       geo       iba       sup\n",
      "\n",
      "        0.0       0.68      0.90      0.73      0.78      0.79      0.62      1961\n",
      "        1.0       0.57      0.36      0.91      0.44      0.68      0.45      1297\n",
      "        2.0       0.23      0.01      1.00      0.03      0.47      0.20       219\n",
      "        3.0       0.87      0.91      0.94      0.89      0.92      0.83      1503\n",
      "\n",
      "avg / total       0.69      0.73      0.85      0.69      0.79      0.62      4980\n",
      "\n",
      "                   pre       rec       spe        f1       geo       iba       sup\n",
      "\n",
      "        0.0       0.70      0.90      0.74      0.79      0.80      0.63      1961\n",
      "        1.0       0.57      0.38      0.90      0.45      0.67      0.44      1297\n",
      "        2.0       0.24      0.02      1.00      0.04      0.48      0.21       219\n",
      "        3.0       0.87      0.90      0.94      0.89      0.91      0.83      1503\n",
      "\n",
      "avg / total       0.70      0.73      0.85      0.70      0.79      0.62      4980\n",
      "\n",
      "                   pre       rec       spe        f1       geo       iba       sup\n",
      "\n",
      "        0.0       0.69      0.91      0.73      0.78      0.80      0.62      1961\n",
      "        1.0       0.55      0.33      0.91      0.41      0.66      0.43      1297\n",
      "        2.0       0.00      0.00      1.00      0.00      0.00      0.00       219\n",
      "        3.0       0.86      0.91      0.93      0.88      0.91      0.81      1503\n",
      "\n",
      "avg / total       0.67      0.72      0.85      0.68      0.76      0.60      4980\n",
      "\n",
      "                   pre       rec       spe        f1       geo       iba       sup\n",
      "\n",
      "        0.0       0.69      0.92      0.73      0.79      0.80      0.63      1961\n",
      "        1.0       0.56      0.34      0.90      0.42      0.67      0.43      1297\n",
      "        2.0       0.22      0.01      1.00      0.02      0.46      0.20       219\n",
      "        3.0       0.88      0.91      0.94      0.89      0.92      0.83      1503\n",
      "\n",
      "avg / total       0.69      0.73      0.85      0.69      0.79      0.62      4980\n",
      "\n",
      "                   pre       rec       spe        f1       geo       iba       sup\n",
      "\n",
      "        0.0       0.69      0.91      0.73      0.78      0.80      0.62      1961\n",
      "        1.0       0.58      0.35      0.91      0.44      0.68      0.45      1297\n",
      "        2.0       0.07      0.00      1.00      0.01      0.26      0.06       219\n",
      "        3.0       0.87      0.91      0.94      0.89      0.91      0.83      1503\n",
      "\n",
      "avg / total       0.69      0.73      0.85      0.69      0.78      0.61      4980\n",
      "\n",
      "                   pre       rec       spe        f1       geo       iba       sup\n",
      "\n",
      "        0.0       0.70      0.91      0.75      0.79      0.80      0.63      1961\n",
      "        1.0       0.57      0.38      0.90      0.45      0.68      0.45      1297\n",
      "        2.0       0.11      0.00      1.00      0.01      0.33      0.10       219\n",
      "        3.0       0.88      0.92      0.94      0.90      0.92      0.84      1503\n",
      "\n",
      "avg / total       0.69      0.73      0.86      0.70      0.79      0.62      4980\n",
      "\n",
      "                   pre       rec       spe        f1       geo       iba       sup\n",
      "\n",
      "        0.0       0.70      0.93      0.74      0.80      0.81      0.64      1961\n",
      "        1.0       0.60      0.36      0.92      0.45      0.70      0.48      1297\n",
      "        2.0       0.20      0.01      1.00      0.03      0.44      0.18       219\n",
      "        3.0       0.86      0.91      0.94      0.88      0.91      0.82      1503\n",
      "\n",
      "avg / total       0.70      0.73      0.86      0.70      0.79      0.63      4980\n",
      "\n",
      "                   pre       rec       spe        f1       geo       iba       sup\n",
      "\n",
      "        0.0       0.69      0.91      0.73      0.78      0.80      0.62      1961\n",
      "        1.0       0.57      0.36      0.91      0.44      0.68      0.45      1297\n",
      "        2.0       0.07      0.00      1.00      0.01      0.25      0.06       219\n",
      "        3.0       0.87      0.90      0.94      0.88      0.91      0.82      1503\n",
      "\n",
      "avg / total       0.69      0.72      0.85      0.69      0.78      0.61      4980\n",
      "\n",
      "                   pre       rec       spe        f1       geo       iba       sup\n",
      "\n",
      "        0.0       0.70      0.93      0.74      0.80      0.81      0.64      1961\n",
      "        1.0       0.62      0.38      0.92      0.47      0.71      0.49      1297\n",
      "        2.0       0.08      0.00      1.00      0.01      0.27      0.07       219\n",
      "        3.0       0.88      0.92      0.94      0.90      0.92      0.84      1503\n",
      "\n",
      "avg / total       0.70      0.74      0.86      0.71      0.79      0.64      4980\n",
      "\n",
      "                   pre       rec       spe        f1       geo       iba       sup\n",
      "\n",
      "        0.0       0.69      0.92      0.73      0.79      0.80      0.63      1961\n",
      "        1.0       0.58      0.35      0.91      0.43      0.68      0.46      1297\n",
      "        2.0       0.38      0.02      1.00      0.04      0.61      0.35       219\n",
      "        3.0       0.86      0.91      0.94      0.89      0.91      0.82      1503\n",
      "\n",
      "avg / total       0.70      0.73      0.85      0.69      0.80      0.63      4980\n",
      "\n",
      "                   pre       rec       spe        f1       geo       iba       sup\n",
      "\n",
      "        0.0       0.68      0.90      0.73      0.78      0.79      0.61      1961\n",
      "        1.0       0.52      0.33      0.89      0.40      0.64      0.40      1297\n",
      "        2.0       0.20      0.01      1.00      0.02      0.44      0.18       219\n",
      "        3.0       0.86      0.90      0.94      0.88      0.91      0.81      1503\n",
      "\n",
      "avg / total       0.67      0.71      0.85      0.68      0.77      0.60      4980\n",
      "\n",
      "                   pre       rec       spe        f1       geo       iba       sup\n",
      "\n",
      "        0.0       0.70      0.92      0.74      0.80      0.81      0.64      1961\n",
      "        1.0       0.58      0.36      0.91      0.45      0.68      0.46      1297\n",
      "        2.0       0.23      0.01      1.00      0.03      0.47      0.20       219\n",
      "        3.0       0.86      0.91      0.94      0.89      0.91      0.82      1503\n",
      "\n",
      "avg / total       0.70      0.73      0.86      0.70      0.79      0.63      4980\n",
      "\n",
      "                   pre       rec       spe        f1       geo       iba       sup\n",
      "\n",
      "        0.0       0.69      0.91      0.74      0.79      0.80      0.63      1961\n",
      "        1.0       0.60      0.39      0.91      0.47      0.70      0.47      1297\n",
      "        2.0       0.22      0.01      1.00      0.02      0.46      0.20       219\n",
      "        3.0       0.88      0.92      0.95      0.90      0.92      0.84      1503\n",
      "\n",
      "avg / total       0.71      0.74      0.86      0.70      0.80      0.63      4980\n",
      "\n",
      "                   pre       rec       spe        f1       geo       iba       sup\n",
      "\n",
      "        0.0       0.68      0.91      0.73      0.78      0.80      0.62      1961\n",
      "        1.0       0.56      0.34      0.91      0.43      0.67      0.44      1297\n",
      "        2.0       0.12      0.01      1.00      0.02      0.34      0.10       219\n",
      "        3.0       0.87      0.90      0.94      0.88      0.91      0.82      1503\n",
      "\n",
      "avg / total       0.68      0.72      0.85      0.69      0.78      0.61      4980\n",
      "\n",
      "                   pre       rec       spe        f1       geo       iba       sup\n",
      "\n",
      "        0.0       0.69      0.91      0.73      0.78      0.80      0.62      1961\n",
      "        1.0       0.54      0.35      0.90      0.42      0.66      0.42      1297\n",
      "        2.0       0.08      0.00      1.00      0.01      0.28      0.07       219\n",
      "        3.0       0.86      0.88      0.94      0.87      0.90      0.81      1503\n",
      "\n",
      "avg / total       0.68      0.72      0.85      0.68      0.77      0.60      4980\n",
      "\n",
      "                   pre       rec       spe        f1       geo       iba       sup\n",
      "\n",
      "        0.0       0.70      0.91      0.75      0.79      0.81      0.64      1961\n",
      "        1.0       0.57      0.38      0.90      0.46      0.68      0.45      1297\n",
      "        2.0       0.18      0.01      1.00      0.02      0.42      0.16       219\n",
      "        3.0       0.86      0.89      0.94      0.88      0.90      0.81      1503\n",
      "\n",
      "avg / total       0.69      0.73      0.86      0.70      0.79      0.62      4980\n",
      "\n",
      "                   pre       rec       spe        f1       geo       iba       sup\n",
      "\n",
      "        0.0       0.68      0.92      0.72      0.79      0.80      0.62      1961\n",
      "        1.0       0.59      0.34      0.92      0.43      0.68      0.46      1297\n",
      "        2.0       0.08      0.00      1.00      0.01      0.28      0.07       219\n",
      "        3.0       0.86      0.91      0.94      0.89      0.91      0.82      1503\n",
      "\n",
      "avg / total       0.69      0.73      0.85      0.69      0.78      0.62      4980\n",
      "\n"
     ]
    },
    {
     "name": "stdout",
     "output_type": "stream",
     "text": [
      "                   pre       rec       spe        f1       geo       iba       sup\n",
      "\n",
      "        0.0       0.69      0.91      0.73      0.79      0.80      0.62      1961\n",
      "        1.0       0.59      0.37      0.91      0.46      0.69      0.46      1297\n",
      "        2.0       0.05      0.00      1.00      0.01      0.22      0.04       219\n",
      "        3.0       0.87      0.89      0.94      0.88      0.91      0.82      1503\n",
      "\n",
      "avg / total       0.69      0.73      0.85      0.70      0.78      0.62      4980\n",
      "\n",
      "                   pre       rec       spe        f1       geo       iba       sup\n",
      "\n",
      "        0.0       0.69      0.91      0.73      0.78      0.80      0.62      1961\n",
      "        1.0       0.54      0.35      0.89      0.42      0.65      0.42      1297\n",
      "        2.0       0.10      0.00      1.00      0.01      0.31      0.09       219\n",
      "        3.0       0.87      0.90      0.94      0.88      0.91      0.83      1503\n",
      "\n",
      "avg / total       0.68      0.72      0.85      0.69      0.77      0.61      4980\n",
      "\n",
      "                   pre       rec       spe        f1       geo       iba       sup\n",
      "\n",
      "        0.0       0.69      0.90      0.74      0.78      0.79      0.62      1961\n",
      "        1.0       0.53      0.34      0.89      0.41      0.65      0.41      1297\n",
      "        2.0       0.09      0.00      1.00      0.01      0.29      0.08       219\n",
      "        3.0       0.86      0.90      0.94      0.88      0.91      0.81      1503\n",
      "\n",
      "avg / total       0.67      0.71      0.85      0.68      0.77      0.60      4980\n",
      "\n",
      "                   pre       rec       spe        f1       geo       iba       sup\n",
      "\n",
      "        0.0       0.69      0.90      0.73      0.78      0.79      0.62      1961\n",
      "        1.0       0.56      0.34      0.91      0.42      0.67      0.44      1297\n",
      "        2.0       0.25      0.01      1.00      0.02      0.49      0.22       219\n",
      "        3.0       0.86      0.92      0.93      0.89      0.91      0.82      1503\n",
      "\n",
      "avg / total       0.69      0.72      0.85      0.68      0.78      0.61      4980\n",
      "\n",
      "                   pre       rec       spe        f1       geo       iba       sup\n",
      "\n",
      "        0.0       0.69      0.91      0.74      0.78      0.80      0.62      1961\n",
      "        1.0       0.56      0.34      0.90      0.42      0.67      0.43      1297\n",
      "        2.0       0.18      0.01      1.00      0.02      0.42      0.16       219\n",
      "        3.0       0.86      0.91      0.93      0.88      0.91      0.82      1503\n",
      "\n",
      "avg / total       0.68      0.72      0.85      0.69      0.78      0.61      4980\n",
      "\n",
      "                   pre       rec       spe        f1       geo       iba       sup\n",
      "\n",
      "        0.0       0.69      0.92      0.73      0.79      0.80      0.63      1961\n",
      "        1.0       0.56      0.34      0.90      0.42      0.66      0.43      1297\n",
      "        2.0       0.06      0.00      1.00      0.01      0.24      0.05       219\n",
      "        3.0       0.87      0.89      0.94      0.88      0.91      0.82      1503\n",
      "\n",
      "avg / total       0.68      0.72      0.85      0.69      0.77      0.61      4980\n",
      "\n",
      "                   pre       rec       spe        f1       geo       iba       sup\n",
      "\n",
      "        0.0       0.68      0.90      0.72      0.78      0.79      0.61      1961\n",
      "        1.0       0.54      0.33      0.90      0.41      0.65      0.41      1297\n",
      "        2.0       0.20      0.01      1.00      0.03      0.44      0.18       219\n",
      "        3.0       0.87      0.90      0.94      0.88      0.91      0.82      1503\n",
      "\n",
      "avg / total       0.68      0.71      0.85      0.68      0.78      0.60      4980\n",
      "\n",
      "                   pre       rec       spe        f1       geo       iba       sup\n",
      "\n",
      "        0.0       0.70      0.92      0.74      0.79      0.81      0.64      1961\n",
      "        1.0       0.59      0.37      0.91      0.45      0.69      0.46      1297\n",
      "        2.0       0.11      0.01      1.00      0.02      0.33      0.10       219\n",
      "        3.0       0.86      0.90      0.94      0.88      0.91      0.81      1503\n",
      "\n",
      "avg / total       0.69      0.73      0.86      0.70      0.78      0.62      4980\n",
      "\n",
      "                   pre       rec       spe        f1       geo       iba       sup\n",
      "\n",
      "        0.0       0.68      0.91      0.72      0.78      0.79      0.61      1961\n",
      "        1.0       0.55      0.33      0.91      0.41      0.66      0.43      1297\n",
      "        2.0       0.10      0.00      1.00      0.01      0.31      0.09       219\n",
      "        3.0       0.87      0.90      0.94      0.88      0.91      0.82      1503\n",
      "\n",
      "avg / total       0.68      0.72      0.85      0.68      0.77      0.60      4980\n",
      "\n",
      "                   pre       rec       spe        f1       geo       iba       sup\n",
      "\n",
      "        0.0       0.69      0.91      0.74      0.79      0.80      0.63      1961\n",
      "        1.0       0.55      0.35      0.90      0.43      0.67      0.43      1297\n",
      "        2.0       0.33      0.02      1.00      0.03      0.56      0.30       219\n",
      "        3.0       0.87      0.91      0.94      0.89      0.91      0.82      1503\n",
      "\n",
      "avg / total       0.69      0.72      0.85      0.69      0.79      0.62      4980\n",
      "\n",
      "                   pre       rec       spe        f1       geo       iba       sup\n",
      "\n",
      "        0.0       0.69      0.91      0.73      0.78      0.80      0.62      1961\n",
      "        1.0       0.56      0.33      0.91      0.42      0.66      0.43      1297\n",
      "        2.0       0.21      0.01      1.00      0.03      0.45      0.19       219\n",
      "        3.0       0.86      0.91      0.94      0.88      0.91      0.82      1503\n",
      "\n",
      "avg / total       0.68      0.72      0.85      0.68      0.78      0.61      4980\n",
      "\n",
      "                   pre       rec       spe        f1       geo       iba       sup\n",
      "\n",
      "        0.0       0.69      0.91      0.73      0.78      0.80      0.62      1961\n",
      "        1.0       0.55      0.34      0.90      0.42      0.66      0.43      1297\n",
      "        2.0       0.00      0.00      1.00      0.00      0.00      0.00       219\n",
      "        3.0       0.86      0.90      0.94      0.88      0.91      0.81      1503\n",
      "\n",
      "avg / total       0.67      0.72      0.85      0.68      0.76      0.60      4980\n",
      "\n",
      "                   pre       rec       spe        f1       geo       iba       sup\n",
      "\n",
      "        0.0       0.69      0.91      0.73      0.78      0.80      0.62      1961\n",
      "        1.0       0.55      0.33      0.90      0.41      0.66      0.42      1297\n",
      "        2.0       0.00      0.00      1.00      0.00      0.00      0.00       219\n",
      "        3.0       0.85      0.89      0.93      0.87      0.90      0.81      1503\n",
      "\n",
      "avg / total       0.67      0.72      0.85      0.68      0.76      0.60      4980\n",
      "\n"
     ]
    },
    {
     "data": {
      "image/png": "[encoded data removed]",
      "text/plain": [
       "<matplotlib.figure.Figure at 0x7ff0808f1080>"
      ]
     },
     "metadata": {},
     "output_type": "display_data"
    }
   ],
   "source": [
    "scores = 0\n",
    "max_k = len(X.columns)\n",
    "f1_scores = []\n",
    "\n",
    "for i in range(1):\n",
    "    rar_data = pd.concat([X_train, y_train], axis=1)\n",
    "    # RaR uses columns with string label only\n",
    "    rar_data.rename(columns=lambda c: str(c), inplace=True)\n",
    "    rar = csrar.rar.RaR(rar_data)\n",
    "    rar.run(str(target), k=5, runs=100, split_iterations=10, compensate_imbalance=False)\n",
    "    \n",
    "    # Evaluate, average relative error rates\n",
    "    score = pd.DataFrame(columns=np.unique(data[target]), index=np.arange(max_k)).fillna(0)\n",
    "    for i in range(1, max_k):\n",
    "        errors = eval_rar_ranking(rar.feature_ranking, target, k=i)\n",
    "        f1_scores.append(f1)\n",
    "        for label in errors.columns:\n",
    "            score.loc[i, label] = errors[label][0]\n",
    "    scores += score\n",
    "scores /= 1\n",
    "\n",
    "import matplotlib.pyplot as plt\n",
    "# for label in scores.columns:\n",
    "#     plt.plot(scores[label], label='Class {}'.format(label))\n",
    "plt.plot(f1_scores)\n",
    "plt.legend(bbox_to_anchor=(0., 1.02, 1., .102), loc=3,\n",
    "           ncol=2, mode=\"expand\", borderaxespad=0.)\n",
    "axes = plt.gca()\n",
    "axes.set_ylim([0, 1])\n",
    "plt.savefig('Dev2_test6_imb_f1_nocomp')\n",
    "plt.show()"
   ]
  },
  {
   "cell_type": "code",
   "execution_count": null,
   "metadata": {
    "collapsed": true
   },
   "outputs": [],
   "source": []
  },
  {
   "cell_type": "code",
   "execution_count": null,
   "metadata": {
    "ExecuteTime": {
     "start_time": "2017-07-10T21:49:02.903Z"
    }
   },
   "outputs": [
    {
     "name": "stdout",
     "output_type": "stream",
     "text": [
      "Generated cost matrix:\n",
      "        0.0       1.0        2.0       3.0\n",
      "0  2.388249  4.049197  22.685649  3.445425\n",
      "Overall cost matrix:\n",
      "        0.0       1.0        2.0       3.0\n",
      "0  2.388249  4.049197  22.685649  3.445425\n",
      "Relevance: 100.00%    \n",
      "Running optimizer...\n",
      "Optimizer done.\n",
      "Redundancy: 26.67%     "
     ]
    }
   ],
   "source": [
    "scores_comp = 0\n",
    "max_k = len(X.columns)\n",
    "f1_scores = []\n",
    "\n",
    "for i in range(1):\n",
    "    rar_data = pd.concat([X_train, y_train], axis=1)\n",
    "    # RaR uses columns with string label only\n",
    "    rar_data.rename(columns=lambda c: str(c), inplace=True)\n",
    "    rar_compensate = csrar.rar.RaR(rar_data)\n",
    "    rar_compensate.run(str(target), k=5, runs=100, split_iterations=10, compensate_imbalance=True)\n",
    "\n",
    "    # Evaluate, average relative error rates\n",
    "    score = pd.DataFrame(columns=np.unique(data[target]), index=np.arange(max_k)).fillna(0)\n",
    "    for i in range(1, max_k):\n",
    "        errors, f1 = eval_rar_ranking(rar_compensate.feature_ranking, target, k=i)\n",
    "        f1_scores.append(f1)\n",
    "        for label in errors.columns:\n",
    "            score.loc[i, label] = errors[label][0]\n",
    "        \n",
    "    scores_comp += score\n",
    "scores_comp /= 1\n",
    "\n",
    "import matplotlib.pyplot as plt\n",
    "#for label in scores_comp.columns:\n",
    "#    plt.plot(scores_comp[label], label='Class {}'.format(label))\n",
    "plt.plot(f1_scores)\n",
    "plt.legend(bbox_to_anchor=(0., 1.02, 1., .102), loc=3,\n",
    "           ncol=2, mode=\"expand\", borderaxespad=0.)\n",
    "axes = plt.gca()\n",
    "axes.set_ylim([0, 1])\n",
    "plt.savefig('Dev2_test6_imb_f1')\n",
    "plt.show()"
   ]
  },
  {
   "cell_type": "markdown",
   "metadata": {},
   "source": [
    "#### Benchmarking the increase in weighting"
   ]
  },
  {
   "cell_type": "code",
   "execution_count": null,
   "metadata": {
    "ExecuteTime": {
     "end_time": "2017-07-10T20:15:47.959960Z",
     "start_time": "2017-07-10T20:15:47.954259Z"
    },
    "collapsed": true
   },
   "outputs": [],
   "source": [
    "# Redirect output for long sessions\n",
    "import sys\n",
    "sys.stderr=open(\"err.txt\",\"w\")\n",
    "sys.stdout=open(\"logs_dev_test6.txt\", \"w\")"
   ]
  },
  {
   "cell_type": "code",
   "execution_count": null,
   "metadata": {
    "ExecuteTime": {
     "end_time": "2017-07-10T20:44:54.966443Z",
     "start_time": "2017-07-10T20:44:54.937637Z"
    }
   },
   "outputs": [],
   "source": [
    "np.unique(data[target], return_counts=True)"
   ]
  },
  {
   "cell_type": "code",
   "execution_count": 33,
   "metadata": {
    "ExecuteTime": {
     "end_time": "2017-07-10T21:13:59.645180Z",
     "start_time": "2017-07-10T20:54:14.162093Z"
    }
   },
   "outputs": [
    {
     "name": "stdout",
     "output_type": "stream",
     "text": [
      "Generated cost matrix:\n",
      "        0.0       1.0       2.0       3.0\n",
      "0  1.545396  2.012262  4.762945  1.856186\n",
      "Overall cost matrix:\n",
      "        0.0       1.0       2.0       3.0\n",
      "0  1.545396  2.012262  4.762945  1.856186\n",
      "Relevance: 100.00%    \n",
      "Running optimizer...\n",
      "Optimizer done.\n",
      "Redundancy: 100.00%    \n",
      "1. 6 with a score of 0.998979781582796\n",
      "2. 2 with a score of 0.6801253626626512\n",
      "3. 40 with a score of 0.6800414493224536\n",
      "4. 34 with a score of 0.680023962312007\n",
      "5. 70 with a score of 0.328497361678845\n",
      "6. 71 with a score of 0.32339573791212956\n",
      "7. 74 with a score of 0.3129061448022621\n",
      "8. 29 with a score of 0.30937503266877375\n",
      "9. 53 with a score of 0.30033487644799256\n",
      "10. 41 with a score of 0.2923465842204281\n",
      "11. 3 with a score of 0.292343789614641\n",
      "12. 63 with a score of 0.2923369090500941\n",
      "13. 0 with a score of 0.29233196257570443\n",
      "14. 11 with a score of 0.20103171958087473\n",
      "15. 57 with a score of 0.20101764701720243\n",
      "16. 7 with a score of 0.19131333500307468\n",
      "17. 58 with a score of 0.17874679870458107\n",
      "18. 46 with a score of 0.13879225488771282\n",
      "19. 38 with a score of 0.13362546264922523\n",
      "20. 30 with a score of 0.13006630255595464\n",
      "21. 9 with a score of 0.12083071659379635\n",
      "22. 65 with a score of 0.11794732047426112\n",
      "23. 56 with a score of 0.09367555700636503\n",
      "24. 31 with a score of 0.04582131499028196\n",
      "25. 50 with a score of 0.045820574462628244\n",
      "26. 5 with a score of 0.04219897156634629\n",
      "27. 8 with a score of 0.041340802930323675\n",
      "28. 68 with a score of 0.04134014404746386\n",
      "29. 24 with a score of 0.04133744694378679\n",
      "30. 1 with a score of 0.041135287182484645\n",
      "31. 18 with a score of 0.04113436088736322\n",
      "32. 26 with a score of 0.03857021184242226\n",
      "33. 61 with a score of 0.03856969621495234\n",
      "34. 73 with a score of 0.03849312217223297\n",
      "35. 25 with a score of 0.038273782490739795\n",
      "36. 39 with a score of 0.02525320775575998\n",
      "37. 49 with a score of 0.023116401045428555\n",
      "38. 72 with a score of 0.020873191710705296\n",
      "39. 44 with a score of 0.020206212738119293\n",
      "40. 28 with a score of 0.016617758089869195\n",
      "41. 33 with a score of 0.016541324116443188\n",
      "42. 4 with a score of 0.01436325499696141\n",
      "43. 20 with a score of 0.012918965694847625\n",
      "44. 22 with a score of 0.012876642703806897\n",
      "45. 27 with a score of 0.012876233074303042\n",
      "46. 10 with a score of 0.010053127914730155\n",
      "47. 42 with a score of 0.005631887634316283\n",
      "48. 59 with a score of 0.004726843077313455\n",
      "49. 64 with a score of 0.0020899649089487432\n",
      "50. 52 with a score of 0.002089963894922163\n",
      "51. 45 with a score of 0.00039512393775640285\n",
      "52. 14 with a score of 1.4754032152313837e-10\n",
      "53. 21 with a score of 6.810538663601064e-11\n",
      "54. 19 with a score of 2.7234301198238523e-11\n",
      "55. 13 with a score of 9.856644401692554e-12\n",
      "56. 62 with a score of 8.79213648434342e-12\n",
      "57. 32 with a score of 8.394393754212486e-12\n",
      "58. 51 with a score of 8.106780237216905e-12\n",
      "59. 43 with a score of 7.935977422230899e-12\n",
      "60. 15 with a score of 7.935977377371857e-12\n",
      "61. 16 with a score of 7.935977369006767e-12\n",
      "62. 12 with a score of 7.93597736333955e-12\n",
      "63. 67 with a score of 7.935977359991935e-12\n",
      "64. 23 with a score of 7.935977358239307e-12\n",
      "65. 35 with a score of 7.935977355323366e-12\n",
      "66. 37 with a score of 7.935977354886002e-12\n",
      "67. 36 with a score of 7.93597735443869e-12\n",
      "68. 60 with a score of 7.935977352981114e-12\n",
      "69. 69 with a score of 7.935977343502007e-12\n",
      "70. 55 with a score of 7.93597734350199e-12\n",
      "71. 66 with a score of 7.935977343501982e-12\n",
      "72. 47 with a score of 7.93597732941785e-12\n",
      "73. 54 with a score of 7.935977327621024e-12\n",
      "74. 48 with a score of 7.935977280307621e-12\n",
      "75. 17 with a score of 7.933277906588758e-12\n",
      "                   pre       rec       spe        f1       geo       iba       sup\n",
      "\n",
      "        0.0       0.66      0.83      0.73      0.74      0.76      0.56      1961\n",
      "        1.0       0.42      0.30      0.85      0.35      0.57      0.31      1297\n",
      "        2.0       0.08      0.01      0.99      0.02      0.28      0.07       219\n",
      "        3.0       0.77      0.81      0.89      0.79      0.84      0.69      1503\n",
      "\n",
      "avg / total       0.61      0.65      0.82      0.62      0.71      0.52      4980\n",
      "\n",
      "Generated cost matrix:\n",
      "        0.0       1.0        2.0       3.0\n",
      "0  2.388249  4.049197  22.685649  3.445425\n",
      "Overall cost matrix:\n",
      "        0.0       1.0        2.0       3.0\n",
      "0  2.388249  4.049197  22.685649  3.445425\n",
      "Relevance: 100.00%    \n",
      "Running optimizer...\n",
      "Optimizer done.\n",
      "Redundancy: 100.00%    \n",
      "1. 2 with a score of 0.9997237915881984\n",
      "2. 34 with a score of 0.9973514579880488\n",
      "3. 29 with a score of 0.9119754383790826\n",
      "4. 7 with a score of 0.7141096664733695\n",
      "5. 6 with a score of 0.5706698644207245\n",
      "6. 71 with a score of 0.5689193733338223\n",
      "7. 44 with a score of 0.5688655035069845\n",
      "8. 56 with a score of 0.5271443192921542\n",
      "9. 30 with a score of 0.5197170204269959\n",
      "10. 53 with a score of 0.32684589565733163\n",
      "11. 46 with a score of 0.30375342631264085\n",
      "12. 47 with a score of 0.23745597904555454\n",
      "13. 57 with a score of 0.2374002750017424\n",
      "14. 50 with a score of 0.2177015385033188\n",
      "15. 42 with a score of 0.14915771211501658\n",
      "16. 49 with a score of 0.1489556175026113\n",
      "17. 41 with a score of 0.1267835906245623\n",
      "18. 12 with a score of 0.12678334770233005\n",
      "19. 72 with a score of 0.12499567074972588\n",
      "20. 40 with a score of 0.11159101075431509\n",
      "21. 60 with a score of 0.11157200455445054\n",
      "22. 38 with a score of 0.10967783036524609\n",
      "23. 0 with a score of 0.10843126466603802\n",
      "24. 67 with a score of 0.10841209663315163\n",
      "25. 23 with a score of 0.10836625486312026\n",
      "26. 66 with a score of 0.10835411038706391\n",
      "27. 70 with a score of 0.10721088248659222\n",
      "28. 8 with a score of 0.10508530459115246\n",
      "29. 24 with a score of 0.09981801789423841\n",
      "30. 69 with a score of 0.09658338837601362\n",
      "31. 9 with a score of 0.07461258526899137\n",
      "32. 37 with a score of 0.07461135151094718\n",
      "33. 73 with a score of 0.07383818345861609\n",
      "34. 10 with a score of 0.06569002188987536\n",
      "35. 74 with a score of 0.06233632167701584\n",
      "36. 25 with a score of 0.062333843290016594\n",
      "37. 58 with a score of 0.058157041563988994\n",
      "38. 18 with a score of 0.05815673413121454\n",
      "39. 43 with a score of 0.05815271052580174\n",
      "40. 5 with a score of 0.05480501358707496\n",
      "41. 17 with a score of 0.05108350009753228\n",
      "42. 19 with a score of 0.051083238019537465\n",
      "43. 22 with a score of 0.05108313971383739\n",
      "44. 21 with a score of 0.05108304139370399\n",
      "45. 45 with a score of 0.05108274634756916\n",
      "46. 3 with a score of 0.05108261517319593\n",
      "47. 13 with a score of 0.05108254301801943\n",
      "48. 48 with a score of 0.05108248397383094\n",
      "49. 4 with a score of 0.05108227400464008\n",
      "50. 11 with a score of 0.051082247751073305\n",
      "51. 16 with a score of 0.051082214964052325\n",
      "52. 51 with a score of 0.05108202457307541\n",
      "53. 32 with a score of 0.051082011444635395\n",
      "54. 65 with a score of 0.05108200487904355\n",
      "55. 20 with a score of 0.05108198518492322\n",
      "56. 63 with a score of 0.05108168967169037\n",
      "57. 61 with a score of 0.05108166996317543\n",
      "58. 68 with a score of 0.051081571427125765\n",
      "59. 1 with a score of 0.05108156485787322\n",
      "60. 15 with a score of 0.05108145973640796\n",
      "61. 62 with a score of 0.051081433460335494\n",
      "62. 36 with a score of 0.051081374314588465\n",
      "63. 54 with a score of 0.0510813283096024\n",
      "64. 33 with a score of 0.051081315165603144\n",
      "65. 64 with a score of 0.05108124944174206\n",
      "66. 26 with a score of 0.051080920736252186\n",
      "67. 14 with a score of 0.05108086811658704\n",
      "68. 39 with a score of 0.0510808483892802\n",
      "69. 55 with a score of 0.051080572113771275\n",
      "70. 52 with a score of 0.05108042735122471\n",
      "71. 59 with a score of 0.05108040760892299\n",
      "72. 35 with a score of 0.05107907034799623\n",
      "73. 31 with a score of 0.0510790272573932\n",
      "74. 27 with a score of 0.05107677170659008\n",
      "75. 28 with a score of 0.05107439209318035\n",
      "                   pre       rec       spe        f1       geo       iba       sup\n",
      "\n",
      "        0.0       0.69      0.83      0.75      0.75      0.78      0.59      1961\n",
      "        1.0       0.45      0.34      0.86      0.39      0.60      0.35      1297\n",
      "        2.0       0.12      0.03      0.99      0.04      0.35      0.11       219\n",
      "        3.0       0.80      0.84      0.91      0.82      0.86      0.74      1503\n",
      "\n",
      "avg / total       0.64      0.67      0.84      0.65      0.74      0.55      4980\n",
      "\n",
      "Generated cost matrix:\n",
      "        0.0        1.0        2.0        3.0\n",
      "0  5.703735  16.395996  514.63868  11.870951\n",
      "Overall cost matrix:\n",
      "        0.0        1.0        2.0        3.0\n",
      "0  5.703735  16.395996  514.63868  11.870951\n"
     ]
    },
    {
     "name": "stdout",
     "output_type": "stream",
     "text": [
      "Relevance: 100.00%    \n",
      "Running optimizer...\n",
      "Optimizer done.\n",
      "Redundancy: 100.00%    \n",
      "1. 58 with a score of 0.9989898431492771\n",
      "2. 10 with a score of 0.9488707438135037\n",
      "3. 14 with a score of 0.9487238084814625\n",
      "4. 18 with a score of 0.9486808486317607\n",
      "5. 17 with a score of 0.9486582364539554\n",
      "6. 38 with a score of 0.9486220544866633\n",
      "7. 34 with a score of 0.9486175315258778\n",
      "8. 22 with a score of 0.948583607797833\n",
      "9. 5 with a score of 0.9485587286899404\n",
      "10. 36 with a score of 0.9485180143059423\n",
      "11. 1 with a score of 0.9485112281991114\n",
      "12. 21 with a score of 0.9484410988010216\n",
      "13. 39 with a score of 0.9484410988010213\n",
      "14. 23 with a score of 0.9484275240432771\n",
      "15. 20 with a score of 0.9484207365031357\n",
      "16. 69 with a score of 0.9483935852673744\n",
      "17. 2 with a score of 0.9483890598941549\n",
      "18. 8 with a score of 0.9483732207115319\n",
      "19. 71 with a score of 0.9483664323111849\n",
      "20. 42 with a score of 0.9483324886963447\n",
      "21. 64 with a score of 0.9482849631184038\n",
      "22. 9 with a score of 0.9482600666645625\n",
      "23. 63 with a score of 0.9482578032788609\n",
      "24. 7 with a score of 0.9482555398812064\n",
      "25. 66 with a score of 0.9482442227136334\n",
      "26. 6 with a score of 0.9482419592969913\n",
      "27. 47 with a score of 0.9482012147513114\n",
      "28. 28 with a score of 0.9481921598935251\n",
      "29. 0 with a score of 0.948180841052334\n",
      "30. 52 with a score of 0.9481763134320942\n",
      "31. 35 with a score of 0.948144618751592\n",
      "32. 25 with a score of 0.9481287705324549\n",
      "33. 26 with a score of 0.9480699005880648\n",
      "34. 72 with a score of 0.9480699005880648\n",
      "35. 54 with a score of 0.9480585785180329\n",
      "36. 57 with a score of 0.9480336689112004\n",
      "37. 15 with a score of 0.9479838453551112\n",
      "38. 11 with a score of 0.9479815805104309\n",
      "39. 68 with a score of 0.9479793156537866\n",
      "40. 31 with a score of 0.9479589314055594\n",
      "41. 12 with a score of 0.9479090991628144\n",
      "42. 4 with a score of 0.9479068339240059\n",
      "43. 41 with a score of 0.9478615266186099\n",
      "44. 40 with a score of 0.9478524645831601\n",
      "45. 32 with a score of 0.9478479334936155\n",
      "46. 16 with a score of 0.9478456679308879\n",
      "47. 45 with a score of 0.9478434023561899\n",
      "48. 19 with a score of 0.9478411367695221\n",
      "49. 51 with a score of 0.9478411367695216\n",
      "50. 59 with a score of 0.9478230116452263\n",
      "51. 70 with a score of 0.9477346406916882\n",
      "52. 48 with a score of 0.9477051796599015\n",
      "53. 67 with a score of 0.947682515950501\n",
      "54. 61 with a score of 0.9476553179182237\n",
      "55. 55 with a score of 0.9476326515737163\n",
      "56. 49 with a score of 0.9474558129669278\n",
      "57. 13 with a score of 0.9474286005550027\n",
      "58. 27 with a score of 0.9474263327761434\n",
      "59. 46 with a score of 0.9474059222269424\n",
      "60. 62 with a score of 0.9473832427000046\n",
      "61. 65 with a score of 0.9472244524348709\n",
      "62. 37 with a score of 0.9471904183028985\n",
      "63. 50 with a score of 0.9471518430232415\n",
      "64. 30 with a score of 0.9471495737819082\n",
      "65. 3 with a score of 0.9468590116925323\n",
      "66. 53 with a score of 0.9468499284572092\n",
      "67. 24 with a score of 0.9466659515818259\n",
      "68. 60 with a score of 0.9464273456586222\n",
      "69. 44 with a score of 0.9459861438261808\n",
      "70. 43 with a score of 0.9456629148918029\n",
      "71. 33 with a score of 0.9448492150435404\n",
      "72. 56 with a score of 0.9447762031400845\n",
      "73. 74 with a score of 0.857840419114495\n",
      "74. 29 with a score of 0.8340126188624695\n",
      "75. 73 with a score of 0.831175912599484\n",
      "                   pre       rec       spe        f1       geo       iba       sup\n",
      "\n",
      "        0.0       0.43      0.64      0.46      0.52      0.54      0.28      1961\n",
      "        1.0       0.26      0.17      0.83      0.20      0.44      0.18      1297\n",
      "        2.0       0.00      0.00      1.00      0.00      0.00      0.00       219\n",
      "        3.0       0.39      0.32      0.78      0.35      0.53      0.28      1503\n",
      "\n",
      "avg / total       0.36      0.39      0.68      0.36      0.49      0.24      4980\n",
      "\n",
      "Generated cost matrix:\n",
      "         0.0         1.0            2.0         3.0\n",
      "0  32.532595  268.828694  264852.970694  140.919481\n",
      "Overall cost matrix:\n",
      "         0.0         1.0            2.0         3.0\n",
      "0  32.532595  268.828694  264852.970694  140.919481\n",
      "Relevance: 100.00%    \n",
      "Running optimizer...\n",
      "Optimizer done.\n",
      "Redundancy: 100.00%    \n",
      "1. 35 with a score of 0.9999999061133065\n",
      "2. 2 with a score of 0.9998166212300594\n",
      "3. 0 with a score of 0.9998141100117461\n",
      "4. 4 with a score of 0.9998065762811448\n",
      "5. 9 with a score of 0.9997889971350384\n",
      "6. 14 with a score of 0.9997864857780081\n",
      "7. 19 with a score of 0.9997739288036867\n",
      "8. 11 with a score of 0.9997563485099433\n",
      "9. 16 with a score of 0.9997563485099433\n",
      "10. 8 with a score of 0.9997437907789012\n",
      "11. 39 with a score of 0.9997387675981952\n",
      "12. 3 with a score of 0.9996985803362107\n",
      "13. 18 with a score of 0.9996357812742677\n",
      "14. 1 with a score of 0.9996307570086754\n",
      "15. 13 with a score of 0.9996232205156588\n",
      "16. 15 with a score of 0.9995679494302574\n",
      "17. 5 with a score of 0.9995654369630774\n",
      "18. 12 with a score of 0.9995352863725643\n",
      "19. 10 with a score of 0.9995227230901464\n",
      "20. 44 with a score of 0.9994649279268202\n",
      "21. 7 with a score of 0.9994247186573881\n",
      "22. 51 with a score of 0.9993468040002825\n",
      "23. 17 with a score of 0.9993241813430754\n",
      "24. 55 with a score of 0.9993141265004192\n",
      "25. 25 with a score of 0.9993040714556978\n",
      "26. 20 with a score of 0.999261335261199\n",
      "27. 62 with a score of 0.9992537932008979\n",
      "28. 52 with a score of 0.9992261380071591\n",
      "29. 6 with a score of 0.9992086321898278\n",
      "30. 32 with a score of 0.9991532215329\n",
      "31. 30 with a score of 0.9991356194126867\n",
      "32. 74 with a score of 0.9991255607802928\n",
      "33. 38 with a score of 0.9991129872054848\n",
      "34. 58 with a score of 0.999085324228861\n",
      "35. 45 with a score of 0.999052629648626\n",
      "36. 66 with a score of 0.9990073567035183\n",
      "37. 49 with a score of 0.9989746570294277\n",
      "38. 70 with a score of 0.9989243456666066\n",
      "39. 41 with a score of 0.9988866088255235\n",
      "40. 63 with a score of 0.998836288611512\n",
      "41. 23 with a score of 0.9988035777596322\n",
      "42. 69 with a score of 0.9987884797224329\n",
      "43. 22 with a score of 0.9987784141113212\n",
      "44. 59 with a score of 0.998728083019792\n",
      "45. 31 with a score of 0.9987079491662797\n",
      "46. 21 with a score of 0.9986752299272963\n",
      "47. 34 with a score of 0.9986500598268079\n",
      "48. 43 with a score of 0.9986248884608955\n",
      "49. 57 with a score of 0.9985745419324175\n",
      "50. 28 with a score of 0.998559436986655\n",
      "51. 48 with a score of 0.998526708040919\n",
      "52. 50 with a score of 0.9983630312176929\n",
      "53. 60 with a score of 0.9983605126948384\n",
      "54. 65 with a score of 0.9983605126948384\n",
      "55. 37 with a score of 0.9983076207890805\n",
      "56. 61 with a score of 0.9982698374362972\n",
      "57. 33 with a score of 0.9982647994405659\n",
      "58. 27 with a score of 0.9981312740864697\n",
      "59. 47 with a score of 0.9981262346968863\n",
      "60. 68 with a score of 0.9979951927710321\n",
      "61. 67 with a score of 0.9979624269331819\n",
      "62. 46 with a score of 0.9978918470805692\n",
      "63. 40 with a score of 0.9978842843637811\n",
      "64. 29 with a score of 0.9977456143234973\n",
      "65. 56 with a score of 0.9974832969617489\n",
      "66. 36 with a score of 0.9973470395511369\n",
      "67. 54 with a score of 0.9971627808274425\n",
      "68. 24 with a score of 0.9970289615069403\n",
      "69. 42 with a score of 0.9969582500886238\n",
      "70. 26 with a score of 0.9968142710314116\n",
      "71. 53 with a score of 0.9966247619170234\n",
      "72. 64 with a score of 0.9942866601753602\n",
      "73. 73 with a score of 0.9240520912562199\n",
      "74. 71 with a score of 0.8941201847833928\n",
      "75. 72 with a score of 0.8536039305659259\n",
      "                   pre       rec       spe        f1       geo       iba       sup\n",
      "\n",
      "        0.0       0.60      0.80      0.65      0.69      0.71      0.49      1961\n",
      "        1.0       0.34      0.21      0.86      0.26      0.51      0.25      1297\n",
      "        2.0       0.12      0.02      0.99      0.03      0.34      0.10       219\n",
      "        3.0       0.67      0.69      0.85      0.68      0.76      0.57      1503\n",
      "\n",
      "avg / total       0.53      0.58      0.78      0.54      0.66      0.43      4980\n",
      "\n"
     ]
    },
    {
     "data": {
      "image/png": "[encoded data removed]",
      "text/plain": [
       "<matplotlib.figure.Figure at 0x7ff0845d7a90>"
      ]
     },
     "metadata": {},
     "output_type": "display_data"
    }
   ],
   "source": [
    "steps = [0.5, 1, 2, 4]\n",
    "scores_comp = pd.DataFrame(columns=np.unique(data[target]), index=steps).fillna(0)\n",
    "\n",
    "for i in steps:\n",
    "    rar_data = pd.concat([X_train, y_train], axis=1)\n",
    "    # RaR uses columns with string label only\n",
    "    rar_data.rename(columns=lambda c: str(c), inplace=True)\n",
    "    rar_compensate = csrar.rar.RaR(rar_data)\n",
    "    rar_compensate.run(str(target), k=4, runs=100, split_iterations=10, compensate_imbalance=True, weight_mod=i)\n",
    "\n",
    "    # Evaluate, average relative error rates\n",
    "    errors, f1 = eval_rar_ranking(rar_compensate.feature_ranking, target, k=6)\n",
    "    for label in errors.columns:\n",
    "        scores_comp.loc[i, label] = errors[label][0]\n",
    "\n",
    "import matplotlib.pyplot as plt\n",
    "for label in scores_comp.columns:\n",
    "    plt.plot(scores_comp[label], label='Class {}'.format(label))\n",
    "plt.legend(bbox_to_anchor=(0., 1.02, 1., .102), loc=3,\n",
    "           ncol=2, mode=\"expand\", borderaxespad=0.)\n",
    "axes = plt.gca()\n",
    "axes.set_ylim([0, 1])\n",
    "axes.set_ylabel('Relative error rate')\n",
    "axes.set_xlabel('Weighting exponent')\n",
    "plt.savefig('dev2_weight_higher_test6')\n",
    "plt.show()"
   ]
  },
  {
   "cell_type": "code",
   "execution_count": null,
   "metadata": {
    "ExecuteTime": {
     "start_time": "2017-07-04T14:59:20.577Z"
    },
    "collapsed": true
   },
   "outputs": [],
   "source": []
  },
  {
   "cell_type": "code",
   "execution_count": null,
   "metadata": {
    "ExecuteTime": {
     "end_time": "2017-07-04T14:55:15.998436Z",
     "start_time": "2017-07-04T14:55:15.989149Z"
    },
    "collapsed": true
   },
   "outputs": [],
   "source": [
    "scores"
   ]
  },
  {
   "cell_type": "code",
   "execution_count": null,
   "metadata": {
    "ExecuteTime": {
     "start_time": "2017-07-04T14:59:25.096Z"
    },
    "collapsed": true
   },
   "outputs": [],
   "source": [
    "import matplotlib.pyplot as plt\n",
    "plt.plot(scores['Class 0'], label='Class 0')\n",
    "plt.plot(scores['Class 1'], label='Class 1')\n",
    "plt.legend(bbox_to_anchor=(0., 1.02, 1., .102), loc=3,\n",
    "           ncol=2, mode=\"expand\", borderaxespad=0.)\n",
    "plt.savefig('RaR_test5_imb_nocomp')\n",
    "plt.show()"
   ]
  },
  {
   "cell_type": "code",
   "execution_count": null,
   "metadata": {
    "ExecuteTime": {
     "end_time": "2017-06-27T21:47:30.116483Z",
     "start_time": "2017-06-27T21:47:29.888089Z"
    },
    "collapsed": true
   },
   "outputs": [],
   "source": [
    "error_frame2 = eval_rar_ranking(rar_compensate.feature_ranking, k=4)\n",
    "error_frame2"
   ]
  },
  {
   "cell_type": "markdown",
   "metadata": {},
   "source": [
    "## Cost Analysis"
   ]
  },
  {
   "cell_type": "markdown",
   "metadata": {
    "ExecuteTime": {
     "end_time": "2017-06-27T16:07:47.409552Z",
     "start_time": "2017-06-27T16:07:47.407584Z"
    }
   },
   "source": [
    "### With selection"
   ]
  },
  {
   "cell_type": "code",
   "execution_count": 46,
   "metadata": {
    "ExecuteTime": {
     "end_time": "2017-07-10T21:48:46.158306Z",
     "start_time": "2017-07-10T21:48:46.071129Z"
    }
   },
   "outputs": [],
   "source": [
    "from imblearn.metrics import classification_report_imbalanced\n",
    "from sklearn.metrics import f1_score\n",
    "\n",
    "def eval_rar_ranking(ranking, target, k=3):\n",
    "    from imblearn.over_sampling import SMOTE\n",
    "    \n",
    "    clf_selected = ExtraTreesClassifier(n_jobs=-1)\n",
    "    selected_features = list(map(lambda f: int(f[0]), ranking[:k]))\n",
    "    X_train_s = X_train[selected_features]\n",
    "    X_test_s = X_test[selected_features]\n",
    "    \n",
    "    # Rebalance\n",
    "    sm = SMOTE(random_state=42)\n",
    "    X_res, y_res = X_train_s, y_train # sm.fit_sample(X_train_s, y_train)\n",
    "    \n",
    "    clf_selected.fit(X_res, y_res)\n",
    "    y_predict = clf_selected.predict(X_test_s)\n",
    "\n",
    "    # print(classification_report_imbalanced(y_test, y_predict))\n",
    "    f1 = f1_score(y_test, y_predict, average='macro')\n",
    "    \n",
    "    error_rates = dict([(value, {'sum': 0, 'errors': 0}) for value in np.unique(data[target])])\n",
    "    for real, predicted in zip(y_test, y_predict):\n",
    "        if real != predicted:\n",
    "            error_rates[real]['errors'] += 1\n",
    "        error_rates[real]['sum'] += 1\n",
    "\n",
    "    error_frame = pd.DataFrame(index=[0], columns=np.unique(data[target]))\n",
    "    for value, rates in error_rates.items():\n",
    "        error_frame[value] = [rates['errors'] / (rates['sum'])]\n",
    "    return error_frame, f1_score"
   ]
  },
  {
   "cell_type": "markdown",
   "metadata": {
    "ExecuteTime": {
     "end_time": "2017-06-27T16:06:29.802362Z",
     "start_time": "2017-06-27T16:06:29.798890Z"
    }
   },
   "source": [
    "### Without selection"
   ]
  },
  {
   "cell_type": "code",
   "execution_count": null,
   "metadata": {
    "ExecuteTime": {
     "end_time": "2017-07-10T15:14:21.346102Z",
     "start_time": "2017-07-10T15:14:20.657185Z"
    },
    "collapsed": true
   },
   "outputs": [],
   "source": [
    "# Resampling for imbalanced learn\n",
    "from imblearn.over_sampling import SMOTE \n",
    "\n",
    "sm = SMOTE(random_state=42)\n",
    "X_res, y_res = sm.fit_sample(X_train, y_train)"
   ]
  },
  {
   "cell_type": "code",
   "execution_count": null,
   "metadata": {
    "ExecuteTime": {
     "end_time": "2017-07-08T19:50:27.968989Z",
     "start_time": "2017-07-08T19:50:27.711598Z"
    },
    "collapsed": true
   },
   "outputs": [],
   "source": [
    "clf = ExtraTreesClassifier(n_jobs=-1)\n",
    "clf.fit(X_train, y_train)\n",
    "\n",
    "y_predict = clf.predict(X_test)\n",
    "error_rates = dict([(value, {'sum': 0, 'errors': 0}) for value in np.unique(data[target])])\n",
    "for real, predicted in zip(y_test, y_predict):\n",
    "    if real != predicted:\n",
    "        error_rates[real]['errors'] += 1\n",
    "    error_rates[real]['sum'] += 1\n",
    "error_frame = pd.DataFrame(index=[0], columns=np.unique(data[target]))\n",
    "for value, rates in error_rates.items():\n",
    "    error_frame[value] = [rates['errors'] / (rates['sum'])]\n",
    "error_frame"
   ]
  },
  {
   "cell_type": "code",
   "execution_count": null,
   "metadata": {
    "ExecuteTime": {
     "end_time": "2017-07-08T19:50:29.904423Z",
     "start_time": "2017-07-08T19:50:29.899162Z"
    },
    "collapsed": true
   },
   "outputs": [],
   "source": [
    "error_frame.iloc[0].mean()"
   ]
  },
  {
   "cell_type": "code",
   "execution_count": null,
   "metadata": {
    "ExecuteTime": {
     "end_time": "2017-06-30T14:09:11.391744Z",
     "start_time": "2017-06-30T14:09:11.388894Z"
    },
    "collapsed": true
   },
   "outputs": [],
   "source": [
    "error_rates"
   ]
  },
  {
   "cell_type": "code",
   "execution_count": null,
   "metadata": {
    "ExecuteTime": {
     "end_time": "2017-07-08T15:37:53.035851Z",
     "start_time": "2017-07-08T15:37:52.930064Z"
    },
    "collapsed": true
   },
   "outputs": [],
   "source": [
    "clf.score(X_test, y_test)"
   ]
  },
  {
   "cell_type": "markdown",
   "metadata": {},
   "source": [
    "## DecisionTreeClassifier for Feature Ranking"
   ]
  },
  {
   "cell_type": "code",
   "execution_count": 36,
   "metadata": {
    "ExecuteTime": {
     "end_time": "2017-07-10T21:42:35.682295Z",
     "start_time": "2017-07-10T21:42:35.351800Z"
    }
   },
   "outputs": [
    {
     "data": {
      "text/plain": [
       "0.72791164658634533"
      ]
     },
     "execution_count": 36,
     "metadata": {},
     "output_type": "execute_result"
    }
   ],
   "source": [
    "clf = ExtraTreesClassifier()\n",
    "clf.fit(X_train, y_train)\n",
    "clf.score(X_test, y_test)"
   ]
  },
  {
   "cell_type": "code",
   "execution_count": 43,
   "metadata": {
    "ExecuteTime": {
     "end_time": "2017-07-10T21:43:20.933863Z",
     "start_time": "2017-07-10T21:43:20.839416Z"
    }
   },
   "outputs": [
    {
     "data": {
      "text/plain": [
       "'                   pre       rec       spe        f1       geo       iba       sup\\n\\n        0.0       0.70      0.92      0.74      0.79      0.81      0.64      1961\\n        1.0       0.57      0.35      0.91      0.44      0.68      0.45      1297\\n        2.0       0.08      0.00      1.00      0.01      0.27      0.07       219\\n        3.0       0.86      0.90      0.94      0.88      0.91      0.82      1503\\n\\navg / total       0.69      0.73      0.85      0.69      0.78      0.62      4980\\n'"
      ]
     },
     "execution_count": 43,
     "metadata": {},
     "output_type": "execute_result"
    }
   ],
   "source": [
    "from imblearn.metrics import classification_report_imbalanced\n",
    "\n",
    "classification_report_imbalanced(y_test, clf.predict(X_test))"
   ]
  },
  {
   "cell_type": "code",
   "execution_count": null,
   "metadata": {
    "ExecuteTime": {
     "end_time": "2017-07-10T15:21:53.532562Z",
     "start_time": "2017-07-10T15:21:53.330667Z"
    },
    "collapsed": true
   },
   "outputs": [],
   "source": [
    "y_predict = clf.predict(X_test)\n",
    "error_rates = dict([(value, {'sum': 0, 'errors': 0}) for value in np.unique(data[75])])\n",
    "for real, predicted in zip(y_test, y_predict):\n",
    "    if real != predicted:\n",
    "        error_rates[real]['errors'] += 1\n",
    "    error_rates[real]['sum'] += 1\n",
    "error_frame = pd.DataFrame(index=[0], columns=np.unique(data[75]))\n",
    "for value, rates in error_rates.items():\n",
    "    error_frame[value] = [rates['errors'] / (rates['sum'])]\n",
    "error_frame"
   ]
  },
  {
   "cell_type": "code",
   "execution_count": null,
   "metadata": {
    "ExecuteTime": {
     "end_time": "2017-07-10T15:22:10.050451Z",
     "start_time": "2017-07-10T15:22:09.991121Z"
    },
    "collapsed": true
   },
   "outputs": [],
   "source": [
    "np.unique(data[75], return_counts=True)"
   ]
  },
  {
   "cell_type": "code",
   "execution_count": null,
   "metadata": {
    "ExecuteTime": {
     "end_time": "2017-07-10T14:50:14.469095Z",
     "start_time": "2017-07-10T14:50:14.456379Z"
    },
    "collapsed": true
   },
   "outputs": [],
   "source": [
    "ranking = []\n",
    "for index, importance in enumerate(clf.feature_importances_):\n",
    "    ranking.append((data.columns[index], importance))\n",
    "ranking.sort(key=lambda r: r[1], reverse=True)\n",
    "for (index, rank) in enumerate(ranking):\n",
    "        print('{}. {} with a score of {}'.format(index + 1, rank[0], rank[1]))"
   ]
  },
  {
   "cell_type": "markdown",
   "metadata": {},
   "source": [
    "## Benchmarking with top k features"
   ]
  },
  {
   "cell_type": "code",
   "execution_count": null,
   "metadata": {
    "ExecuteTime": {
     "start_time": "2017-06-08T12:19:24.460Z"
    },
    "collapsed": true
   },
   "outputs": [],
   "source": [
    "import sys\n",
    "\n",
    "scores = pd.DataFrame(columns=['RaR', 'DecisionTree'], index=np.arange(40))\n",
    "scores = scores.fillna(0)\n",
    "max_k = 40\n",
    "\n",
    "# RaR\n",
    "for i in range(1,max_k):\n",
    "    clf_selected = ExtraTreesClassifier(max_features=i, n_jobs=-1)\n",
    "    selected_features = list(map(lambda f: int(f[0]), rar.feature_ranking[:i]))\n",
    "    X_train_s = X_train[selected_features]\n",
    "    X_test_s = X_test[selected_features]\n",
    "    clf_selected.fit(X_train_s, y_train)\n",
    "    scores.loc[i, 'RaR'] = clf_selected.score(X_test_s, y_test)\n",
    "    sys.stdout.write('\\rBenchmark: {}%     '.format(100 * i / (2*max_k)))\n",
    "    sys.stdout.flush()\n",
    "    \n",
    "# DecisionTree\n",
    "for i in range(1,max_k):\n",
    "    clf_selected = ExtraTreesClassifier(max_features=i, n_jobs=-1)\n",
    "    selected_features = [r[0] for r in ranking[:i]]\n",
    "    X_train_s = X_train[selected_features]\n",
    "    X_test_s = X_test[selected_features]\n",
    "    clf_selected.fit(X_train_s, y_train)\n",
    "    scores.loc[i, 'DecisionTree'] = clf_selected.score(X_test_s, y_test)\n",
    "    sys.stdout.write('\\rBenchmark: {}%     '.format(50 + 100 * i / (2*max_k)))\n",
    "    sys.stdout.flush()\n",
    "print('Benchmark: 100.0%')"
   ]
  },
  {
   "cell_type": "code",
   "execution_count": null,
   "metadata": {
    "ExecuteTime": {
     "start_time": "2017-06-08T12:19:27.588Z"
    },
    "collapsed": true
   },
   "outputs": [],
   "source": [
    "import matplotlib.pyplot as plt\n",
    "plt.plot(scores['DecisionTree'], label='DecisionTree')\n",
    "plt.plot(scores['RaR'], label='RaR')\n",
    "plt.legend(bbox_to_anchor=(0., 1.02, 1., .102), loc=3,\n",
    "           ncol=2, mode=\"expand\", borderaxespad=0.)\n",
    "plt.savefig('test4_FS_ExtraTrees_Score')\n",
    "plt.show()"
   ]
  },
  {
   "cell_type": "markdown",
   "metadata": {},
   "source": [
    "## Other"
   ]
  },
  {
   "cell_type": "code",
   "execution_count": null,
   "metadata": {
    "collapsed": true
   },
   "outputs": [],
   "source": [
    "# In case we need to look at the tree\n",
    "from sklearn import tree\n",
    "import pydot\n",
    "from sklearn.externals.six import StringIO\n",
    "dot_data = StringIO()\n",
    "tree.export_graphviz(clf, out_file='tree.dot')"
   ]
  }
 ],
 "metadata": {
  "kernelspec": {
   "display_name": "Python 3",
   "language": "python",
   "name": "python3"
  },
  "language_info": {
   "codemirror_mode": {
    "name": "ipython",
    "version": 3
   },
   "file_extension": ".py",
   "mimetype": "text/x-python",
   "name": "python",
   "nbconvert_exporter": "python",
   "pygments_lexer": "ipython3",
   "version": "3.5.2"
  },
  "notify_time": "30"
 },
 "nbformat": 4,
 "nbformat_minor": 1
}
