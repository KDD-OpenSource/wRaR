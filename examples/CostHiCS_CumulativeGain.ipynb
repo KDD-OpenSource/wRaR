{
 "cells": [
  {
   "cell_type": "code",
   "execution_count": 2,
   "metadata": {
    "ExecuteTime": {
     "end_time": "2017-07-17T21:27:36.236792Z",
     "start_time": "2017-07-17T21:27:35.840228Z"
    },
    "collapsed": true
   },
   "outputs": [],
   "source": [
    "import pandas as pd\n",
    "import numpy as np\n",
    "import hics\n",
    "from sklearn.model_selection import train_test_split\n",
    "from sklearn.tree import DecisionTreeClassifier\n",
    "from sklearn.ensemble import RandomForestClassifier, ExtraTreesClassifier\n",
    "from sklearn import svm"
   ]
  },
  {
   "cell_type": "markdown",
   "metadata": {},
   "source": [
    "1_wHiCS: 10 datasets, each 100 independent features, 40 of them useful  \n",
    "2_wRaR: 10 datasets, each 30 independent features, 20 of them useful, 70 dependent features  \n",
    "3_wRaR: 10 datasets, each 100 independent features, 50 of them useful, 100 dependent features"
   ]
  },
  {
   "cell_type": "code",
   "execution_count": 3,
   "metadata": {
    "ExecuteTime": {
     "end_time": "2017-07-17T21:27:48.707936Z",
     "start_time": "2017-07-17T21:27:37.118211Z"
    },
    "collapsed": true
   },
   "outputs": [],
   "source": [
    "import arff\n",
    "datas = []\n",
    "for i in range(1, 11):\n",
    "    file = open('../data/4_wrar/4_wrar_' + str(i) + '.arff', 'r')\n",
    "    dataset = arff.load(file)\n",
    "    data = pd.DataFrame(dataset['data'])\n",
    "    data[200] = data[200].astype(np.float32)\n",
    "    data.rename(columns=lambda c: str(c), inplace=True)\n",
    "    datas.append(data)\n",
    "target = str(200)"
   ]
  },
  {
   "cell_type": "code",
   "execution_count": 12,
   "metadata": {
    "ExecuteTime": {
     "end_time": "2017-07-18T12:06:16.377104Z",
     "start_time": "2017-07-18T12:06:00.476983Z"
    },
    "collapsed": true
   },
   "outputs": [],
   "source": [
    "import arff\n",
    "file = open('../data/5_wrar.arff', 'r')\n",
    "dataset = arff.load(file)\n",
    "data = pd.DataFrame(dataset['data'])\n",
    "data[60] = data[60].astype(np.float32)\n",
    "data.rename(columns=lambda c: str(c), inplace=True)\n",
    "target = str(60)"
   ]
  },
  {
   "cell_type": "code",
   "execution_count": null,
   "metadata": {
    "ExecuteTime": {
     "start_time": "2017-07-18T13:50:02.696Z"
    }
   },
   "outputs": [
    {
     "name": "stdout",
     "output_type": "stream",
     "text": [
      "Generated cost matrix:\n",
      "        0.0       1.0          2.0        3.0\n",
      "0  1.307301  4.556743  1052.631579  68.212824\n",
      "Overall cost matrix:\n",
      "        0.0       1.0          2.0        3.0\n",
      "0  1.307301  4.556743  1052.631579  68.212824\n",
      "Relevance: 100.00%    \n",
      "Running optimizer...\n",
      "Optimizer done.\n",
      "{'6': 0.03504245039325093, '32': 0.07209567454670966, '18': 0.14586461642497614, '37': 0.06729899632574078, '48': 0.18125887869755677, '46': 0.02780227549392772, '1': 0.3888928873076598, '35': 0.08052161075601011, '39': 0.01711949818428736, '56': 0.034064183822945175, '42': 0.0805911206916858, '13': 0.6049270321797519, '49': 0.04536102651424331, '31': 9.800268938690221e-09, '52': 1.0, '40': 0.181544400788502, '23': 0.043655602768395294, '22': 0.09182361694098688, '14': 0.060416983350696285, '50': 0.09532519111267157, '34': 0.07506010352229832, '41': 0.12366994691225053, '7': 9.78119198088605e-09, '15': 0.21925620051555467, '8': 0.29691711909862345, '12': 0.18115686958500699, '36': 0.017634908260319073, '9': 0.3114106565731153, '43': 0.08941565282578687, '54': 0.22266331749786217, '3': 0.023507325293057397, '28': 9.781762706240876e-09, '4': 0.5087200836477654, '24': 0.05364210762334674, '33': 9.785157730380334e-09, '45': 0.04044583955237979, '5': 0.20729666797650198, '2': 0.08380420939194633, '47': 0.06868233452202717, '0': 0.4096045856345391, '21': 0.18126211767631786, '57': 0.3144798922518457, '10': 0.05116065651362022, '53': 0.18689035598702886, '16': 0.3779179456702489, '17': 0.5416320482304398, '51': 0.06645961522165515, '20': 0.14544651441362053, '30': 0.07467382641590797, '26': 0.18583925500240056, '29': 0.0343735219125706, '27': 0.04579575425453757, '58': 0.1818888573325234, '38': 0.04078752856024216, '25': 0.016906551506872515, '11': 0.08588877280382397, '55': 0.17849611486575637, '19': 0.27607859431291937, '44': 0.06284909432399373, '59': 0.06833339490249676}\n",
      "Redundancy: 43.33%     "
     ]
    }
   ],
   "source": [
    "import csrar\n",
    "from sklearn.neighbors import KNeighborsClassifier\n",
    "from sklearn.naive_bayes import GaussianNB\n",
    "from sklearn.model_selection import cross_val_score\n",
    "\n",
    "max_k = 50\n",
    "classes = np.arange(len(np.unique(datas[0][target])))\n",
    "columns = ['RaR' + str(i) for i in classes] + ['wRaR' + str(i) for i in classes]\n",
    "scores = pd.DataFrame(columns=['wRaR', 'RaR'], index=np.arange(1, max_k + 1)).fillna(0)\n",
    "\n",
    "# Compensating RaR\n",
    "#\n",
    "#\n",
    "rar = csrar.rar.RaR(data)\n",
    "rar.run(target, k=5, runs=200, split_iterations=10, compensate_imbalance=True)\n",
    "\n",
    "# Standard RaR\n",
    "#\n",
    "#\n",
    "rar_nocomp = csrar.rar.RaR(data)\n",
    "rar_nocomp.run(target, k=5, runs=200, split_iterations=10,\n",
    "               compensate_imbalance=False)\n",
    "\n",
    "# Train/Test split\n",
    "X = data.drop(target, axis=1)\n",
    "y = data[target]\n",
    "\n",
    "# Test Classifier\n",
    "#\n",
    "#\n",
    "rank_columns_nocomp = [r[0] for r in rar_nocomp.feature_ranking]\n",
    "from sklearn.metrics import f1_score\n",
    "for k in range(1, max_k + 1):\n",
    "    clf = GaussianNB()\n",
    "    f1_macros = cross_val_score(clf, X, y, cv=10, scoring='f1_macro')\n",
    "    scores.loc[k, 'RaR'] = np.mean(f1_macros)\n",
    "\n",
    "    # clf.fit(X_train[rank_columns_nocomp[:k]], y_train)\n",
    "    # y_predict_ideal = clf.predict(X_test[rank_columns_nocomp[:k]])\n",
    "    # score = f1_score(y_test, y_predict_ideal, average='macro')\n",
    "    # scores.loc[k, 'RaR'] += score\n",
    "    # for i, s in enumerate(score):\n",
    "    #    scores.loc[k, 'RaR' + str(i)] += s\n",
    "\n",
    "rank_columns = [r[0] for r in rar.feature_ranking]\n",
    "for k in range(1, max_k + 1):\n",
    "    clf_selected = GaussianNB()\n",
    "    f1_macros = cross_val_score(clf_selected, X, y, cv=10, scoring='f1_macro')\n",
    "    scores.loc[k, 'wRaR'] = np.mean(f1_macros)\n",
    "    \n",
    "    # clf_selected.fit(X_train[rank_columns[:k]], y_train)\n",
    "    # y_predict = clf_selected.predict(X_test[rank_columns[:k]])\n",
    "    # score = f1_score(y_test, y_predict, average='macro')\n",
    "    # scores.loc[k, 'wRaR'] += score\n",
    "    # for i, s in enumerate(score):\n",
    "    #    scores.loc[k, 'wRaR' + str(i)] += s\n",
    "\n",
    "scores.to_csv('final_wRaR_5wrar_nb_10cv.csv')\n",
    "scores"
   ]
  },
  {
   "cell_type": "code",
   "execution_count": 18,
   "metadata": {
    "ExecuteTime": {
     "end_time": "2017-07-18T13:19:09.990224Z",
     "start_time": "2017-07-18T13:19:09.983049Z"
    }
   },
   "outputs": [
    {
     "data": {
      "text/html": [
       "<div>\n",
       "<style>\n",
       "    .dataframe thead tr:only-child th {\n",
       "        text-align: right;\n",
       "    }\n",
       "\n",
       "    .dataframe thead th {\n",
       "        text-align: left;\n",
       "    }\n",
       "\n",
       "    .dataframe tbody tr th {\n",
       "        vertical-align: top;\n",
       "    }\n",
       "</style>\n",
       "<table border=\"1\" class=\"dataframe\">\n",
       "  <thead>\n",
       "    <tr style=\"text-align: right;\">\n",
       "      <th></th>\n",
       "      <th>wRaR</th>\n",
       "      <th>RaR</th>\n",
       "    </tr>\n",
       "  </thead>\n",
       "  <tbody>\n",
       "    <tr>\n",
       "      <th>1</th>\n",
       "      <td>0</td>\n",
       "      <td>0</td>\n",
       "    </tr>\n",
       "    <tr>\n",
       "      <th>2</th>\n",
       "      <td>0</td>\n",
       "      <td>0</td>\n",
       "    </tr>\n",
       "    <tr>\n",
       "      <th>3</th>\n",
       "      <td>0</td>\n",
       "      <td>0</td>\n",
       "    </tr>\n",
       "    <tr>\n",
       "      <th>4</th>\n",
       "      <td>0</td>\n",
       "      <td>0</td>\n",
       "    </tr>\n",
       "    <tr>\n",
       "      <th>5</th>\n",
       "      <td>0</td>\n",
       "      <td>0</td>\n",
       "    </tr>\n",
       "    <tr>\n",
       "      <th>6</th>\n",
       "      <td>0</td>\n",
       "      <td>0</td>\n",
       "    </tr>\n",
       "    <tr>\n",
       "      <th>7</th>\n",
       "      <td>0</td>\n",
       "      <td>0</td>\n",
       "    </tr>\n",
       "    <tr>\n",
       "      <th>8</th>\n",
       "      <td>0</td>\n",
       "      <td>0</td>\n",
       "    </tr>\n",
       "    <tr>\n",
       "      <th>9</th>\n",
       "      <td>0</td>\n",
       "      <td>0</td>\n",
       "    </tr>\n",
       "    <tr>\n",
       "      <th>10</th>\n",
       "      <td>0</td>\n",
       "      <td>0</td>\n",
       "    </tr>\n",
       "    <tr>\n",
       "      <th>11</th>\n",
       "      <td>0</td>\n",
       "      <td>0</td>\n",
       "    </tr>\n",
       "    <tr>\n",
       "      <th>12</th>\n",
       "      <td>0</td>\n",
       "      <td>0</td>\n",
       "    </tr>\n",
       "    <tr>\n",
       "      <th>13</th>\n",
       "      <td>0</td>\n",
       "      <td>0</td>\n",
       "    </tr>\n",
       "    <tr>\n",
       "      <th>14</th>\n",
       "      <td>0</td>\n",
       "      <td>0</td>\n",
       "    </tr>\n",
       "    <tr>\n",
       "      <th>15</th>\n",
       "      <td>0</td>\n",
       "      <td>0</td>\n",
       "    </tr>\n",
       "    <tr>\n",
       "      <th>16</th>\n",
       "      <td>0</td>\n",
       "      <td>0</td>\n",
       "    </tr>\n",
       "    <tr>\n",
       "      <th>17</th>\n",
       "      <td>0</td>\n",
       "      <td>0</td>\n",
       "    </tr>\n",
       "    <tr>\n",
       "      <th>18</th>\n",
       "      <td>0</td>\n",
       "      <td>0</td>\n",
       "    </tr>\n",
       "    <tr>\n",
       "      <th>19</th>\n",
       "      <td>0</td>\n",
       "      <td>0</td>\n",
       "    </tr>\n",
       "    <tr>\n",
       "      <th>20</th>\n",
       "      <td>0</td>\n",
       "      <td>0</td>\n",
       "    </tr>\n",
       "    <tr>\n",
       "      <th>21</th>\n",
       "      <td>0</td>\n",
       "      <td>0</td>\n",
       "    </tr>\n",
       "    <tr>\n",
       "      <th>22</th>\n",
       "      <td>0</td>\n",
       "      <td>0</td>\n",
       "    </tr>\n",
       "    <tr>\n",
       "      <th>23</th>\n",
       "      <td>0</td>\n",
       "      <td>0</td>\n",
       "    </tr>\n",
       "    <tr>\n",
       "      <th>24</th>\n",
       "      <td>0</td>\n",
       "      <td>0</td>\n",
       "    </tr>\n",
       "    <tr>\n",
       "      <th>25</th>\n",
       "      <td>0</td>\n",
       "      <td>0</td>\n",
       "    </tr>\n",
       "    <tr>\n",
       "      <th>26</th>\n",
       "      <td>0</td>\n",
       "      <td>0</td>\n",
       "    </tr>\n",
       "    <tr>\n",
       "      <th>27</th>\n",
       "      <td>0</td>\n",
       "      <td>0</td>\n",
       "    </tr>\n",
       "    <tr>\n",
       "      <th>28</th>\n",
       "      <td>0</td>\n",
       "      <td>0</td>\n",
       "    </tr>\n",
       "    <tr>\n",
       "      <th>29</th>\n",
       "      <td>0</td>\n",
       "      <td>0</td>\n",
       "    </tr>\n",
       "    <tr>\n",
       "      <th>30</th>\n",
       "      <td>0</td>\n",
       "      <td>0</td>\n",
       "    </tr>\n",
       "    <tr>\n",
       "      <th>31</th>\n",
       "      <td>0</td>\n",
       "      <td>0</td>\n",
       "    </tr>\n",
       "    <tr>\n",
       "      <th>32</th>\n",
       "      <td>0</td>\n",
       "      <td>0</td>\n",
       "    </tr>\n",
       "    <tr>\n",
       "      <th>33</th>\n",
       "      <td>0</td>\n",
       "      <td>0</td>\n",
       "    </tr>\n",
       "    <tr>\n",
       "      <th>34</th>\n",
       "      <td>0</td>\n",
       "      <td>0</td>\n",
       "    </tr>\n",
       "    <tr>\n",
       "      <th>35</th>\n",
       "      <td>0</td>\n",
       "      <td>0</td>\n",
       "    </tr>\n",
       "    <tr>\n",
       "      <th>36</th>\n",
       "      <td>0</td>\n",
       "      <td>0</td>\n",
       "    </tr>\n",
       "    <tr>\n",
       "      <th>37</th>\n",
       "      <td>0</td>\n",
       "      <td>0</td>\n",
       "    </tr>\n",
       "    <tr>\n",
       "      <th>38</th>\n",
       "      <td>0</td>\n",
       "      <td>0</td>\n",
       "    </tr>\n",
       "    <tr>\n",
       "      <th>39</th>\n",
       "      <td>0</td>\n",
       "      <td>0</td>\n",
       "    </tr>\n",
       "    <tr>\n",
       "      <th>40</th>\n",
       "      <td>0</td>\n",
       "      <td>0</td>\n",
       "    </tr>\n",
       "    <tr>\n",
       "      <th>41</th>\n",
       "      <td>0</td>\n",
       "      <td>0</td>\n",
       "    </tr>\n",
       "    <tr>\n",
       "      <th>42</th>\n",
       "      <td>0</td>\n",
       "      <td>0</td>\n",
       "    </tr>\n",
       "    <tr>\n",
       "      <th>43</th>\n",
       "      <td>0</td>\n",
       "      <td>0</td>\n",
       "    </tr>\n",
       "    <tr>\n",
       "      <th>44</th>\n",
       "      <td>0</td>\n",
       "      <td>0</td>\n",
       "    </tr>\n",
       "    <tr>\n",
       "      <th>45</th>\n",
       "      <td>0</td>\n",
       "      <td>0</td>\n",
       "    </tr>\n",
       "    <tr>\n",
       "      <th>46</th>\n",
       "      <td>0</td>\n",
       "      <td>0</td>\n",
       "    </tr>\n",
       "    <tr>\n",
       "      <th>47</th>\n",
       "      <td>0</td>\n",
       "      <td>0</td>\n",
       "    </tr>\n",
       "    <tr>\n",
       "      <th>48</th>\n",
       "      <td>0</td>\n",
       "      <td>0</td>\n",
       "    </tr>\n",
       "    <tr>\n",
       "      <th>49</th>\n",
       "      <td>0</td>\n",
       "      <td>0</td>\n",
       "    </tr>\n",
       "    <tr>\n",
       "      <th>50</th>\n",
       "      <td>0</td>\n",
       "      <td>0</td>\n",
       "    </tr>\n",
       "  </tbody>\n",
       "</table>\n",
       "</div>"
      ],
      "text/plain": [
       "    wRaR  RaR\n",
       "1      0    0\n",
       "2      0    0\n",
       "3      0    0\n",
       "4      0    0\n",
       "5      0    0\n",
       "6      0    0\n",
       "7      0    0\n",
       "8      0    0\n",
       "9      0    0\n",
       "10     0    0\n",
       "11     0    0\n",
       "12     0    0\n",
       "13     0    0\n",
       "14     0    0\n",
       "15     0    0\n",
       "16     0    0\n",
       "17     0    0\n",
       "18     0    0\n",
       "19     0    0\n",
       "20     0    0\n",
       "21     0    0\n",
       "22     0    0\n",
       "23     0    0\n",
       "24     0    0\n",
       "25     0    0\n",
       "26     0    0\n",
       "27     0    0\n",
       "28     0    0\n",
       "29     0    0\n",
       "30     0    0\n",
       "31     0    0\n",
       "32     0    0\n",
       "33     0    0\n",
       "34     0    0\n",
       "35     0    0\n",
       "36     0    0\n",
       "37     0    0\n",
       "38     0    0\n",
       "39     0    0\n",
       "40     0    0\n",
       "41     0    0\n",
       "42     0    0\n",
       "43     0    0\n",
       "44     0    0\n",
       "45     0    0\n",
       "46     0    0\n",
       "47     0    0\n",
       "48     0    0\n",
       "49     0    0\n",
       "50     0    0"
      ]
     },
     "execution_count": 18,
     "metadata": {},
     "output_type": "execute_result"
    }
   ],
   "source": [
    "scores"
   ]
  },
  {
   "cell_type": "code",
   "execution_count": null,
   "metadata": {
    "ExecuteTime": {
     "end_time": "2017-07-11T15:32:12.076949Z",
     "start_time": "2017-07-11T15:32:12.060685Z"
    },
    "collapsed": true
   },
   "outputs": [],
   "source": [
    "# Artificially imbalance dataset\n",
    "class0 = data.loc[data[target] == 0]\n",
    "class1 = data.loc[data[target] == 1]\n",
    "imb_data = pd.concat([class1.sample(frac=0.02), class0]).reset_index(drop=True)\n",
    "# For perfectly balanced dataset, this will result in a 97.56:2.44 ratio"
   ]
  },
  {
   "cell_type": "markdown",
   "metadata": {},
   "source": [
    "## Ground truth"
   ]
  },
  {
   "cell_type": "code",
   "execution_count": null,
   "metadata": {
    "ExecuteTime": {
     "end_time": "2017-07-11T15:32:16.786006Z",
     "start_time": "2017-07-11T15:32:16.763970Z"
    },
    "collapsed": true
   },
   "outputs": [],
   "source": [
    "# For test7.arff\n",
    "weights = [0.5335601544927123, 0.759839177764759, 0.772151052808685, 0.7625265610410171,\n",
    "           0.5612073314384326, 0.34594353279215817, 0.26778115186982904, 0.05104168604756121,\n",
    "           0.24539066769327755, 0.4298986108981449, 0.0, 0.0, 0.0, 0.0, 0.0, 0.0, 0.0, 0.0, 0.0, 0.0]\n",
    "ground_truth = pd.DataFrame(columns=input_features, index=[0])\n",
    "ground_truth.iloc[0] = weights\n",
    "# ground_truth.rename(columns=lambda c: int(c), inplace=True)\n",
    "ground_truth"
   ]
  },
  {
   "cell_type": "code",
   "execution_count": null,
   "metadata": {
    "ExecuteTime": {
     "end_time": "2017-07-11T16:01:27.039704Z",
     "start_time": "2017-07-11T16:01:26.981699Z"
    },
    "collapsed": true
   },
   "outputs": [],
   "source": [
    "# For test8.arff\n",
    "weights = [0.5335601544927123, 0.759839177764759, 0.772151052808685, 0.7625265610410171,\n",
    "           0.5612073314384326, 0.34594353279215817, 0.26778115186982904, 0.05104168604756121,\n",
    "           0.24539066769327755, 0.4298986108981449, 0.0, 0.0, 0.0, 0.0, 0.0, 0.0, 0.0, 0.0, 0.0, 0.0]\n",
    "ground_truth = pd.DataFrame(columns=data.columns[:20], index=[0])\n",
    "ground_truth.iloc[0] = weights\n",
    "# ground_truth.rename(columns=lambda c: int(c), inplace=True)\n",
    "ground_truth"
   ]
  },
  {
   "cell_type": "code",
   "execution_count": null,
   "metadata": {
    "ExecuteTime": {
     "end_time": "2017-07-11T16:38:33.508359Z",
     "start_time": "2017-07-11T16:38:33.485332Z"
    },
    "collapsed": true
   },
   "outputs": [],
   "source": [
    "# For test9.arff\n",
    "weights = [0.7168886878437233, 0.1650913157879492, 0.7017219042598103, 0.5371651431980248,\n",
    "           0.4012494719087343, 0.08997742462568355, 0.4133240085774441, 0.3003377473503873,\n",
    "           0.12858013417222078, 0.5857996257919974, 0.0, 0.0, 0.0, 0.0, 0.0, 0.0, 0.0, 0.0, 0.0, 0.0]\n",
    "ground_truth = pd.DataFrame(columns=data.columns[:20], index=[0])\n",
    "ground_truth.iloc[0] = weights\n",
    "# ground_truth.rename(columns=lambda c: int(c), inplace=True)\n",
    "ground_truth"
   ]
  },
  {
   "cell_type": "code",
   "execution_count": null,
   "metadata": {
    "ExecuteTime": {
     "end_time": "2017-07-12T08:52:39.059210Z",
     "start_time": "2017-07-12T08:52:39.029763Z"
    },
    "collapsed": true
   },
   "outputs": [],
   "source": [
    "# For test10.arff\n",
    "weights = [0.2673055187472877, 0.196159223714542, 0.701161636883324, 0.765385125610722,\n",
    "           0.0011260947105074194, 0.22801651296579062, 0.8949526553930152, 0.13072480437597472,\n",
    "           0.6333889311003507, 0.7420344156127076, 0.0, 0.0, 0.0, 0.0, 0.0, 0.0, 0.0, 0.0, 0.0, 0.0,\n",
    "           0.0, 0.0, 0.0, 0.0, 0.0, 0.0, 0.0, 0.0, 0.0, 0.0, 0.0, 0.0, 0.0, 0.0, 0.0, 0.0, 0.0, 0.0,\n",
    "           0.0, 0.0, 0.0, 0.0, 0.0, 0.0, 0.0, 0.0, 0.0, 0.0, 0.0, 0.0, 0.0, 0.0, 0.0, 0.0, 0.0, 0.0,\n",
    "           0.0, 0.0, 0.0, 0.0, 0.0, 0.0, 0.0, 0.0, 0.0, 0.0, 0.0, 0.0, 0.0, 0.0]\n",
    "ground_truth = pd.DataFrame(columns=data.columns[:70], index=[0])\n",
    "ground_truth.iloc[0] = weights\n",
    "# ground_truth.rename(columns=lambda c: int(c), inplace=True)\n",
    "ground_truth"
   ]
  },
  {
   "cell_type": "code",
   "execution_count": null,
   "metadata": {
    "ExecuteTime": {
     "end_time": "2017-07-12T08:53:11.655906Z",
     "start_time": "2017-07-12T08:53:11.653267Z"
    },
    "collapsed": true
   },
   "outputs": [],
   "source": [
    "ideal_ranking = ground_truth.sort_values(0, axis=1, ascending=False).columns"
   ]
  },
  {
   "cell_type": "markdown",
   "metadata": {
    "ExecuteTime": {
     "end_time": "2017-07-12T08:45:20.511140Z",
     "start_time": "2017-07-12T08:45:20.508965Z"
    }
   },
   "source": [
    "## Compensating HiCS"
   ]
  },
  {
   "cell_type": "markdown",
   "metadata": {
    "collapsed": true
   },
   "source": [
    "## Standard HiCS"
   ]
  },
  {
   "cell_type": "markdown",
   "metadata": {
    "collapsed": true
   },
   "source": [
    "## Testing classifier"
   ]
  },
  {
   "cell_type": "code",
   "execution_count": null,
   "metadata": {
    "ExecuteTime": {
     "end_time": "2017-07-12T10:01:07.693901Z",
     "start_time": "2017-07-12T10:01:07.687405Z"
    },
    "collapsed": true
   },
   "outputs": [],
   "source": [
    "from imblearn.under_sampling import RandomUnderSampler\n",
    "rus = RandomUnderSampler()\n",
    "X_res, y_res = rus.fit_sample(X_train, y_train)\n",
    "X_res = pd.DataFrame(X_res, columns=X_train.columns)\n",
    "# y_res = pd.DataFrame(y_res, columns=[20])"
   ]
  },
  {
   "cell_type": "code",
   "execution_count": null,
   "metadata": {
    "ExecuteTime": {
     "end_time": "2017-07-12T21:47:33.361286Z",
     "start_time": "2017-07-12T21:47:33.357061Z"
    },
    "collapsed": true
   },
   "outputs": [],
   "source": [
    "counts/len(datas[0])"
   ]
  },
  {
   "cell_type": "code",
   "execution_count": null,
   "metadata": {
    "ExecuteTime": {
     "end_time": "2017-07-14T20:04:24.776619Z",
     "start_time": "2017-07-14T20:04:24.455906Z"
    },
    "collapsed": true
   },
   "outputs": [],
   "source": [
    "import matplotlib.pyplot as plt\n",
    "\n",
    "fig, ax = plt.subplots()\n",
    "\n",
    "values, counts = np.unique(datas[0][target], return_counts=True)\n",
    "marg = ax.bar(np.arange(5), counts/len(datas[0]), 0.35, color='green')\n",
    "cond = ax.bar(np.arange(5) + 0.35, [0.03, 0.05, 0.7, 0.07, 0.15], 0.35, color='orange')\n",
    "# ax.bar(np.arange(5), counts/len(data), 0.35, color='green')\n",
    "\n",
    "ax.set_ylabel('Probability')\n",
    "ax.set_xlabel('Class')\n",
    "ax.set_title('Marginal and conditional probabilities')\n",
    "ax.set_xticks(np.arange(5) + 0.35 / 2)\n",
    "ax.set_xticklabels(('$c_1$', '$c_2$', '$c_3$', '$c_4$', '$c_5$'))\n",
    "ax.set_ylim([0, 1])\n",
    "\n",
    "ax.legend((marg, cond), ('Marginal distribution', 'Conditional distribution'))\n",
    "plt.savefig('marg_cond')\n",
    "\n",
    "plt.show()"
   ]
  },
  {
   "cell_type": "code",
   "execution_count": null,
   "metadata": {
    "collapsed": true
   },
   "outputs": [],
   "source": []
  },
  {
   "cell_type": "code",
   "execution_count": null,
   "metadata": {
    "collapsed": true
   },
   "outputs": [],
   "source": []
  },
  {
   "cell_type": "code",
   "execution_count": null,
   "metadata": {
    "ExecuteTime": {
     "end_time": "2017-07-13T08:57:30.935329Z",
     "start_time": "2017-07-13T08:57:30.929454Z"
    },
    "collapsed": true
   },
   "outputs": [],
   "source": [
    "import warnings\n",
    "warnings.filterwarnings('ignore')"
   ]
  },
  {
   "cell_type": "code",
   "execution_count": 5,
   "metadata": {
    "ExecuteTime": {
     "end_time": "2017-07-18T11:18:37.320520Z",
     "start_time": "2017-07-18T11:18:37.305589Z"
    }
   },
   "outputs": [
    {
     "data": {
      "text/html": [
       "<div>\n",
       "<style>\n",
       "    .dataframe thead tr:only-child th {\n",
       "        text-align: right;\n",
       "    }\n",
       "\n",
       "    .dataframe thead th {\n",
       "        text-align: left;\n",
       "    }\n",
       "\n",
       "    .dataframe tbody tr th {\n",
       "        vertical-align: top;\n",
       "    }\n",
       "</style>\n",
       "<table border=\"1\" class=\"dataframe\">\n",
       "  <thead>\n",
       "    <tr style=\"text-align: right;\">\n",
       "      <th></th>\n",
       "      <th>RaR</th>\n",
       "      <th>wRaR</th>\n",
       "    </tr>\n",
       "  </thead>\n",
       "  <tbody>\n",
       "    <tr>\n",
       "      <th>1</th>\n",
       "      <td>0.386124</td>\n",
       "      <td>0.355424</td>\n",
       "    </tr>\n",
       "    <tr>\n",
       "      <th>2</th>\n",
       "      <td>0.400427</td>\n",
       "      <td>0.392254</td>\n",
       "    </tr>\n",
       "    <tr>\n",
       "      <th>3</th>\n",
       "      <td>0.415751</td>\n",
       "      <td>0.400801</td>\n",
       "    </tr>\n",
       "    <tr>\n",
       "      <th>4</th>\n",
       "      <td>0.424124</td>\n",
       "      <td>0.405274</td>\n",
       "    </tr>\n",
       "    <tr>\n",
       "      <th>5</th>\n",
       "      <td>0.428637</td>\n",
       "      <td>0.408962</td>\n",
       "    </tr>\n",
       "    <tr>\n",
       "      <th>6</th>\n",
       "      <td>0.436484</td>\n",
       "      <td>0.415857</td>\n",
       "    </tr>\n",
       "    <tr>\n",
       "      <th>7</th>\n",
       "      <td>0.439664</td>\n",
       "      <td>0.419158</td>\n",
       "    </tr>\n",
       "    <tr>\n",
       "      <th>8</th>\n",
       "      <td>0.443431</td>\n",
       "      <td>0.423684</td>\n",
       "    </tr>\n",
       "    <tr>\n",
       "      <th>9</th>\n",
       "      <td>0.445162</td>\n",
       "      <td>0.426344</td>\n",
       "    </tr>\n",
       "    <tr>\n",
       "      <th>10</th>\n",
       "      <td>0.450587</td>\n",
       "      <td>0.427571</td>\n",
       "    </tr>\n",
       "    <tr>\n",
       "      <th>11</th>\n",
       "      <td>0.456955</td>\n",
       "      <td>0.436025</td>\n",
       "    </tr>\n",
       "    <tr>\n",
       "      <th>12</th>\n",
       "      <td>0.461167</td>\n",
       "      <td>0.437135</td>\n",
       "    </tr>\n",
       "    <tr>\n",
       "      <th>13</th>\n",
       "      <td>0.466843</td>\n",
       "      <td>0.438829</td>\n",
       "    </tr>\n",
       "    <tr>\n",
       "      <th>14</th>\n",
       "      <td>0.463554</td>\n",
       "      <td>0.441155</td>\n",
       "    </tr>\n",
       "    <tr>\n",
       "      <th>15</th>\n",
       "      <td>0.467660</td>\n",
       "      <td>0.441422</td>\n",
       "    </tr>\n",
       "    <tr>\n",
       "      <th>16</th>\n",
       "      <td>0.474253</td>\n",
       "      <td>0.449417</td>\n",
       "    </tr>\n",
       "    <tr>\n",
       "      <th>17</th>\n",
       "      <td>0.475053</td>\n",
       "      <td>0.450472</td>\n",
       "    </tr>\n",
       "    <tr>\n",
       "      <th>18</th>\n",
       "      <td>0.478145</td>\n",
       "      <td>0.452761</td>\n",
       "    </tr>\n",
       "    <tr>\n",
       "      <th>19</th>\n",
       "      <td>0.482125</td>\n",
       "      <td>0.453390</td>\n",
       "    </tr>\n",
       "    <tr>\n",
       "      <th>20</th>\n",
       "      <td>0.484267</td>\n",
       "      <td>0.457230</td>\n",
       "    </tr>\n",
       "    <tr>\n",
       "      <th>21</th>\n",
       "      <td>0.486449</td>\n",
       "      <td>0.456311</td>\n",
       "    </tr>\n",
       "    <tr>\n",
       "      <th>22</th>\n",
       "      <td>0.485235</td>\n",
       "      <td>0.457882</td>\n",
       "    </tr>\n",
       "    <tr>\n",
       "      <th>23</th>\n",
       "      <td>0.489702</td>\n",
       "      <td>0.462450</td>\n",
       "    </tr>\n",
       "    <tr>\n",
       "      <th>24</th>\n",
       "      <td>0.492579</td>\n",
       "      <td>0.463411</td>\n",
       "    </tr>\n",
       "    <tr>\n",
       "      <th>25</th>\n",
       "      <td>0.492716</td>\n",
       "      <td>0.465516</td>\n",
       "    </tr>\n",
       "    <tr>\n",
       "      <th>26</th>\n",
       "      <td>0.493865</td>\n",
       "      <td>0.467730</td>\n",
       "    </tr>\n",
       "    <tr>\n",
       "      <th>27</th>\n",
       "      <td>0.494531</td>\n",
       "      <td>0.470384</td>\n",
       "    </tr>\n",
       "    <tr>\n",
       "      <th>28</th>\n",
       "      <td>0.493978</td>\n",
       "      <td>0.472832</td>\n",
       "    </tr>\n",
       "    <tr>\n",
       "      <th>29</th>\n",
       "      <td>0.493228</td>\n",
       "      <td>0.474803</td>\n",
       "    </tr>\n",
       "    <tr>\n",
       "      <th>30</th>\n",
       "      <td>0.496480</td>\n",
       "      <td>0.475985</td>\n",
       "    </tr>\n",
       "    <tr>\n",
       "      <th>31</th>\n",
       "      <td>0.498627</td>\n",
       "      <td>0.475382</td>\n",
       "    </tr>\n",
       "    <tr>\n",
       "      <th>32</th>\n",
       "      <td>0.498212</td>\n",
       "      <td>0.477485</td>\n",
       "    </tr>\n",
       "    <tr>\n",
       "      <th>33</th>\n",
       "      <td>0.499833</td>\n",
       "      <td>0.481386</td>\n",
       "    </tr>\n",
       "    <tr>\n",
       "      <th>34</th>\n",
       "      <td>0.500347</td>\n",
       "      <td>0.479658</td>\n",
       "    </tr>\n",
       "    <tr>\n",
       "      <th>35</th>\n",
       "      <td>0.503895</td>\n",
       "      <td>0.480279</td>\n",
       "    </tr>\n",
       "    <tr>\n",
       "      <th>36</th>\n",
       "      <td>0.502726</td>\n",
       "      <td>0.481556</td>\n",
       "    </tr>\n",
       "    <tr>\n",
       "      <th>37</th>\n",
       "      <td>0.503755</td>\n",
       "      <td>0.483170</td>\n",
       "    </tr>\n",
       "    <tr>\n",
       "      <th>38</th>\n",
       "      <td>0.504063</td>\n",
       "      <td>0.483209</td>\n",
       "    </tr>\n",
       "    <tr>\n",
       "      <th>39</th>\n",
       "      <td>0.504889</td>\n",
       "      <td>0.484519</td>\n",
       "    </tr>\n",
       "    <tr>\n",
       "      <th>40</th>\n",
       "      <td>0.507115</td>\n",
       "      <td>0.484232</td>\n",
       "    </tr>\n",
       "    <tr>\n",
       "      <th>41</th>\n",
       "      <td>0.507932</td>\n",
       "      <td>0.482425</td>\n",
       "    </tr>\n",
       "    <tr>\n",
       "      <th>42</th>\n",
       "      <td>0.510236</td>\n",
       "      <td>0.483003</td>\n",
       "    </tr>\n",
       "    <tr>\n",
       "      <th>43</th>\n",
       "      <td>0.511644</td>\n",
       "      <td>0.485500</td>\n",
       "    </tr>\n",
       "    <tr>\n",
       "      <th>44</th>\n",
       "      <td>0.515671</td>\n",
       "      <td>0.486160</td>\n",
       "    </tr>\n",
       "    <tr>\n",
       "      <th>45</th>\n",
       "      <td>0.516360</td>\n",
       "      <td>0.487015</td>\n",
       "    </tr>\n",
       "    <tr>\n",
       "      <th>46</th>\n",
       "      <td>0.515399</td>\n",
       "      <td>0.486921</td>\n",
       "    </tr>\n",
       "    <tr>\n",
       "      <th>47</th>\n",
       "      <td>0.516950</td>\n",
       "      <td>0.489585</td>\n",
       "    </tr>\n",
       "    <tr>\n",
       "      <th>48</th>\n",
       "      <td>0.516817</td>\n",
       "      <td>0.491071</td>\n",
       "    </tr>\n",
       "    <tr>\n",
       "      <th>49</th>\n",
       "      <td>0.517066</td>\n",
       "      <td>0.492199</td>\n",
       "    </tr>\n",
       "    <tr>\n",
       "      <th>50</th>\n",
       "      <td>0.518281</td>\n",
       "      <td>0.491660</td>\n",
       "    </tr>\n",
       "  </tbody>\n",
       "</table>\n",
       "</div>"
      ],
      "text/plain": [
       "         RaR      wRaR\n",
       "1   0.386124  0.355424\n",
       "2   0.400427  0.392254\n",
       "3   0.415751  0.400801\n",
       "4   0.424124  0.405274\n",
       "5   0.428637  0.408962\n",
       "6   0.436484  0.415857\n",
       "7   0.439664  0.419158\n",
       "8   0.443431  0.423684\n",
       "9   0.445162  0.426344\n",
       "10  0.450587  0.427571\n",
       "11  0.456955  0.436025\n",
       "12  0.461167  0.437135\n",
       "13  0.466843  0.438829\n",
       "14  0.463554  0.441155\n",
       "15  0.467660  0.441422\n",
       "16  0.474253  0.449417\n",
       "17  0.475053  0.450472\n",
       "18  0.478145  0.452761\n",
       "19  0.482125  0.453390\n",
       "20  0.484267  0.457230\n",
       "21  0.486449  0.456311\n",
       "22  0.485235  0.457882\n",
       "23  0.489702  0.462450\n",
       "24  0.492579  0.463411\n",
       "25  0.492716  0.465516\n",
       "26  0.493865  0.467730\n",
       "27  0.494531  0.470384\n",
       "28  0.493978  0.472832\n",
       "29  0.493228  0.474803\n",
       "30  0.496480  0.475985\n",
       "31  0.498627  0.475382\n",
       "32  0.498212  0.477485\n",
       "33  0.499833  0.481386\n",
       "34  0.500347  0.479658\n",
       "35  0.503895  0.480279\n",
       "36  0.502726  0.481556\n",
       "37  0.503755  0.483170\n",
       "38  0.504063  0.483209\n",
       "39  0.504889  0.484519\n",
       "40  0.507115  0.484232\n",
       "41  0.507932  0.482425\n",
       "42  0.510236  0.483003\n",
       "43  0.511644  0.485500\n",
       "44  0.515671  0.486160\n",
       "45  0.516360  0.487015\n",
       "46  0.515399  0.486921\n",
       "47  0.516950  0.489585\n",
       "48  0.516817  0.491071\n",
       "49  0.517066  0.492199\n",
       "50  0.518281  0.491660"
      ]
     },
     "execution_count": 5,
     "metadata": {},
     "output_type": "execute_result"
    }
   ],
   "source": [
    "scores"
   ]
  },
  {
   "cell_type": "code",
   "execution_count": null,
   "metadata": {
    "ExecuteTime": {
     "end_time": "2017-07-17T13:18:49.993385Z",
     "start_time": "2017-07-17T13:18:49.971165Z"
    },
    "collapsed": true
   },
   "outputs": [],
   "source": [
    "for data in datas:\n",
    "    values, counts = np.unique(data[target], return_counts=True)\n",
    "    print(counts/len(data))"
   ]
  },
  {
   "cell_type": "code",
   "execution_count": null,
   "metadata": {
    "ExecuteTime": {
     "end_time": "2017-07-17T21:19:41.849443Z",
     "start_time": "2017-07-17T21:19:41.840916Z"
    },
    "collapsed": true
   },
   "outputs": [],
   "source": [
    "columns[:3]"
   ]
  },
  {
   "cell_type": "code",
   "execution_count": 9,
   "metadata": {
    "ExecuteTime": {
     "end_time": "2017-07-18T11:47:39.835357Z",
     "start_time": "2017-07-18T11:47:39.645687Z"
    }
   },
   "outputs": [
    {
     "data": {
      "image/png": "[encoded data removed]",
      "text/plain": [
       "<matplotlib.figure.Figure at 0x7ff88fd0b4e0>"
      ]
     },
     "metadata": {},
     "output_type": "display_data"
    }
   ],
   "source": [
    "import matplotlib.pyplot as plt\n",
    "plt.plot(scores['RaR'][:50], label='RaR')\n",
    "plt.plot(scores['wRaR'][:50], label='wRaR')\n",
    "ax = plt.gca()\n",
    "ax.set_xlabel('Number of features')\n",
    "ax.set_ylabel(r'Macro-averaged $F_1$ score')\n",
    "plt.legend(bbox_to_anchor=(0., 1.02, 1., .102), loc=3,\n",
    "           ncol=2, mode=\"expand\", borderaxespad=0.)\n",
    "plt.savefig('final_wRaR_3wrar_nb_best50')\n",
    "plt.show()"
   ]
  },
  {
   "cell_type": "code",
   "execution_count": null,
   "metadata": {
    "collapsed": true
   },
   "outputs": [],
   "source": []
  },
  {
   "cell_type": "code",
   "execution_count": null,
   "metadata": {
    "collapsed": true
   },
   "outputs": [],
   "source": []
  },
  {
   "cell_type": "code",
   "execution_count": null,
   "metadata": {
    "collapsed": true
   },
   "outputs": [],
   "source": []
  },
  {
   "cell_type": "code",
   "execution_count": null,
   "metadata": {
    "ExecuteTime": {
     "end_time": "2017-07-12T18:18:46.261757Z",
     "start_time": "2017-07-12T18:18:42.143869Z"
    },
    "collapsed": true
   },
   "outputs": [],
   "source": [
    "k = 15\n",
    "results_nocomp = []\n",
    "rank_columns_nocomp = [r[0] for r in rar_nocomp.feature_ranking]\n",
    "from sklearn.metrics import f1_score\n",
    "for j in range(25):\n",
    "    clf = RandomForestClassifier()\n",
    "    clf.fit(X_train[rank_columns_nocomp[:k]], y_train)\n",
    "    y_predict_ideal = clf.predict(X_test[rank_columns_nocomp[:k]])\n",
    "    results_nocomp.append(f1_score(y_test, y_predict_ideal, average='macro'))\n",
    "\n",
    "results = []\n",
    "rank_columns = [r[0] for r in rar.feature_ranking]\n",
    "for j in range(25):\n",
    "    clf_selected = RandomForestClassifier()\n",
    "    clf_selected.fit(X_train[rank_columns[:k]], y_train)\n",
    "    y_predict = clf_selected.predict(X_test[rank_columns[:k]])\n",
    "    results.append(f1_score(y_test, y_predict, average='macro'))\n",
    "\n",
    "print('Dataset 1_whics_' + str(i+1))#, file=log)\n",
    "print('Weighted RaR macro-weighted F1: ' + str(np.mean(results)))#, file=log)\n",
    "print('Standard RaR macro-weighted F1: ' + str(np.mean(results_nocomp)))#, file=log)\n",
    "print('Difference weighted-standard: ' + str(np.mean(results) - np.mean(results_nocomp)))#, file=log)"
   ]
  },
  {
   "cell_type": "markdown",
   "metadata": {},
   "source": [
    "## Cumulative Gain"
   ]
  },
  {
   "cell_type": "code",
   "execution_count": null,
   "metadata": {
    "ExecuteTime": {
     "end_time": "2017-07-12T10:18:42.590702Z",
     "start_time": "2017-07-12T10:18:42.425386Z"
    },
    "collapsed": true
   },
   "outputs": [],
   "source": [
    "ideal_CG = [ground_truth.loc[0, ideal_ranking[:i].values].sum()\n",
    "            for i in range(len(ideal_ranking))]\n",
    "CG = [ground_truth.loc[0, [r for r in rank_columns[:i]]].sum()\n",
    "      for i in range(len(rank_columns))]\n",
    "nocomp_CG = [ground_truth.loc[0, [r for r in rank_columns_nocomp[:i]]].sum()\n",
    "             for i in range(len(rank_columns_nocomp))]"
   ]
  },
  {
   "cell_type": "code",
   "execution_count": null,
   "metadata": {
    "ExecuteTime": {
     "end_time": "2017-07-12T10:18:43.542142Z",
     "start_time": "2017-07-12T10:18:43.425054Z"
    },
    "collapsed": true
   },
   "outputs": [],
   "source": [
    "import matplotlib.pyplot as plt\n",
    "plt.plot(CG, label='Cumulative Gain Compensating HiCS')\n",
    "plt.plot(nocomp_CG, label='Cumulative Gain Standard HiCS')\n",
    "plt.plot(ideal_CG, label='Ideal gain')\n",
    "plt.legend(bbox_to_anchor=(0., 1.02, 1., .102), loc=3,\n",
    "           ncol=2, mode=\"expand\", borderaxespad=0.)\n",
    "# plt.savefig('HiCS_test7_comp_imb2_CG_weightmod1-8')\n",
    "plt.show()"
   ]
  },
  {
   "cell_type": "markdown",
   "metadata": {},
   "source": [
    "## Rankings"
   ]
  },
  {
   "cell_type": "code",
   "execution_count": null,
   "metadata": {
    "ExecuteTime": {
     "end_time": "2017-07-12T10:20:32.297493Z",
     "start_time": "2017-07-12T10:20:32.287261Z"
    },
    "collapsed": true
   },
   "outputs": [],
   "source": [
    "rank_columns_nocomp"
   ]
  },
  {
   "cell_type": "code",
   "execution_count": null,
   "metadata": {
    "ExecuteTime": {
     "end_time": "2017-07-12T10:20:30.514372Z",
     "start_time": "2017-07-12T10:20:30.504454Z"
    },
    "collapsed": true
   },
   "outputs": [],
   "source": [
    "rank_columns"
   ]
  },
  {
   "cell_type": "code",
   "execution_count": null,
   "metadata": {
    "ExecuteTime": {
     "end_time": "2017-07-11T16:50:21.019698Z",
     "start_time": "2017-07-11T16:50:20.946172Z"
    },
    "collapsed": true
   },
   "outputs": [],
   "source": [
    "ideal_ranking"
   ]
  },
  {
   "cell_type": "code",
   "execution_count": null,
   "metadata": {
    "ExecuteTime": {
     "end_time": "2017-07-14T00:28:02.788684Z",
     "start_time": "2017-07-14T00:13:20.765977Z"
    },
    "collapsed": true
   },
   "outputs": [],
   "source": [
    "log = open('binary_wHiCS_log.txt', 'w')\n",
    "for i, data in enumerate(datas):\n",
    "    # Compensating HiCS\n",
    "    #\n",
    "    #\n",
    "    values, counts = np.unique(data[target], return_counts=True)\n",
    "    cost_matrix = pd.DataFrame(columns=values)\n",
    "    for value, count in zip(values, counts):\n",
    "        weighting = (len(data) / count)\n",
    "        cost_matrix[value] = [weighting]\n",
    "    cost_matrix = cost_matrix\n",
    "    cost_matrix\n",
    "\n",
    "    from hics.result_storage import DefaultResultStorage\n",
    "    input_features = [ft for ft in data.columns.values if ft != target]\n",
    "    storage = DefaultResultStorage(input_features)\n",
    "\n",
    "    from hics.incremental_correlation import IncrementalCorrelation\n",
    "    correlation = IncrementalCorrelation(data, target, storage,\n",
    "                                         iterations=50, alpha=0.1,\n",
    "                                         drop_discrete=False, cost_matrix=cost_matrix)\n",
    "\n",
    "    correlation.update_bivariate_relevancies(runs=5)\n",
    "\n",
    "    ranking = storage.get_relevancies().relevancy.sort_values(ascending=False)\n",
    "    rank_columns = [tup[0] for tup in ranking.index.values]\n",
    "\n",
    "    # Standard HiCS\n",
    "    #\n",
    "    #\n",
    "    input_features = [ft for ft in data.columns.values if ft != target]\n",
    "    storage_nocomp = DefaultResultStorage(input_features)\n",
    "    correlation_nocomp = IncrementalCorrelation(data, target, storage_nocomp,\n",
    "                                                iterations=50, alpha=0.1,\n",
    "                                                drop_discrete=False, cost_matrix=None)\n",
    "\n",
    "    correlation_nocomp.update_bivariate_relevancies(runs=5)\n",
    "\n",
    "    ranking_nocomp = storage_nocomp.get_relevancies(\n",
    "    ).relevancy.sort_values(ascending=False)\n",
    "    rank_columns_nocomp = [tup[0] for tup in ranking_nocomp.index.values]\n",
    "\n",
    "    # Train/Test split\n",
    "    X = data.drop(target, axis=1)\n",
    "    y = data[target]\n",
    "    X_train, X_test, y_train, y_test = train_test_split(X, y, test_size=0.2)\n",
    "\n",
    "    # Test Classifier\n",
    "    #\n",
    "    #\n",
    "    k = 10\n",
    "    results_nocomp = []\n",
    "    from sklearn.metrics import f1_score\n",
    "    for j in range(100):\n",
    "        clf = RandomForestClassifier()\n",
    "        clf.fit(X_train[rank_columns_nocomp[:k]], y_train)\n",
    "        y_predict_ideal = clf.predict(X_test[rank_columns_nocomp[:k]])\n",
    "        results_nocomp.append(\n",
    "            f1_score(y_test, y_predict_ideal, average='macro'))\n",
    "\n",
    "    results = []\n",
    "    for j in range(100):\n",
    "        clf_selected = RandomForestClassifier()\n",
    "        clf_selected.fit(X_train[rank_columns[:k]], y_train)\n",
    "        y_predict = clf_selected.predict(X_test[rank_columns[:k]])\n",
    "        results.append(f1_score(y_test, y_predict, average='macro'))\n",
    "    \n",
    "    print('Dataset 1_whics_' + str(i+1), file=log)\n",
    "    print('Weighted RaR macro-weighted F1: ' + str(np.mean(results)), file=log)\n",
    "    print('Standard RaR macro-weighted F1: ' + str(np.mean(results_nocomp)), file=log)\n",
    "    print('Difference weighted-standard: ' + str(np.mean(results) - np.mean(results_nocomp)), file=log)\n",
    "    log.flush()"
   ]
  },
  {
   "cell_type": "code",
   "execution_count": null,
   "metadata": {
    "collapsed": true
   },
   "outputs": [],
   "source": [
    "import csrar\n",
    "from sklearn.neighbors import KNeighborsClassifier\n",
    "from sklearn.naive_bayes import GaussianNB\n",
    "from sklearn.model_selection import cross_val_predict\n",
    "\n",
    "max_k = 50\n",
    "classes = np.arange(len(np.unique(datas[0][target])))\n",
    "columns = ['RaR' + str(i) for i in classes] + ['wRaR' + str(i) for i in classes]\n",
    "scores = pd.DataFrame(columns=columns, index=np.arange(1,max_k+1)).fillna(0)\n",
    "\n",
    "for data in datas:\n",
    "    # Compensating RaR\n",
    "    #\n",
    "    #\n",
    "    rar = csrar.rar.RaR(data)\n",
    "    rar.run(target, k=5, runs=200, split_iterations=10, compensate_imbalance=True)\n",
    "\n",
    "    # Standard RaR\n",
    "    #\n",
    "    #\n",
    "    rar_nocomp = csrar.rar.RaR(data)\n",
    "    rar_nocomp.run(target, k=5, runs=200, split_iterations=10, compensate_imbalance=False)\n",
    "\n",
    "    # Train/Test split\n",
    "    X = data.drop(target, axis=1)\n",
    "    y = data[target]\n",
    "    X_train, X_test, y_train, y_test = train_test_split(X, y, test_size=0.2)\n",
    "\n",
    "    # Test Classifier\n",
    "    #\n",
    "    #\n",
    "    rank_columns_nocomp = [r[0] for r in rar_nocomp.feature_ranking]\n",
    "    from sklearn.metrics import f1_score\n",
    "    for k in range(1, max_k+1):\n",
    "        clf = GaussianNB()\n",
    "        clf.fit(X_train[rank_columns_nocomp[:k]], y_train)\n",
    "        y_predict_ideal = clf.predict(X_test[rank_columns_nocomp[:k]])\n",
    "        score = f1_score(y_test, y_predict_ideal, average='macro')\n",
    "        scores.loc[k, 'RaR'] += score\n",
    "        for i, s in enumerate(score):\n",
    "            scores.loc[k, 'RaR' + str(i)] += s\n",
    "        \n",
    "    rank_columns = [r[0] for r in rar.feature_ranking]\n",
    "    for k in range(1, max_k+1):\n",
    "        clf_selected = GaussianNB()\n",
    "        clf_selected.fit(X_train[rank_columns[:k]], y_train)\n",
    "        y_predict = clf_selected.predict(X_test[rank_columns[:k]])\n",
    "        score = f1_score(y_test, y_predict, average='macro')\n",
    "        scores.loc[k, 'wRaR'] += score\n",
    "        for i, s in enumerate(score):\n",
    "            scores.loc[k, 'wRaR' + str(i)] += s\n",
    "\n",
    "scores /= len(datas)\n",
    "scores.to_csv('final_wRaR_3wrar_nb.csv')\n",
    "scores"
   ]
  }
 ],
 "metadata": {
  "kernelspec": {
   "display_name": "Python 3",
   "language": "python",
   "name": "python3"
  },
  "language_info": {
   "codemirror_mode": {
    "name": "ipython",
    "version": 3
   },
   "file_extension": ".py",
   "mimetype": "text/x-python",
   "name": "python",
   "nbconvert_exporter": "python",
   "pygments_lexer": "ipython3",
   "version": "3.5.2"
  },
  "notify_time": "30"
 },
 "nbformat": 4,
 "nbformat_minor": 1
}
